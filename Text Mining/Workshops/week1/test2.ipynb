{
 "cells": [
  {
   "cell_type": "code",
   "execution_count": 1,
   "metadata": {
    "collapsed": true
   },
   "outputs": [],
   "source": [
    "import requests"
   ]
  },
  {
   "cell_type": "code",
   "execution_count": 2,
   "metadata": {
    "collapsed": true
   },
   "outputs": [],
   "source": [
    "url = 'http://www.omdbapi.com/?apikey=ff21610b&t=Wolf Warrior'"
   ]
  },
  {
   "cell_type": "code",
   "execution_count": 3,
   "metadata": {
    "collapsed": true
   },
   "outputs": [],
   "source": [
    "r = requests.get(url)"
   ]
  },
  {
   "cell_type": "code",
   "execution_count": 24,
   "metadata": {},
   "outputs": [
    {
     "data": {
      "text/plain": [
       "'{\"Title\":\"Wolf Warrior\",\"Year\":\"2015\",\"Rated\":\"N/A\",\"Released\":\"06 Apr 2015\",\"Runtime\":\"90 min\",\"Genre\":\"Action, Crime, Thriller\",\"Director\":\"Jing Wu\",\"Writer\":\"Qun Dong, Yan Gao, Yi Liu, Jing Wu\",\"Actors\":\"Jing Wu, Nan Yu, Dahong Ni, Zhu Xiao\",\"Plot\":\"A Chinese special force soldier with extraordinary marksmanship is confronted by a group of deadly foreign mercenaries who are hired to assassinate him by a vicious drug lord.\",\"Language\":\"Mandarin\",\"Country\":\"China\",\"Awards\":\"3 wins & 11 nominations.\",\"Poster\":\"https://images-na.ssl-images-amazon.com/images/M/MV5BMzI5NDQ0MDU2M15BMl5BanBnXkFtZTgwNDMyMTIyNjE@._V1_SX300.jpg\",\"Ratings\":[{\"Source\":\"Internet Movie Database\",\"Value\":\"5.4/10\"}],\"Metascore\":\"N/A\",\"imdbRating\":\"5.4\",\"imdbVotes\":\"1,624\",\"imdbID\":\"tt3540136\",\"Type\":\"movie\",\"DVD\":\"N/A\",\"BoxOffice\":\"N/A\",\"Production\":\"N/A\",\"Website\":\"N/A\",\"Response\":\"True\"}'"
      ]
     },
     "execution_count": 24,
     "metadata": {},
     "output_type": "execute_result"
    }
   ],
   "source": [
    "r.text"
   ]
  },
  {
   "cell_type": "code",
   "execution_count": 8,
   "metadata": {
    "collapsed": true
   },
   "outputs": [],
   "source": [
    "json_data = r.json()"
   ]
  },
  {
   "cell_type": "code",
   "execution_count": 22,
   "metadata": {},
   "outputs": [
    {
     "name": "stdout",
     "output_type": "stream",
     "text": [
      "Title:  Wolf Warrior\n",
      "Year:  2015\n",
      "Rated:  N/A\n",
      "Released:  06 Apr 2015\n",
      "Runtime:  90 min\n",
      "Genre:  Action, Crime, Thriller\n",
      "Director:  Jing Wu\n",
      "Writer:  Qun Dong, Yan Gao, Yi Liu, Jing Wu\n",
      "Actors:  Jing Wu, Nan Yu, Dahong Ni, Zhu Xiao\n",
      "Plot:  A Chinese special force soldier with extraordinary marksmanship is confronted by a group of deadly foreign mercenaries who are hired to assassinate him by a vicious drug lord.\n",
      "Language:  Mandarin\n",
      "Country:  China\n",
      "Awards:  3 wins & 11 nominations.\n",
      "Poster:  https://images-na.ssl-images-amazon.com/images/M/MV5BMzI5NDQ0MDU2M15BMl5BanBnXkFtZTgwNDMyMTIyNjE@._V1_SX300.jpg\n",
      "Ratings:  [{'Source': 'Internet Movie Database', 'Value': '5.4/10'}]\n",
      "Metascore:  N/A\n",
      "imdbRating:  5.4\n",
      "imdbVotes:  1,624\n",
      "imdbID:  tt3540136\n",
      "Type:  movie\n",
      "DVD:  N/A\n",
      "BoxOffice:  N/A\n",
      "Production:  N/A\n",
      "Website:  N/A\n",
      "Response:  True\n"
     ]
    }
   ],
   "source": [
    "for k in json_data.keys():\n",
    "    print(k + ': ', json_data[k])"
   ]
  },
  {
   "cell_type": "code",
   "execution_count": 23,
   "metadata": {},
   "outputs": [
    {
     "data": {
      "text/plain": [
       "{'Actors': 'Jing Wu, Nan Yu, Dahong Ni, Zhu Xiao',\n",
       " 'Awards': '3 wins & 11 nominations.',\n",
       " 'BoxOffice': 'N/A',\n",
       " 'Country': 'China',\n",
       " 'DVD': 'N/A',\n",
       " 'Director': 'Jing Wu',\n",
       " 'Genre': 'Action, Crime, Thriller',\n",
       " 'Language': 'Mandarin',\n",
       " 'Metascore': 'N/A',\n",
       " 'Plot': 'A Chinese special force soldier with extraordinary marksmanship is confronted by a group of deadly foreign mercenaries who are hired to assassinate him by a vicious drug lord.',\n",
       " 'Poster': 'https://images-na.ssl-images-amazon.com/images/M/MV5BMzI5NDQ0MDU2M15BMl5BanBnXkFtZTgwNDMyMTIyNjE@._V1_SX300.jpg',\n",
       " 'Production': 'N/A',\n",
       " 'Rated': 'N/A',\n",
       " 'Ratings': [{'Source': 'Internet Movie Database', 'Value': '5.4/10'}],\n",
       " 'Released': '06 Apr 2015',\n",
       " 'Response': 'True',\n",
       " 'Runtime': '90 min',\n",
       " 'Title': 'Wolf Warrior',\n",
       " 'Type': 'movie',\n",
       " 'Website': 'N/A',\n",
       " 'Writer': 'Qun Dong, Yan Gao, Yi Liu, Jing Wu',\n",
       " 'Year': '2015',\n",
       " 'imdbID': 'tt3540136',\n",
       " 'imdbRating': '5.4',\n",
       " 'imdbVotes': '1,624'}"
      ]
     },
     "execution_count": 23,
     "metadata": {},
     "output_type": "execute_result"
    }
   ],
   "source": [
    "json_data"
   ]
  }
 ],
 "metadata": {
  "kernelspec": {
   "display_name": "Python 3",
   "language": "python",
   "name": "python3"
  },
  "language_info": {
   "codemirror_mode": {
    "name": "ipython",
    "version": 3
   },
   "file_extension": ".py",
   "mimetype": "text/x-python",
   "name": "python",
   "nbconvert_exporter": "python",
   "pygments_lexer": "ipython3",
   "version": "3.5.0"
  }
 },
 "nbformat": 4,
 "nbformat_minor": 2
}
