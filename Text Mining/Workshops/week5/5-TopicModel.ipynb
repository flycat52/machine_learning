{
 "cells": [
  {
   "cell_type": "code",
   "execution_count": 1,
   "metadata": {},
   "outputs": [
    {
     "data": {
      "text/html": [
       "<div>\n",
       "<style>\n",
       "    .dataframe thead tr:only-child th {\n",
       "        text-align: right;\n",
       "    }\n",
       "\n",
       "    .dataframe thead th {\n",
       "        text-align: left;\n",
       "    }\n",
       "\n",
       "    .dataframe tbody tr th {\n",
       "        vertical-align: top;\n",
       "    }\n",
       "</style>\n",
       "<table border=\"1\" class=\"dataframe\">\n",
       "  <thead>\n",
       "    <tr style=\"text-align: right;\">\n",
       "      <th></th>\n",
       "      <th>Class</th>\n",
       "      <th>Text</th>\n",
       "    </tr>\n",
       "  </thead>\n",
       "  <tbody>\n",
       "    <tr>\n",
       "      <th>15</th>\n",
       "      <td>trade</td>\n",
       "      <td>brazil anti inflation plan limps to anniversar...</td>\n",
       "    </tr>\n",
       "    <tr>\n",
       "      <th>43</th>\n",
       "      <td>crude</td>\n",
       "      <td>diamond shamrock dia cuts crude prices diamond...</td>\n",
       "    </tr>\n",
       "    <tr>\n",
       "      <th>55</th>\n",
       "      <td>crude</td>\n",
       "      <td>opec may have to meet to firm prices analysts ...</td>\n",
       "    </tr>\n",
       "    <tr>\n",
       "      <th>76</th>\n",
       "      <td>crude</td>\n",
       "      <td>texaco canada cuts crude prices canadian cts b...</td>\n",
       "    </tr>\n",
       "    <tr>\n",
       "      <th>77</th>\n",
       "      <td>crude</td>\n",
       "      <td>texaco canada txc lowers crude postings texaco...</td>\n",
       "    </tr>\n",
       "  </tbody>\n",
       "</table>\n",
       "</div>"
      ],
      "text/plain": [
       "    Class                                               Text\n",
       "15  trade  brazil anti inflation plan limps to anniversar...\n",
       "43  crude  diamond shamrock dia cuts crude prices diamond...\n",
       "55  crude  opec may have to meet to firm prices analysts ...\n",
       "76  crude  texaco canada cuts crude prices canadian cts b...\n",
       "77  crude  texaco canada txc lowers crude postings texaco..."
      ]
     },
     "execution_count": 1,
     "metadata": {},
     "output_type": "execute_result"
    }
   ],
   "source": [
    "# In this workshop we perform topic modeling using gensim\n",
    "\n",
    "# We are using the subnews dataset that we used last week. \n",
    "# The \"Class\" labels here are only used for sanity check of the topics discovered later.\n",
    "# Remember, in actual use of topic modelling, the documents DON'T come with labeled classes.\n",
    "# It's unsupervised learning.\n",
    "\n",
    "import pandas as pd\n",
    "news=pd.read_table('r8-train-all-terms.txt',header=None,names = [\"Class\", \"Text\"])\n",
    "subnews=news[(news.Class==\"trade\")| (news.Class=='crude')|(news.Class=='money-fx') ]\n",
    "subnews.head()"
   ]
  },
  {
   "cell_type": "code",
   "execution_count": 2,
   "metadata": {
    "collapsed": true
   },
   "outputs": [],
   "source": [
    "# Let's use the similar preprocessing we used last week.\n",
    "# The output of each document is a list of tokens.\n",
    "\n",
    "import nltk\n",
    "from nltk.corpus import stopwords\n",
    "mystopwords=stopwords.words(\"English\") + ['one', 'become', 'get', 'make', 'take']\n",
    "WNlemma = nltk.WordNetLemmatizer()\n",
    "\n",
    "def pre_process(text):\n",
    "    tokens = nltk.word_tokenize(text)\n",
    "    tokens=[ WNlemma.lemmatize(t.lower()) for t in tokens]\n",
    "    tokens=[ t for t in tokens if t not in mystopwords]\n",
    "    tokens = [ t for t in tokens if len(t) >= 3 ]\n",
    "    return(tokens)"
   ]
  },
  {
   "cell_type": "code",
   "execution_count": 3,
   "metadata": {
    "collapsed": true
   },
   "outputs": [],
   "source": [
    "#split the data into training and testing\n",
    "from sklearn.model_selection import train_test_split\n",
    "X_train, X_test, y_train, y_test = train_test_split(subnews.Text, subnews.Class, test_size=0.33, random_state=12)\n"
   ]
  },
  {
   "cell_type": "code",
   "execution_count": 4,
   "metadata": {
    "collapsed": true
   },
   "outputs": [],
   "source": [
    "# Apply preprocessing to every document in the training set.\n",
    "toks_train = X_train.apply(pre_process)\n"
   ]
  },
  {
   "cell_type": "code",
   "execution_count": 5,
   "metadata": {
    "collapsed": true
   },
   "outputs": [],
   "source": [
    "import logging\n",
    "import gensim \n",
    "from gensim import corpora\n",
    "\n",
    "logging.basicConfig(format='%(asctime)s : %(levelname)s : %(message)s', level=logging.INFO)"
   ]
  },
  {
   "cell_type": "code",
   "execution_count": 6,
   "metadata": {},
   "outputs": [
    {
     "name": "stderr",
     "output_type": "stream",
     "text": [
      "2017-09-30 12:03:45,789 : INFO : adding document #0 to Dictionary(0 unique tokens: [])\n",
      "2017-09-30 12:03:45,859 : INFO : built Dictionary(5971 unique tokens: ['multi', 'mobil', 'grown', 'interim', 'expense']...) from 475 documents (total 57987 corpus positions)\n"
     ]
    },
    {
     "name": "stdout",
     "output_type": "stream",
     "text": [
      "Dictionary(5971 unique tokens: ['multi', 'mobil', 'grown', 'interim', 'expense']...)\n"
     ]
    }
   ],
   "source": [
    "# Prepare a vocabulary dictionary.\n",
    "dictionary = corpora.Dictionary(toks_train)\n",
    "print(dictionary)"
   ]
  },
  {
   "cell_type": "code",
   "execution_count": 7,
   "metadata": {},
   "outputs": [
    {
     "data": {
      "text/plain": [
       "109"
      ]
     },
     "execution_count": 7,
     "metadata": {},
     "output_type": "execute_result"
    }
   ],
   "source": [
    "# It's mappings between ids and tokens\n",
    "# To get a token's id\n",
    "dictionary.token2id['exchange']"
   ]
  },
  {
   "cell_type": "code",
   "execution_count": 8,
   "metadata": {},
   "outputs": [
    {
     "data": {
      "text/plain": [
       "'three'"
      ]
     },
     "execution_count": 8,
     "metadata": {},
     "output_type": "execute_result"
    }
   ],
   "source": [
    "# To get the token of an id\n",
    "dictionary[157]"
   ]
  },
  {
   "cell_type": "code",
   "execution_count": 9,
   "metadata": {
    "scrolled": true
   },
   "outputs": [
    {
     "name": "stderr",
     "output_type": "stream",
     "text": [
      "2017-09-30 12:03:45,894 : INFO : discarding 3537 tokens: [('mandating', 2), ('frightening', 2), ('toughening', 2), ('wedge', 2), ('said', 403), ('reuter', 408), ('moyana', 1), ('receipt', 1), ('inward', 1), ('delay', 1)]...\n",
      "2017-09-30 12:03:45,896 : INFO : keeping 2434 tokens which were in no less than 3 and no more than 332 (=70.0%) documents\n",
      "2017-09-30 12:03:45,899 : INFO : resulting dictionary: Dictionary(2434 unique tokens: ['region', 'mobil', 'must', 'grown', 'shift']...)\n"
     ]
    },
    {
     "name": "stdout",
     "output_type": "stream",
     "text": [
      "Dictionary(2434 unique tokens: ['region', 'mobil', 'must', 'grown', 'shift']...)\n"
     ]
    }
   ],
   "source": [
    "# Filter off any words with document frequency less than 3, or appearing in more than 80% documents\n",
    "dictionary.filter_extremes(no_below=3, no_above=0.7)\n",
    "print(dictionary)"
   ]
  },
  {
   "cell_type": "code",
   "execution_count": 10,
   "metadata": {
    "collapsed": true
   },
   "outputs": [],
   "source": [
    "# Use the dictionary to prepare a DTM (using TF)\n",
    "dtm_train = [dictionary.doc2bow(d) for d in toks_train ]"
   ]
  },
  {
   "cell_type": "code",
   "execution_count": 33,
   "metadata": {
    "scrolled": true
   },
   "outputs": [
    {
     "name": "stderr",
     "output_type": "stream",
     "text": [
      "2017-09-30 12:08:51,519 : INFO : using symmetric alpha at 0.3333333333333333\n",
      "2017-09-30 12:08:51,522 : INFO : using symmetric eta at 0.0004108463434675431\n",
      "2017-09-30 12:08:51,525 : INFO : using serial LDA version on this node\n",
      "2017-09-30 12:08:51,571 : INFO : running online (multi-pass) LDA training, 3 topics, 100 passes over the supplied corpus of 475 documents, updating model once every 475 documents, evaluating perplexity every 475 documents, iterating 50x with a convergence threshold of 0.001000\n",
      "2017-09-30 12:08:53,441 : INFO : -8.311 per-word bound, 317.5 perplexity estimate based on a held-out corpus of 475 documents with 50286 words\n",
      "2017-09-30 12:08:53,441 : INFO : PROGRESS: pass 0, at document #475/475\n",
      "2017-09-30 12:08:54,202 : INFO : topic #0 (0.333): 0.016*\"trade\" + 0.015*\"mln\" + 0.014*\"oil\" + 0.011*\"dlrs\" + 0.010*\"billion\" + 0.010*\"would\" + 0.009*\"market\" + 0.009*\"price\" + 0.008*\"bank\" + 0.007*\"bpd\"\n",
      "2017-09-30 12:08:54,203 : INFO : topic #1 (0.333): 0.017*\"trade\" + 0.014*\"oil\" + 0.010*\"price\" + 0.009*\"would\" + 0.008*\"opec\" + 0.008*\"last\" + 0.008*\"year\" + 0.008*\"market\" + 0.007*\"official\" + 0.007*\"billion\"\n",
      "2017-09-30 12:08:54,204 : INFO : topic #2 (0.333): 0.016*\"trade\" + 0.015*\"oil\" + 0.012*\"japan\" + 0.011*\"mln\" + 0.009*\"bank\" + 0.009*\"would\" + 0.009*\"market\" + 0.008*\"dlrs\" + 0.008*\"year\" + 0.008*\"pct\"\n",
      "2017-09-30 12:08:54,204 : INFO : topic diff=0.991055, rho=1.000000\n",
      "2017-09-30 12:08:55,921 : INFO : -7.096 per-word bound, 136.8 perplexity estimate based on a held-out corpus of 475 documents with 50286 words\n",
      "2017-09-30 12:08:55,922 : INFO : PROGRESS: pass 1, at document #475/475\n",
      "2017-09-30 12:08:56,542 : INFO : topic #0 (0.333): 0.019*\"mln\" + 0.016*\"trade\" + 0.015*\"oil\" + 0.014*\"dlrs\" + 0.013*\"billion\" + 0.010*\"market\" + 0.010*\"bank\" + 0.009*\"would\" + 0.009*\"price\" + 0.009*\"bpd\"\n",
      "2017-09-30 12:08:56,543 : INFO : topic #1 (0.333): 0.017*\"trade\" + 0.015*\"oil\" + 0.010*\"price\" + 0.010*\"opec\" + 0.010*\"would\" + 0.008*\"last\" + 0.008*\"official\" + 0.008*\"year\" + 0.007*\"market\" + 0.007*\"country\"\n",
      "2017-09-30 12:08:56,544 : INFO : topic #2 (0.333): 0.016*\"trade\" + 0.014*\"oil\" + 0.013*\"japan\" + 0.009*\"bank\" + 0.009*\"would\" + 0.009*\"market\" + 0.009*\"mln\" + 0.008*\"year\" + 0.008*\"pct\" + 0.007*\"dlrs\"\n",
      "2017-09-30 12:08:56,545 : INFO : topic diff=0.259389, rho=0.577350\n",
      "2017-09-30 12:08:58,233 : INFO : -7.031 per-word bound, 130.8 perplexity estimate based on a held-out corpus of 475 documents with 50286 words\n",
      "2017-09-30 12:08:58,234 : INFO : PROGRESS: pass 2, at document #475/475\n",
      "2017-09-30 12:08:58,781 : INFO : topic #0 (0.333): 0.024*\"mln\" + 0.017*\"oil\" + 0.016*\"dlrs\" + 0.015*\"billion\" + 0.013*\"trade\" + 0.012*\"bank\" + 0.011*\"market\" + 0.010*\"bpd\" + 0.010*\"price\" + 0.009*\"stg\"\n",
      "2017-09-30 12:08:58,782 : INFO : topic #1 (0.333): 0.018*\"trade\" + 0.015*\"oil\" + 0.010*\"opec\" + 0.010*\"price\" + 0.010*\"would\" + 0.008*\"official\" + 0.008*\"last\" + 0.008*\"year\" + 0.007*\"country\" + 0.007*\"market\"\n",
      "2017-09-30 12:08:58,783 : INFO : topic #2 (0.333): 0.016*\"trade\" + 0.014*\"japan\" + 0.012*\"oil\" + 0.009*\"would\" + 0.009*\"market\" + 0.008*\"bank\" + 0.008*\"pct\" + 0.008*\"year\" + 0.007*\"japanese\" + 0.007*\"mln\"\n",
      "2017-09-30 12:08:58,784 : INFO : topic diff=0.217285, rho=0.500000\n",
      "2017-09-30 12:09:00,399 : INFO : -6.989 per-word bound, 127.0 perplexity estimate based on a held-out corpus of 475 documents with 50286 words\n",
      "2017-09-30 12:09:00,400 : INFO : PROGRESS: pass 3, at document #475/475\n",
      "2017-09-30 12:09:00,925 : INFO : topic #0 (0.333): 0.027*\"mln\" + 0.018*\"oil\" + 0.018*\"dlrs\" + 0.016*\"billion\" + 0.013*\"bank\" + 0.012*\"bpd\" + 0.011*\"trade\" + 0.011*\"market\" + 0.011*\"crude\" + 0.011*\"price\"\n",
      "2017-09-30 12:09:00,925 : INFO : topic #1 (0.333): 0.018*\"trade\" + 0.015*\"oil\" + 0.011*\"opec\" + 0.010*\"price\" + 0.010*\"would\" + 0.008*\"official\" + 0.008*\"country\" + 0.007*\"year\" + 0.007*\"last\" + 0.006*\"market\"\n",
      "2017-09-30 12:09:00,926 : INFO : topic #2 (0.333): 0.018*\"trade\" + 0.015*\"japan\" + 0.011*\"oil\" + 0.010*\"would\" + 0.009*\"market\" + 0.008*\"year\" + 0.008*\"pct\" + 0.008*\"bank\" + 0.008*\"japanese\" + 0.006*\"government\"\n",
      "2017-09-30 12:09:00,927 : INFO : topic diff=0.173999, rho=0.447214\n",
      "2017-09-30 12:09:02,540 : INFO : -6.961 per-word bound, 124.6 perplexity estimate based on a held-out corpus of 475 documents with 50286 words\n",
      "2017-09-30 12:09:02,541 : INFO : PROGRESS: pass 4, at document #475/475\n",
      "2017-09-30 12:09:03,052 : INFO : topic #0 (0.333): 0.029*\"mln\" + 0.020*\"oil\" + 0.019*\"dlrs\" + 0.017*\"billion\" + 0.014*\"bank\" + 0.013*\"bpd\" + 0.012*\"crude\" + 0.011*\"market\" + 0.011*\"price\" + 0.010*\"stg\"\n",
      "2017-09-30 12:09:03,053 : INFO : topic #1 (0.333): 0.018*\"trade\" + 0.016*\"oil\" + 0.011*\"opec\" + 0.010*\"price\" + 0.010*\"would\" + 0.008*\"country\" + 0.008*\"official\" + 0.007*\"year\" + 0.007*\"last\" + 0.006*\"market\"\n",
      "2017-09-30 12:09:03,054 : INFO : topic #2 (0.333): 0.019*\"trade\" + 0.016*\"japan\" + 0.010*\"oil\" + 0.010*\"would\" + 0.009*\"market\" + 0.008*\"japanese\" + 0.008*\"year\" + 0.007*\"pct\" + 0.007*\"bank\" + 0.006*\"government\"\n",
      "2017-09-30 12:09:03,055 : INFO : topic diff=0.143226, rho=0.408248\n",
      "2017-09-30 12:09:04,646 : INFO : -6.942 per-word bound, 122.9 perplexity estimate based on a held-out corpus of 475 documents with 50286 words\n",
      "2017-09-30 12:09:04,647 : INFO : PROGRESS: pass 5, at document #475/475\n",
      "2017-09-30 12:09:05,140 : INFO : topic #0 (0.333): 0.031*\"mln\" + 0.021*\"oil\" + 0.020*\"dlrs\" + 0.018*\"billion\" + 0.015*\"bank\" + 0.013*\"bpd\" + 0.013*\"crude\" + 0.012*\"price\" + 0.012*\"market\" + 0.010*\"stg\"\n",
      "2017-09-30 12:09:05,141 : INFO : topic #1 (0.333): 0.017*\"trade\" + 0.016*\"oil\" + 0.011*\"opec\" + 0.010*\"price\" + 0.010*\"would\" + 0.008*\"country\" + 0.007*\"official\" + 0.007*\"year\" + 0.007*\"last\" + 0.007*\"minister\"\n",
      "2017-09-30 12:09:05,141 : INFO : topic #2 (0.333): 0.020*\"trade\" + 0.016*\"japan\" + 0.010*\"would\" + 0.009*\"oil\" + 0.009*\"market\" + 0.009*\"japanese\" + 0.008*\"year\" + 0.007*\"pct\" + 0.007*\"bank\" + 0.006*\"government\"\n",
      "2017-09-30 12:09:05,142 : INFO : topic diff=0.119963, rho=0.377964\n",
      "2017-09-30 12:09:06,712 : INFO : -6.928 per-word bound, 121.7 perplexity estimate based on a held-out corpus of 475 documents with 50286 words\n",
      "2017-09-30 12:09:06,713 : INFO : PROGRESS: pass 6, at document #475/475\n",
      "2017-09-30 12:09:07,196 : INFO : topic #0 (0.333): 0.032*\"mln\" + 0.022*\"oil\" + 0.021*\"dlrs\" + 0.018*\"billion\" + 0.016*\"bank\" + 0.014*\"bpd\" + 0.014*\"crude\" + 0.013*\"price\" + 0.012*\"market\" + 0.011*\"stg\"\n",
      "2017-09-30 12:09:07,197 : INFO : topic #1 (0.333): 0.017*\"trade\" + 0.016*\"oil\" + 0.011*\"opec\" + 0.010*\"price\" + 0.010*\"would\" + 0.008*\"country\" + 0.007*\"year\" + 0.007*\"official\" + 0.007*\"last\" + 0.007*\"minister\"\n",
      "2017-09-30 12:09:07,198 : INFO : topic #2 (0.333): 0.021*\"trade\" + 0.017*\"japan\" + 0.010*\"would\" + 0.009*\"japanese\" + 0.009*\"market\" + 0.008*\"oil\" + 0.008*\"year\" + 0.007*\"pct\" + 0.007*\"bank\" + 0.006*\"government\"\n",
      "2017-09-30 12:09:07,199 : INFO : topic diff=0.100079, rho=0.353553\n",
      "2017-09-30 12:09:08,758 : INFO : -6.918 per-word bound, 120.9 perplexity estimate based on a held-out corpus of 475 documents with 50286 words\n",
      "2017-09-30 12:09:08,758 : INFO : PROGRESS: pass 7, at document #475/475\n",
      "2017-09-30 12:09:09,221 : INFO : topic #0 (0.333): 0.033*\"mln\" + 0.023*\"oil\" + 0.022*\"dlrs\" + 0.018*\"billion\" + 0.016*\"bank\" + 0.014*\"crude\" + 0.014*\"bpd\" + 0.013*\"price\" + 0.012*\"market\" + 0.011*\"stg\"\n",
      "2017-09-30 12:09:09,221 : INFO : topic #1 (0.333): 0.017*\"oil\" + 0.017*\"trade\" + 0.011*\"opec\" + 0.010*\"would\" + 0.010*\"price\" + 0.008*\"country\" + 0.007*\"year\" + 0.007*\"official\" + 0.007*\"minister\" + 0.007*\"last\"\n",
      "2017-09-30 12:09:09,222 : INFO : topic #2 (0.333): 0.022*\"trade\" + 0.017*\"japan\" + 0.011*\"would\" + 0.009*\"japanese\" + 0.009*\"market\" + 0.008*\"oil\" + 0.008*\"year\" + 0.006*\"bank\" + 0.006*\"pct\" + 0.006*\"official\"\n",
      "2017-09-30 12:09:09,223 : INFO : topic diff=0.084270, rho=0.333333\n",
      "2017-09-30 12:09:10,769 : INFO : -6.910 per-word bound, 120.2 perplexity estimate based on a held-out corpus of 475 documents with 50286 words\n",
      "2017-09-30 12:09:10,770 : INFO : PROGRESS: pass 8, at document #475/475\n",
      "2017-09-30 12:09:11,231 : INFO : topic #0 (0.333): 0.033*\"mln\" + 0.024*\"oil\" + 0.022*\"dlrs\" + 0.018*\"billion\" + 0.017*\"bank\" + 0.014*\"crude\" + 0.014*\"bpd\" + 0.014*\"price\" + 0.012*\"market\" + 0.010*\"stg\"\n",
      "2017-09-30 12:09:11,232 : INFO : topic #1 (0.333): 0.017*\"oil\" + 0.016*\"trade\" + 0.011*\"opec\" + 0.011*\"would\" + 0.010*\"price\" + 0.008*\"country\" + 0.007*\"minister\" + 0.007*\"year\" + 0.007*\"official\" + 0.007*\"last\"\n"
     ]
    },
    {
     "name": "stderr",
     "output_type": "stream",
     "text": [
      "2017-09-30 12:09:11,233 : INFO : topic #2 (0.333): 0.022*\"trade\" + 0.017*\"japan\" + 0.011*\"would\" + 0.009*\"japanese\" + 0.009*\"market\" + 0.008*\"year\" + 0.007*\"oil\" + 0.006*\"official\" + 0.006*\"government\" + 0.006*\"bank\"\n",
      "2017-09-30 12:09:11,234 : INFO : topic diff=0.072753, rho=0.316228\n",
      "2017-09-30 12:09:12,764 : INFO : -6.904 per-word bound, 119.7 perplexity estimate based on a held-out corpus of 475 documents with 50286 words\n",
      "2017-09-30 12:09:12,765 : INFO : PROGRESS: pass 9, at document #475/475\n",
      "2017-09-30 12:09:13,209 : INFO : topic #0 (0.333): 0.034*\"mln\" + 0.025*\"oil\" + 0.023*\"dlrs\" + 0.019*\"billion\" + 0.017*\"bank\" + 0.014*\"crude\" + 0.014*\"bpd\" + 0.014*\"price\" + 0.012*\"market\" + 0.011*\"pct\"\n",
      "2017-09-30 12:09:13,210 : INFO : topic #1 (0.333): 0.017*\"oil\" + 0.015*\"trade\" + 0.012*\"opec\" + 0.011*\"would\" + 0.010*\"price\" + 0.008*\"country\" + 0.008*\"minister\" + 0.007*\"year\" + 0.007*\"official\" + 0.007*\"last\"\n",
      "2017-09-30 12:09:13,211 : INFO : topic #2 (0.333): 0.023*\"trade\" + 0.017*\"japan\" + 0.011*\"would\" + 0.009*\"japanese\" + 0.009*\"market\" + 0.008*\"year\" + 0.006*\"official\" + 0.006*\"oil\" + 0.006*\"government\" + 0.006*\"industry\"\n",
      "2017-09-30 12:09:13,211 : INFO : topic diff=0.063729, rho=0.301511\n",
      "2017-09-30 12:09:14,734 : INFO : -6.898 per-word bound, 119.3 perplexity estimate based on a held-out corpus of 475 documents with 50286 words\n",
      "2017-09-30 12:09:14,735 : INFO : PROGRESS: pass 10, at document #475/475\n",
      "2017-09-30 12:09:15,172 : INFO : topic #0 (0.333): 0.034*\"mln\" + 0.026*\"oil\" + 0.023*\"dlrs\" + 0.019*\"billion\" + 0.017*\"bank\" + 0.015*\"crude\" + 0.014*\"bpd\" + 0.014*\"price\" + 0.012*\"market\" + 0.011*\"pct\"\n",
      "2017-09-30 12:09:15,173 : INFO : topic #1 (0.333): 0.017*\"oil\" + 0.015*\"trade\" + 0.012*\"opec\" + 0.011*\"would\" + 0.010*\"price\" + 0.008*\"country\" + 0.008*\"minister\" + 0.007*\"year\" + 0.007*\"official\" + 0.007*\"last\"\n",
      "2017-09-30 12:09:15,173 : INFO : topic #2 (0.333): 0.024*\"trade\" + 0.017*\"japan\" + 0.011*\"would\" + 0.009*\"japanese\" + 0.009*\"market\" + 0.008*\"year\" + 0.006*\"official\" + 0.006*\"government\" + 0.006*\"industry\" + 0.006*\"oil\"\n",
      "2017-09-30 12:09:15,174 : INFO : topic diff=0.056475, rho=0.288675\n",
      "2017-09-30 12:09:16,695 : INFO : -6.894 per-word bound, 118.9 perplexity estimate based on a held-out corpus of 475 documents with 50286 words\n",
      "2017-09-30 12:09:16,696 : INFO : PROGRESS: pass 11, at document #475/475\n",
      "2017-09-30 12:09:17,134 : INFO : topic #0 (0.333): 0.034*\"mln\" + 0.026*\"oil\" + 0.023*\"dlrs\" + 0.019*\"billion\" + 0.017*\"bank\" + 0.015*\"crude\" + 0.014*\"bpd\" + 0.014*\"price\" + 0.012*\"market\" + 0.012*\"pct\"\n",
      "2017-09-30 12:09:17,135 : INFO : topic #1 (0.333): 0.018*\"oil\" + 0.014*\"trade\" + 0.012*\"opec\" + 0.011*\"would\" + 0.011*\"price\" + 0.008*\"country\" + 0.008*\"minister\" + 0.007*\"year\" + 0.007*\"official\" + 0.007*\"last\"\n",
      "2017-09-30 12:09:17,136 : INFO : topic #2 (0.333): 0.024*\"trade\" + 0.017*\"japan\" + 0.011*\"would\" + 0.009*\"japanese\" + 0.009*\"market\" + 0.008*\"year\" + 0.007*\"official\" + 0.006*\"government\" + 0.006*\"industry\" + 0.006*\"country\"\n",
      "2017-09-30 12:09:17,137 : INFO : topic diff=0.050539, rho=0.277350\n",
      "2017-09-30 12:09:18,673 : INFO : -6.890 per-word bound, 118.6 perplexity estimate based on a held-out corpus of 475 documents with 50286 words\n",
      "2017-09-30 12:09:18,674 : INFO : PROGRESS: pass 12, at document #475/475\n",
      "2017-09-30 12:09:19,103 : INFO : topic #0 (0.333): 0.034*\"mln\" + 0.027*\"oil\" + 0.023*\"dlrs\" + 0.019*\"billion\" + 0.017*\"bank\" + 0.015*\"crude\" + 0.015*\"price\" + 0.014*\"bpd\" + 0.012*\"market\" + 0.012*\"pct\"\n",
      "2017-09-30 12:09:19,104 : INFO : topic #1 (0.333): 0.018*\"oil\" + 0.013*\"trade\" + 0.012*\"opec\" + 0.011*\"would\" + 0.011*\"price\" + 0.008*\"minister\" + 0.008*\"country\" + 0.007*\"year\" + 0.007*\"official\" + 0.007*\"last\"\n",
      "2017-09-30 12:09:19,105 : INFO : topic #2 (0.333): 0.025*\"trade\" + 0.017*\"japan\" + 0.011*\"would\" + 0.009*\"japanese\" + 0.009*\"market\" + 0.008*\"year\" + 0.007*\"official\" + 0.006*\"country\" + 0.006*\"government\" + 0.006*\"industry\"\n",
      "2017-09-30 12:09:19,106 : INFO : topic diff=0.045692, rho=0.267261\n",
      "2017-09-30 12:09:20,624 : INFO : -6.886 per-word bound, 118.3 perplexity estimate based on a held-out corpus of 475 documents with 50286 words\n",
      "2017-09-30 12:09:20,624 : INFO : PROGRESS: pass 13, at document #475/475\n",
      "2017-09-30 12:09:21,050 : INFO : topic #0 (0.333): 0.034*\"mln\" + 0.027*\"oil\" + 0.023*\"dlrs\" + 0.019*\"billion\" + 0.017*\"bank\" + 0.015*\"price\" + 0.015*\"crude\" + 0.014*\"bpd\" + 0.012*\"pct\" + 0.012*\"market\"\n",
      "2017-09-30 12:09:21,050 : INFO : topic #1 (0.333): 0.018*\"oil\" + 0.013*\"trade\" + 0.012*\"opec\" + 0.011*\"would\" + 0.011*\"price\" + 0.008*\"minister\" + 0.008*\"country\" + 0.007*\"official\" + 0.007*\"year\" + 0.007*\"last\"\n",
      "2017-09-30 12:09:21,051 : INFO : topic #2 (0.333): 0.025*\"trade\" + 0.017*\"japan\" + 0.011*\"would\" + 0.009*\"japanese\" + 0.009*\"market\" + 0.008*\"year\" + 0.007*\"official\" + 0.006*\"country\" + 0.006*\"government\" + 0.006*\"industry\"\n",
      "2017-09-30 12:09:21,052 : INFO : topic diff=0.041622, rho=0.258199\n",
      "2017-09-30 12:09:22,570 : INFO : -6.883 per-word bound, 118.1 perplexity estimate based on a held-out corpus of 475 documents with 50286 words\n",
      "2017-09-30 12:09:22,571 : INFO : PROGRESS: pass 14, at document #475/475\n",
      "2017-09-30 12:09:22,990 : INFO : topic #0 (0.333): 0.035*\"mln\" + 0.028*\"oil\" + 0.024*\"dlrs\" + 0.019*\"billion\" + 0.017*\"bank\" + 0.015*\"price\" + 0.015*\"crude\" + 0.014*\"bpd\" + 0.012*\"pct\" + 0.012*\"market\"\n",
      "2017-09-30 12:09:22,991 : INFO : topic #1 (0.333): 0.018*\"oil\" + 0.012*\"opec\" + 0.012*\"trade\" + 0.011*\"price\" + 0.011*\"would\" + 0.008*\"minister\" + 0.008*\"country\" + 0.007*\"official\" + 0.007*\"year\" + 0.007*\"last\"\n",
      "2017-09-30 12:09:22,992 : INFO : topic #2 (0.333): 0.026*\"trade\" + 0.017*\"japan\" + 0.011*\"would\" + 0.009*\"japanese\" + 0.009*\"market\" + 0.008*\"year\" + 0.007*\"official\" + 0.006*\"country\" + 0.006*\"industry\" + 0.006*\"government\"\n",
      "2017-09-30 12:09:22,993 : INFO : topic diff=0.038074, rho=0.250000\n",
      "2017-09-30 12:09:24,501 : INFO : -6.880 per-word bound, 117.8 perplexity estimate based on a held-out corpus of 475 documents with 50286 words\n",
      "2017-09-30 12:09:24,502 : INFO : PROGRESS: pass 15, at document #475/475\n",
      "2017-09-30 12:09:24,915 : INFO : topic #0 (0.333): 0.035*\"mln\" + 0.028*\"oil\" + 0.024*\"dlrs\" + 0.019*\"billion\" + 0.017*\"bank\" + 0.015*\"price\" + 0.015*\"crude\" + 0.014*\"bpd\" + 0.013*\"pct\" + 0.012*\"market\"\n",
      "2017-09-30 12:09:24,916 : INFO : topic #1 (0.333): 0.019*\"oil\" + 0.012*\"opec\" + 0.012*\"trade\" + 0.011*\"price\" + 0.011*\"would\" + 0.008*\"minister\" + 0.008*\"country\" + 0.007*\"official\" + 0.007*\"year\" + 0.007*\"last\"\n",
      "2017-09-30 12:09:24,917 : INFO : topic #2 (0.333): 0.026*\"trade\" + 0.017*\"japan\" + 0.011*\"would\" + 0.009*\"japanese\" + 0.009*\"market\" + 0.008*\"year\" + 0.007*\"official\" + 0.006*\"country\" + 0.006*\"agreement\" + 0.006*\"foreign\"\n",
      "2017-09-30 12:09:24,918 : INFO : topic diff=0.034323, rho=0.242536\n",
      "2017-09-30 12:09:26,422 : INFO : -6.878 per-word bound, 117.6 perplexity estimate based on a held-out corpus of 475 documents with 50286 words\n",
      "2017-09-30 12:09:26,423 : INFO : PROGRESS: pass 16, at document #475/475\n",
      "2017-09-30 12:09:26,831 : INFO : topic #0 (0.333): 0.035*\"mln\" + 0.028*\"oil\" + 0.024*\"dlrs\" + 0.019*\"billion\" + 0.018*\"bank\" + 0.015*\"price\" + 0.015*\"crude\" + 0.014*\"bpd\" + 0.013*\"pct\" + 0.012*\"market\"\n",
      "2017-09-30 12:09:26,832 : INFO : topic #1 (0.333): 0.019*\"oil\" + 0.013*\"opec\" + 0.011*\"trade\" + 0.011*\"price\" + 0.011*\"would\" + 0.008*\"minister\" + 0.008*\"country\" + 0.007*\"official\" + 0.007*\"year\" + 0.007*\"ecuador\"\n",
      "2017-09-30 12:09:26,833 : INFO : topic #2 (0.333): 0.026*\"trade\" + 0.017*\"japan\" + 0.012*\"would\" + 0.009*\"japanese\" + 0.009*\"market\" + 0.008*\"year\" + 0.007*\"official\" + 0.006*\"country\" + 0.006*\"foreign\" + 0.006*\"agreement\"\n",
      "2017-09-30 12:09:26,834 : INFO : topic diff=0.030758, rho=0.235702\n",
      "2017-09-30 12:09:28,330 : INFO : -6.876 per-word bound, 117.5 perplexity estimate based on a held-out corpus of 475 documents with 50286 words\n",
      "2017-09-30 12:09:28,331 : INFO : PROGRESS: pass 17, at document #475/475\n",
      "2017-09-30 12:09:28,748 : INFO : topic #0 (0.333): 0.035*\"mln\" + 0.028*\"oil\" + 0.024*\"dlrs\" + 0.019*\"billion\" + 0.018*\"bank\" + 0.015*\"price\" + 0.015*\"crude\" + 0.014*\"bpd\" + 0.013*\"pct\" + 0.012*\"market\"\n",
      "2017-09-30 12:09:28,749 : INFO : topic #1 (0.333): 0.019*\"oil\" + 0.013*\"opec\" + 0.011*\"trade\" + 0.011*\"price\" + 0.011*\"would\" + 0.009*\"minister\" + 0.008*\"country\" + 0.007*\"official\" + 0.007*\"ecuador\" + 0.007*\"year\"\n"
     ]
    },
    {
     "name": "stderr",
     "output_type": "stream",
     "text": [
      "2017-09-30 12:09:28,750 : INFO : topic #2 (0.333): 0.027*\"trade\" + 0.017*\"japan\" + 0.012*\"would\" + 0.009*\"japanese\" + 0.009*\"market\" + 0.008*\"year\" + 0.007*\"official\" + 0.006*\"country\" + 0.006*\"foreign\" + 0.006*\"agreement\"\n",
      "2017-09-30 12:09:28,751 : INFO : topic diff=0.027923, rho=0.229416\n",
      "2017-09-30 12:09:30,301 : INFO : -6.874 per-word bound, 117.3 perplexity estimate based on a held-out corpus of 475 documents with 50286 words\n",
      "2017-09-30 12:09:30,302 : INFO : PROGRESS: pass 18, at document #475/475\n",
      "2017-09-30 12:09:30,702 : INFO : topic #0 (0.333): 0.035*\"mln\" + 0.029*\"oil\" + 0.024*\"dlrs\" + 0.019*\"billion\" + 0.018*\"bank\" + 0.015*\"price\" + 0.015*\"crude\" + 0.014*\"bpd\" + 0.013*\"pct\" + 0.012*\"market\"\n",
      "2017-09-30 12:09:30,703 : INFO : topic #1 (0.333): 0.019*\"oil\" + 0.013*\"opec\" + 0.011*\"price\" + 0.011*\"trade\" + 0.011*\"would\" + 0.009*\"minister\" + 0.008*\"country\" + 0.007*\"official\" + 0.007*\"ecuador\" + 0.007*\"year\"\n",
      "2017-09-30 12:09:30,704 : INFO : topic #2 (0.333): 0.027*\"trade\" + 0.017*\"japan\" + 0.012*\"would\" + 0.009*\"japanese\" + 0.009*\"market\" + 0.008*\"year\" + 0.007*\"official\" + 0.006*\"country\" + 0.006*\"foreign\" + 0.006*\"agreement\"\n",
      "2017-09-30 12:09:30,705 : INFO : topic diff=0.025572, rho=0.223607\n",
      "2017-09-30 12:09:32,387 : INFO : -6.873 per-word bound, 117.2 perplexity estimate based on a held-out corpus of 475 documents with 50286 words\n",
      "2017-09-30 12:09:32,388 : INFO : PROGRESS: pass 19, at document #475/475\n",
      "2017-09-30 12:09:32,996 : INFO : topic #0 (0.333): 0.035*\"mln\" + 0.029*\"oil\" + 0.024*\"dlrs\" + 0.019*\"billion\" + 0.018*\"bank\" + 0.015*\"price\" + 0.015*\"crude\" + 0.014*\"bpd\" + 0.013*\"pct\" + 0.012*\"market\"\n",
      "2017-09-30 12:09:32,998 : INFO : topic #1 (0.333): 0.020*\"oil\" + 0.013*\"opec\" + 0.011*\"price\" + 0.011*\"would\" + 0.010*\"trade\" + 0.009*\"minister\" + 0.008*\"country\" + 0.007*\"official\" + 0.007*\"ecuador\" + 0.007*\"year\"\n",
      "2017-09-30 12:09:32,999 : INFO : topic #2 (0.333): 0.027*\"trade\" + 0.017*\"japan\" + 0.012*\"would\" + 0.009*\"japanese\" + 0.009*\"market\" + 0.008*\"year\" + 0.007*\"official\" + 0.006*\"country\" + 0.006*\"foreign\" + 0.006*\"agreement\"\n",
      "2017-09-30 12:09:33,000 : INFO : topic diff=0.023548, rho=0.218218\n",
      "2017-09-30 12:09:35,302 : INFO : -6.872 per-word bound, 117.1 perplexity estimate based on a held-out corpus of 475 documents with 50286 words\n",
      "2017-09-30 12:09:35,303 : INFO : PROGRESS: pass 20, at document #475/475\n",
      "2017-09-30 12:09:35,838 : INFO : topic #0 (0.333): 0.035*\"mln\" + 0.029*\"oil\" + 0.024*\"dlrs\" + 0.019*\"billion\" + 0.018*\"bank\" + 0.015*\"price\" + 0.014*\"crude\" + 0.014*\"bpd\" + 0.014*\"pct\" + 0.012*\"market\"\n",
      "2017-09-30 12:09:35,839 : INFO : topic #1 (0.333): 0.020*\"oil\" + 0.013*\"opec\" + 0.011*\"price\" + 0.011*\"would\" + 0.010*\"trade\" + 0.009*\"minister\" + 0.008*\"country\" + 0.007*\"ecuador\" + 0.007*\"official\" + 0.007*\"year\"\n",
      "2017-09-30 12:09:35,840 : INFO : topic #2 (0.333): 0.027*\"trade\" + 0.017*\"japan\" + 0.012*\"would\" + 0.010*\"japanese\" + 0.009*\"market\" + 0.008*\"year\" + 0.007*\"official\" + 0.006*\"country\" + 0.006*\"foreign\" + 0.006*\"agreement\"\n",
      "2017-09-30 12:09:35,844 : INFO : topic diff=0.021763, rho=0.213201\n",
      "2017-09-30 12:09:37,648 : INFO : -6.870 per-word bound, 117.0 perplexity estimate based on a held-out corpus of 475 documents with 50286 words\n",
      "2017-09-30 12:09:37,649 : INFO : PROGRESS: pass 21, at document #475/475\n",
      "2017-09-30 12:09:38,158 : INFO : topic #0 (0.333): 0.035*\"mln\" + 0.029*\"oil\" + 0.024*\"dlrs\" + 0.019*\"billion\" + 0.018*\"bank\" + 0.015*\"price\" + 0.014*\"crude\" + 0.014*\"bpd\" + 0.014*\"pct\" + 0.012*\"market\"\n",
      "2017-09-30 12:09:38,159 : INFO : topic #1 (0.333): 0.020*\"oil\" + 0.013*\"opec\" + 0.011*\"price\" + 0.011*\"would\" + 0.010*\"trade\" + 0.009*\"minister\" + 0.008*\"country\" + 0.007*\"ecuador\" + 0.007*\"official\" + 0.007*\"year\"\n",
      "2017-09-30 12:09:38,160 : INFO : topic #2 (0.333): 0.028*\"trade\" + 0.017*\"japan\" + 0.012*\"would\" + 0.010*\"japanese\" + 0.009*\"market\" + 0.008*\"year\" + 0.007*\"official\" + 0.006*\"country\" + 0.006*\"foreign\" + 0.006*\"agreement\"\n",
      "2017-09-30 12:09:38,164 : INFO : topic diff=0.020240, rho=0.208514\n",
      "2017-09-30 12:09:40,217 : INFO : -6.869 per-word bound, 116.9 perplexity estimate based on a held-out corpus of 475 documents with 50286 words\n",
      "2017-09-30 12:09:40,218 : INFO : PROGRESS: pass 22, at document #475/475\n",
      "2017-09-30 12:09:40,935 : INFO : topic #0 (0.333): 0.035*\"mln\" + 0.029*\"oil\" + 0.024*\"dlrs\" + 0.019*\"billion\" + 0.018*\"bank\" + 0.015*\"price\" + 0.014*\"crude\" + 0.014*\"bpd\" + 0.014*\"pct\" + 0.012*\"market\"\n",
      "2017-09-30 12:09:40,936 : INFO : topic #1 (0.333): 0.020*\"oil\" + 0.013*\"opec\" + 0.011*\"price\" + 0.010*\"would\" + 0.009*\"trade\" + 0.009*\"minister\" + 0.008*\"country\" + 0.007*\"ecuador\" + 0.007*\"official\" + 0.007*\"last\"\n",
      "2017-09-30 12:09:40,937 : INFO : topic #2 (0.333): 0.028*\"trade\" + 0.017*\"japan\" + 0.012*\"would\" + 0.010*\"japanese\" + 0.009*\"market\" + 0.008*\"year\" + 0.007*\"official\" + 0.006*\"country\" + 0.006*\"foreign\" + 0.006*\"agreement\"\n",
      "2017-09-30 12:09:40,938 : INFO : topic diff=0.018928, rho=0.204124\n",
      "2017-09-30 12:09:43,056 : INFO : -6.868 per-word bound, 116.8 perplexity estimate based on a held-out corpus of 475 documents with 50286 words\n",
      "2017-09-30 12:09:43,057 : INFO : PROGRESS: pass 23, at document #475/475\n",
      "2017-09-30 12:09:43,537 : INFO : topic #0 (0.333): 0.035*\"mln\" + 0.029*\"oil\" + 0.024*\"dlrs\" + 0.019*\"billion\" + 0.018*\"bank\" + 0.015*\"price\" + 0.014*\"crude\" + 0.014*\"bpd\" + 0.014*\"pct\" + 0.012*\"market\"\n",
      "2017-09-30 12:09:43,538 : INFO : topic #1 (0.333): 0.020*\"oil\" + 0.014*\"opec\" + 0.011*\"price\" + 0.010*\"would\" + 0.009*\"trade\" + 0.009*\"minister\" + 0.008*\"country\" + 0.007*\"ecuador\" + 0.007*\"official\" + 0.007*\"last\"\n",
      "2017-09-30 12:09:43,539 : INFO : topic #2 (0.333): 0.028*\"trade\" + 0.017*\"japan\" + 0.012*\"would\" + 0.010*\"japanese\" + 0.009*\"market\" + 0.008*\"year\" + 0.007*\"official\" + 0.007*\"country\" + 0.006*\"foreign\" + 0.006*\"agreement\"\n",
      "2017-09-30 12:09:43,540 : INFO : topic diff=0.017818, rho=0.200000\n",
      "2017-09-30 12:09:45,232 : INFO : -6.867 per-word bound, 116.8 perplexity estimate based on a held-out corpus of 475 documents with 50286 words\n",
      "2017-09-30 12:09:45,233 : INFO : PROGRESS: pass 24, at document #475/475\n",
      "2017-09-30 12:09:45,732 : INFO : topic #0 (0.333): 0.035*\"mln\" + 0.029*\"oil\" + 0.024*\"dlrs\" + 0.019*\"billion\" + 0.018*\"bank\" + 0.015*\"price\" + 0.014*\"crude\" + 0.014*\"pct\" + 0.014*\"bpd\" + 0.012*\"market\"\n",
      "2017-09-30 12:09:45,733 : INFO : topic #1 (0.333): 0.021*\"oil\" + 0.014*\"opec\" + 0.011*\"price\" + 0.010*\"would\" + 0.009*\"minister\" + 0.009*\"trade\" + 0.008*\"country\" + 0.007*\"ecuador\" + 0.007*\"official\" + 0.007*\"last\"\n",
      "2017-09-30 12:09:45,735 : INFO : topic #2 (0.333): 0.028*\"trade\" + 0.017*\"japan\" + 0.012*\"would\" + 0.010*\"japanese\" + 0.009*\"market\" + 0.008*\"year\" + 0.007*\"official\" + 0.007*\"country\" + 0.006*\"foreign\" + 0.006*\"agreement\"\n",
      "2017-09-30 12:09:45,736 : INFO : topic diff=0.016870, rho=0.196116\n",
      "2017-09-30 12:09:47,727 : INFO : -6.867 per-word bound, 116.7 perplexity estimate based on a held-out corpus of 475 documents with 50286 words\n",
      "2017-09-30 12:09:47,728 : INFO : PROGRESS: pass 25, at document #475/475\n",
      "2017-09-30 12:09:48,219 : INFO : topic #0 (0.333): 0.035*\"mln\" + 0.029*\"oil\" + 0.024*\"dlrs\" + 0.019*\"billion\" + 0.018*\"bank\" + 0.015*\"price\" + 0.014*\"crude\" + 0.014*\"pct\" + 0.014*\"bpd\" + 0.012*\"market\"\n",
      "2017-09-30 12:09:48,220 : INFO : topic #1 (0.333): 0.021*\"oil\" + 0.014*\"opec\" + 0.011*\"price\" + 0.010*\"would\" + 0.009*\"minister\" + 0.008*\"trade\" + 0.007*\"country\" + 0.007*\"ecuador\" + 0.007*\"official\" + 0.007*\"last\"\n",
      "2017-09-30 12:09:48,221 : INFO : topic #2 (0.333): 0.028*\"trade\" + 0.017*\"japan\" + 0.012*\"would\" + 0.010*\"japanese\" + 0.009*\"market\" + 0.008*\"year\" + 0.007*\"official\" + 0.007*\"country\" + 0.006*\"foreign\" + 0.006*\"agreement\"\n",
      "2017-09-30 12:09:48,222 : INFO : topic diff=0.016042, rho=0.192450\n",
      "2017-09-30 12:09:49,880 : INFO : -6.866 per-word bound, 116.6 perplexity estimate based on a held-out corpus of 475 documents with 50286 words\n",
      "2017-09-30 12:09:49,880 : INFO : PROGRESS: pass 26, at document #475/475\n",
      "2017-09-30 12:09:50,287 : INFO : topic #0 (0.333): 0.035*\"mln\" + 0.029*\"oil\" + 0.024*\"dlrs\" + 0.019*\"billion\" + 0.018*\"bank\" + 0.015*\"price\" + 0.014*\"crude\" + 0.014*\"pct\" + 0.014*\"bpd\" + 0.012*\"market\"\n",
      "2017-09-30 12:09:50,288 : INFO : topic #1 (0.333): 0.021*\"oil\" + 0.014*\"opec\" + 0.011*\"price\" + 0.010*\"would\" + 0.009*\"minister\" + 0.008*\"trade\" + 0.007*\"country\" + 0.007*\"ecuador\" + 0.007*\"official\" + 0.007*\"last\"\n"
     ]
    },
    {
     "name": "stderr",
     "output_type": "stream",
     "text": [
      "2017-09-30 12:09:50,289 : INFO : topic #2 (0.333): 0.028*\"trade\" + 0.017*\"japan\" + 0.012*\"would\" + 0.010*\"japanese\" + 0.009*\"market\" + 0.008*\"year\" + 0.007*\"official\" + 0.007*\"country\" + 0.006*\"foreign\" + 0.006*\"agreement\"\n",
      "2017-09-30 12:09:50,289 : INFO : topic diff=0.015316, rho=0.188982\n",
      "2017-09-30 12:09:51,796 : INFO : -6.865 per-word bound, 116.6 perplexity estimate based on a held-out corpus of 475 documents with 50286 words\n",
      "2017-09-30 12:09:51,796 : INFO : PROGRESS: pass 27, at document #475/475\n",
      "2017-09-30 12:09:52,180 : INFO : topic #0 (0.333): 0.035*\"mln\" + 0.029*\"oil\" + 0.024*\"dlrs\" + 0.019*\"billion\" + 0.018*\"bank\" + 0.015*\"price\" + 0.014*\"pct\" + 0.014*\"crude\" + 0.014*\"bpd\" + 0.012*\"market\"\n",
      "2017-09-30 12:09:52,181 : INFO : topic #1 (0.333): 0.021*\"oil\" + 0.014*\"opec\" + 0.011*\"price\" + 0.010*\"would\" + 0.009*\"minister\" + 0.008*\"trade\" + 0.007*\"ecuador\" + 0.007*\"country\" + 0.007*\"official\" + 0.007*\"last\"\n",
      "2017-09-30 12:09:52,182 : INFO : topic #2 (0.333): 0.029*\"trade\" + 0.017*\"japan\" + 0.012*\"would\" + 0.010*\"japanese\" + 0.009*\"market\" + 0.008*\"year\" + 0.007*\"official\" + 0.007*\"country\" + 0.006*\"foreign\" + 0.006*\"agreement\"\n",
      "2017-09-30 12:09:52,183 : INFO : topic diff=0.014677, rho=0.185695\n",
      "2017-09-30 12:09:53,662 : INFO : -6.864 per-word bound, 116.5 perplexity estimate based on a held-out corpus of 475 documents with 50286 words\n",
      "2017-09-30 12:09:53,663 : INFO : PROGRESS: pass 28, at document #475/475\n",
      "2017-09-30 12:09:54,052 : INFO : topic #0 (0.333): 0.035*\"mln\" + 0.029*\"oil\" + 0.024*\"dlrs\" + 0.019*\"billion\" + 0.018*\"bank\" + 0.015*\"price\" + 0.014*\"pct\" + 0.014*\"crude\" + 0.014*\"bpd\" + 0.012*\"market\"\n",
      "2017-09-30 12:09:54,053 : INFO : topic #1 (0.333): 0.021*\"oil\" + 0.014*\"opec\" + 0.011*\"price\" + 0.010*\"would\" + 0.009*\"minister\" + 0.008*\"trade\" + 0.008*\"ecuador\" + 0.007*\"country\" + 0.007*\"official\" + 0.007*\"last\"\n",
      "2017-09-30 12:09:54,054 : INFO : topic #2 (0.333): 0.029*\"trade\" + 0.017*\"japan\" + 0.012*\"would\" + 0.010*\"japanese\" + 0.009*\"market\" + 0.008*\"year\" + 0.007*\"official\" + 0.007*\"country\" + 0.006*\"foreign\" + 0.006*\"agreement\"\n",
      "2017-09-30 12:09:54,055 : INFO : topic diff=0.014099, rho=0.182574\n",
      "2017-09-30 12:09:55,559 : INFO : -6.863 per-word bound, 116.4 perplexity estimate based on a held-out corpus of 475 documents with 50286 words\n",
      "2017-09-30 12:09:55,560 : INFO : PROGRESS: pass 29, at document #475/475\n",
      "2017-09-30 12:09:55,948 : INFO : topic #0 (0.333): 0.035*\"mln\" + 0.029*\"oil\" + 0.024*\"dlrs\" + 0.019*\"billion\" + 0.018*\"bank\" + 0.015*\"price\" + 0.015*\"pct\" + 0.014*\"crude\" + 0.014*\"bpd\" + 0.012*\"market\"\n",
      "2017-09-30 12:09:55,949 : INFO : topic #1 (0.333): 0.022*\"oil\" + 0.014*\"opec\" + 0.012*\"price\" + 0.010*\"would\" + 0.009*\"minister\" + 0.008*\"ecuador\" + 0.007*\"country\" + 0.007*\"trade\" + 0.007*\"official\" + 0.007*\"last\"\n",
      "2017-09-30 12:09:55,950 : INFO : topic #2 (0.333): 0.029*\"trade\" + 0.017*\"japan\" + 0.012*\"would\" + 0.010*\"japanese\" + 0.009*\"market\" + 0.008*\"year\" + 0.007*\"official\" + 0.007*\"country\" + 0.006*\"foreign\" + 0.006*\"agreement\"\n",
      "2017-09-30 12:09:55,951 : INFO : topic diff=0.013584, rho=0.179605\n",
      "2017-09-30 12:09:57,453 : INFO : -6.863 per-word bound, 116.4 perplexity estimate based on a held-out corpus of 475 documents with 50286 words\n",
      "2017-09-30 12:09:57,454 : INFO : PROGRESS: pass 30, at document #475/475\n",
      "2017-09-30 12:09:57,830 : INFO : topic #0 (0.333): 0.035*\"mln\" + 0.029*\"oil\" + 0.024*\"dlrs\" + 0.019*\"billion\" + 0.018*\"bank\" + 0.015*\"price\" + 0.015*\"pct\" + 0.014*\"crude\" + 0.014*\"bpd\" + 0.012*\"market\"\n",
      "2017-09-30 12:09:57,831 : INFO : topic #1 (0.333): 0.022*\"oil\" + 0.014*\"opec\" + 0.012*\"price\" + 0.010*\"would\" + 0.009*\"minister\" + 0.008*\"ecuador\" + 0.007*\"country\" + 0.007*\"official\" + 0.007*\"trade\" + 0.007*\"last\"\n",
      "2017-09-30 12:09:57,832 : INFO : topic #2 (0.333): 0.029*\"trade\" + 0.017*\"japan\" + 0.012*\"would\" + 0.009*\"japanese\" + 0.009*\"market\" + 0.008*\"year\" + 0.007*\"official\" + 0.007*\"country\" + 0.006*\"foreign\" + 0.006*\"agreement\"\n",
      "2017-09-30 12:09:57,832 : INFO : topic diff=0.013166, rho=0.176777\n",
      "2017-09-30 12:09:59,299 : INFO : -6.862 per-word bound, 116.3 perplexity estimate based on a held-out corpus of 475 documents with 50286 words\n",
      "2017-09-30 12:09:59,299 : INFO : PROGRESS: pass 31, at document #475/475\n",
      "2017-09-30 12:09:59,671 : INFO : topic #0 (0.333): 0.035*\"mln\" + 0.029*\"oil\" + 0.024*\"dlrs\" + 0.019*\"billion\" + 0.018*\"bank\" + 0.015*\"price\" + 0.015*\"pct\" + 0.014*\"crude\" + 0.014*\"bpd\" + 0.012*\"market\"\n",
      "2017-09-30 12:09:59,672 : INFO : topic #1 (0.333): 0.022*\"oil\" + 0.015*\"opec\" + 0.012*\"price\" + 0.010*\"would\" + 0.009*\"minister\" + 0.008*\"ecuador\" + 0.007*\"country\" + 0.007*\"official\" + 0.007*\"trade\" + 0.007*\"last\"\n",
      "2017-09-30 12:09:59,673 : INFO : topic #2 (0.333): 0.029*\"trade\" + 0.017*\"japan\" + 0.012*\"would\" + 0.009*\"japanese\" + 0.009*\"market\" + 0.008*\"year\" + 0.007*\"official\" + 0.007*\"country\" + 0.006*\"foreign\" + 0.006*\"agreement\"\n",
      "2017-09-30 12:09:59,674 : INFO : topic diff=0.012733, rho=0.174078\n",
      "2017-09-30 12:10:01,158 : INFO : -6.861 per-word bound, 116.2 perplexity estimate based on a held-out corpus of 475 documents with 50286 words\n",
      "2017-09-30 12:10:01,158 : INFO : PROGRESS: pass 32, at document #475/475\n",
      "2017-09-30 12:10:01,537 : INFO : topic #0 (0.333): 0.035*\"mln\" + 0.029*\"oil\" + 0.024*\"dlrs\" + 0.019*\"billion\" + 0.018*\"bank\" + 0.015*\"price\" + 0.015*\"pct\" + 0.014*\"crude\" + 0.014*\"bpd\" + 0.012*\"market\"\n",
      "2017-09-30 12:10:01,538 : INFO : topic #1 (0.333): 0.022*\"oil\" + 0.015*\"opec\" + 0.012*\"price\" + 0.010*\"would\" + 0.009*\"minister\" + 0.008*\"ecuador\" + 0.007*\"country\" + 0.007*\"official\" + 0.007*\"trade\" + 0.007*\"last\"\n",
      "2017-09-30 12:10:01,539 : INFO : topic #2 (0.333): 0.029*\"trade\" + 0.017*\"japan\" + 0.012*\"would\" + 0.009*\"japanese\" + 0.009*\"market\" + 0.008*\"year\" + 0.007*\"official\" + 0.007*\"country\" + 0.006*\"foreign\" + 0.006*\"agreement\"\n",
      "2017-09-30 12:10:01,540 : INFO : topic diff=0.012240, rho=0.171499\n",
      "2017-09-30 12:10:03,021 : INFO : -6.860 per-word bound, 116.2 perplexity estimate based on a held-out corpus of 475 documents with 50286 words\n",
      "2017-09-30 12:10:03,022 : INFO : PROGRESS: pass 33, at document #475/475\n",
      "2017-09-30 12:10:03,389 : INFO : topic #0 (0.333): 0.035*\"mln\" + 0.029*\"oil\" + 0.024*\"dlrs\" + 0.019*\"billion\" + 0.018*\"bank\" + 0.015*\"price\" + 0.015*\"pct\" + 0.014*\"crude\" + 0.014*\"bpd\" + 0.012*\"market\"\n",
      "2017-09-30 12:10:03,390 : INFO : topic #1 (0.333): 0.023*\"oil\" + 0.015*\"opec\" + 0.012*\"price\" + 0.010*\"would\" + 0.009*\"minister\" + 0.008*\"ecuador\" + 0.007*\"country\" + 0.007*\"official\" + 0.007*\"last\" + 0.006*\"trade\"\n",
      "2017-09-30 12:10:03,391 : INFO : topic #2 (0.333): 0.029*\"trade\" + 0.017*\"japan\" + 0.012*\"would\" + 0.009*\"japanese\" + 0.009*\"market\" + 0.008*\"year\" + 0.007*\"country\" + 0.007*\"official\" + 0.006*\"foreign\" + 0.006*\"agreement\"\n",
      "2017-09-30 12:10:03,392 : INFO : topic diff=0.011800, rho=0.169031\n",
      "2017-09-30 12:10:04,931 : INFO : -6.860 per-word bound, 116.1 perplexity estimate based on a held-out corpus of 475 documents with 50286 words\n",
      "2017-09-30 12:10:04,932 : INFO : PROGRESS: pass 34, at document #475/475\n",
      "2017-09-30 12:10:05,327 : INFO : topic #0 (0.333): 0.035*\"mln\" + 0.029*\"oil\" + 0.024*\"dlrs\" + 0.019*\"billion\" + 0.018*\"bank\" + 0.015*\"pct\" + 0.015*\"price\" + 0.014*\"crude\" + 0.013*\"bpd\" + 0.012*\"market\"\n",
      "2017-09-30 12:10:05,328 : INFO : topic #1 (0.333): 0.023*\"oil\" + 0.015*\"opec\" + 0.012*\"price\" + 0.010*\"would\" + 0.009*\"minister\" + 0.008*\"ecuador\" + 0.007*\"country\" + 0.007*\"official\" + 0.007*\"last\" + 0.006*\"trade\"\n",
      "2017-09-30 12:10:05,329 : INFO : topic #2 (0.333): 0.029*\"trade\" + 0.017*\"japan\" + 0.012*\"would\" + 0.009*\"japanese\" + 0.009*\"market\" + 0.008*\"year\" + 0.007*\"country\" + 0.007*\"official\" + 0.006*\"foreign\" + 0.006*\"agreement\"\n",
      "2017-09-30 12:10:05,330 : INFO : topic diff=0.011445, rho=0.166667\n",
      "2017-09-30 12:10:06,856 : INFO : -6.859 per-word bound, 116.1 perplexity estimate based on a held-out corpus of 475 documents with 50286 words\n",
      "2017-09-30 12:10:06,857 : INFO : PROGRESS: pass 35, at document #475/475\n",
      "2017-09-30 12:10:07,290 : INFO : topic #0 (0.333): 0.035*\"mln\" + 0.029*\"oil\" + 0.024*\"dlrs\" + 0.019*\"billion\" + 0.018*\"bank\" + 0.015*\"pct\" + 0.015*\"price\" + 0.014*\"crude\" + 0.013*\"bpd\" + 0.012*\"market\"\n",
      "2017-09-30 12:10:07,291 : INFO : topic #1 (0.333): 0.023*\"oil\" + 0.015*\"opec\" + 0.012*\"price\" + 0.010*\"would\" + 0.009*\"minister\" + 0.008*\"ecuador\" + 0.007*\"country\" + 0.007*\"official\" + 0.007*\"last\" + 0.006*\"year\"\n"
     ]
    },
    {
     "name": "stderr",
     "output_type": "stream",
     "text": [
      "2017-09-30 12:10:07,292 : INFO : topic #2 (0.333): 0.029*\"trade\" + 0.017*\"japan\" + 0.012*\"would\" + 0.009*\"japanese\" + 0.009*\"market\" + 0.008*\"year\" + 0.007*\"country\" + 0.007*\"official\" + 0.006*\"foreign\" + 0.006*\"agreement\"\n",
      "2017-09-30 12:10:07,293 : INFO : topic diff=0.011180, rho=0.164399\n",
      "2017-09-30 12:10:08,992 : INFO : -6.858 per-word bound, 116.0 perplexity estimate based on a held-out corpus of 475 documents with 50286 words\n",
      "2017-09-30 12:10:08,993 : INFO : PROGRESS: pass 36, at document #475/475\n",
      "2017-09-30 12:10:09,420 : INFO : topic #0 (0.333): 0.035*\"mln\" + 0.029*\"oil\" + 0.024*\"dlrs\" + 0.019*\"billion\" + 0.018*\"bank\" + 0.015*\"pct\" + 0.015*\"price\" + 0.014*\"crude\" + 0.013*\"bpd\" + 0.012*\"market\"\n",
      "2017-09-30 12:10:09,421 : INFO : topic #1 (0.333): 0.023*\"oil\" + 0.015*\"opec\" + 0.012*\"price\" + 0.010*\"would\" + 0.009*\"minister\" + 0.008*\"ecuador\" + 0.007*\"country\" + 0.007*\"official\" + 0.007*\"last\" + 0.006*\"china\"\n",
      "2017-09-30 12:10:09,421 : INFO : topic #2 (0.333): 0.030*\"trade\" + 0.017*\"japan\" + 0.012*\"would\" + 0.009*\"japanese\" + 0.009*\"market\" + 0.008*\"year\" + 0.007*\"country\" + 0.007*\"official\" + 0.006*\"foreign\" + 0.006*\"agreement\"\n",
      "2017-09-30 12:10:09,422 : INFO : topic diff=0.010917, rho=0.162221\n",
      "2017-09-30 12:10:11,737 : INFO : -6.858 per-word bound, 116.0 perplexity estimate based on a held-out corpus of 475 documents with 50286 words\n",
      "2017-09-30 12:10:11,738 : INFO : PROGRESS: pass 37, at document #475/475\n",
      "2017-09-30 12:10:12,179 : INFO : topic #0 (0.333): 0.035*\"mln\" + 0.029*\"oil\" + 0.024*\"dlrs\" + 0.019*\"billion\" + 0.018*\"bank\" + 0.015*\"pct\" + 0.015*\"price\" + 0.014*\"crude\" + 0.013*\"bpd\" + 0.012*\"market\"\n",
      "2017-09-30 12:10:12,180 : INFO : topic #1 (0.333): 0.024*\"oil\" + 0.015*\"opec\" + 0.012*\"price\" + 0.010*\"would\" + 0.009*\"minister\" + 0.008*\"ecuador\" + 0.007*\"country\" + 0.007*\"official\" + 0.007*\"last\" + 0.006*\"china\"\n",
      "2017-09-30 12:10:12,181 : INFO : topic #2 (0.333): 0.030*\"trade\" + 0.017*\"japan\" + 0.012*\"would\" + 0.009*\"japanese\" + 0.009*\"market\" + 0.008*\"year\" + 0.007*\"country\" + 0.007*\"official\" + 0.006*\"foreign\" + 0.006*\"agreement\"\n",
      "2017-09-30 12:10:12,182 : INFO : topic diff=0.010643, rho=0.160128\n",
      "2017-09-30 12:10:13,804 : INFO : -6.857 per-word bound, 115.9 perplexity estimate based on a held-out corpus of 475 documents with 50286 words\n",
      "2017-09-30 12:10:13,805 : INFO : PROGRESS: pass 38, at document #475/475\n",
      "2017-09-30 12:10:14,215 : INFO : topic #0 (0.333): 0.035*\"mln\" + 0.028*\"oil\" + 0.024*\"dlrs\" + 0.019*\"billion\" + 0.018*\"bank\" + 0.015*\"pct\" + 0.015*\"price\" + 0.014*\"crude\" + 0.013*\"bpd\" + 0.012*\"market\"\n",
      "2017-09-30 12:10:14,216 : INFO : topic #1 (0.333): 0.024*\"oil\" + 0.015*\"opec\" + 0.012*\"price\" + 0.010*\"would\" + 0.009*\"minister\" + 0.008*\"ecuador\" + 0.007*\"country\" + 0.007*\"official\" + 0.007*\"last\" + 0.006*\"china\"\n",
      "2017-09-30 12:10:14,217 : INFO : topic #2 (0.333): 0.030*\"trade\" + 0.017*\"japan\" + 0.012*\"would\" + 0.009*\"japanese\" + 0.009*\"market\" + 0.008*\"year\" + 0.007*\"country\" + 0.007*\"official\" + 0.006*\"foreign\" + 0.006*\"agreement\"\n",
      "2017-09-30 12:10:14,219 : INFO : topic diff=0.010356, rho=0.158114\n",
      "2017-09-30 12:10:15,822 : INFO : -6.856 per-word bound, 115.9 perplexity estimate based on a held-out corpus of 475 documents with 50286 words\n",
      "2017-09-30 12:10:15,823 : INFO : PROGRESS: pass 39, at document #475/475\n",
      "2017-09-30 12:10:16,193 : INFO : topic #0 (0.333): 0.035*\"mln\" + 0.028*\"oil\" + 0.024*\"dlrs\" + 0.019*\"billion\" + 0.018*\"bank\" + 0.015*\"pct\" + 0.014*\"price\" + 0.014*\"crude\" + 0.013*\"bpd\" + 0.012*\"market\"\n",
      "2017-09-30 12:10:16,194 : INFO : topic #1 (0.333): 0.024*\"oil\" + 0.015*\"opec\" + 0.012*\"price\" + 0.010*\"would\" + 0.009*\"minister\" + 0.008*\"ecuador\" + 0.007*\"official\" + 0.007*\"country\" + 0.007*\"last\" + 0.006*\"china\"\n",
      "2017-09-30 12:10:16,195 : INFO : topic #2 (0.333): 0.030*\"trade\" + 0.017*\"japan\" + 0.012*\"would\" + 0.009*\"japanese\" + 0.009*\"market\" + 0.008*\"year\" + 0.007*\"country\" + 0.007*\"official\" + 0.006*\"foreign\" + 0.006*\"agreement\"\n",
      "2017-09-30 12:10:16,196 : INFO : topic diff=0.010041, rho=0.156174\n",
      "2017-09-30 12:10:17,881 : INFO : -6.856 per-word bound, 115.8 perplexity estimate based on a held-out corpus of 475 documents with 50286 words\n",
      "2017-09-30 12:10:17,881 : INFO : PROGRESS: pass 40, at document #475/475\n",
      "2017-09-30 12:10:18,483 : INFO : topic #0 (0.333): 0.035*\"mln\" + 0.028*\"oil\" + 0.024*\"dlrs\" + 0.019*\"billion\" + 0.018*\"bank\" + 0.015*\"pct\" + 0.014*\"price\" + 0.014*\"crude\" + 0.013*\"bpd\" + 0.012*\"market\"\n",
      "2017-09-30 12:10:18,484 : INFO : topic #1 (0.333): 0.024*\"oil\" + 0.016*\"opec\" + 0.013*\"price\" + 0.010*\"would\" + 0.009*\"minister\" + 0.008*\"ecuador\" + 0.007*\"official\" + 0.007*\"country\" + 0.007*\"last\" + 0.006*\"china\"\n",
      "2017-09-30 12:10:18,485 : INFO : topic #2 (0.333): 0.030*\"trade\" + 0.017*\"japan\" + 0.012*\"would\" + 0.009*\"japanese\" + 0.009*\"market\" + 0.008*\"year\" + 0.007*\"country\" + 0.007*\"official\" + 0.006*\"foreign\" + 0.006*\"agreement\"\n",
      "2017-09-30 12:10:18,487 : INFO : topic diff=0.009791, rho=0.154303\n",
      "2017-09-30 12:10:20,098 : INFO : -6.855 per-word bound, 115.8 perplexity estimate based on a held-out corpus of 475 documents with 50286 words\n",
      "2017-09-30 12:10:20,098 : INFO : PROGRESS: pass 41, at document #475/475\n",
      "2017-09-30 12:10:20,547 : INFO : topic #0 (0.333): 0.035*\"mln\" + 0.028*\"oil\" + 0.024*\"dlrs\" + 0.019*\"billion\" + 0.018*\"bank\" + 0.015*\"pct\" + 0.014*\"price\" + 0.014*\"crude\" + 0.013*\"bpd\" + 0.012*\"market\"\n",
      "2017-09-30 12:10:20,548 : INFO : topic #1 (0.333): 0.025*\"oil\" + 0.016*\"opec\" + 0.013*\"price\" + 0.010*\"would\" + 0.009*\"minister\" + 0.008*\"ecuador\" + 0.007*\"official\" + 0.007*\"country\" + 0.007*\"last\" + 0.006*\"china\"\n",
      "2017-09-30 12:10:20,549 : INFO : topic #2 (0.333): 0.030*\"trade\" + 0.017*\"japan\" + 0.012*\"would\" + 0.009*\"japanese\" + 0.009*\"market\" + 0.008*\"year\" + 0.007*\"country\" + 0.007*\"official\" + 0.006*\"foreign\" + 0.006*\"agreement\"\n",
      "2017-09-30 12:10:20,550 : INFO : topic diff=0.009615, rho=0.152499\n",
      "2017-09-30 12:10:22,164 : INFO : -6.855 per-word bound, 115.7 perplexity estimate based on a held-out corpus of 475 documents with 50286 words\n",
      "2017-09-30 12:10:22,164 : INFO : PROGRESS: pass 42, at document #475/475\n",
      "2017-09-30 12:10:22,554 : INFO : topic #0 (0.333): 0.035*\"mln\" + 0.028*\"oil\" + 0.024*\"dlrs\" + 0.019*\"billion\" + 0.018*\"bank\" + 0.015*\"pct\" + 0.014*\"price\" + 0.014*\"crude\" + 0.013*\"bpd\" + 0.012*\"market\"\n",
      "2017-09-30 12:10:22,555 : INFO : topic #1 (0.333): 0.025*\"oil\" + 0.016*\"opec\" + 0.013*\"price\" + 0.010*\"would\" + 0.009*\"minister\" + 0.008*\"ecuador\" + 0.007*\"official\" + 0.007*\"country\" + 0.007*\"last\" + 0.006*\"china\"\n",
      "2017-09-30 12:10:22,556 : INFO : topic #2 (0.333): 0.030*\"trade\" + 0.017*\"japan\" + 0.012*\"would\" + 0.009*\"japanese\" + 0.009*\"market\" + 0.008*\"year\" + 0.007*\"country\" + 0.007*\"official\" + 0.006*\"foreign\" + 0.006*\"agreement\"\n",
      "2017-09-30 12:10:22,557 : INFO : topic diff=0.009409, rho=0.150756\n",
      "2017-09-30 12:10:24,200 : INFO : -6.854 per-word bound, 115.7 perplexity estimate based on a held-out corpus of 475 documents with 50286 words\n",
      "2017-09-30 12:10:24,201 : INFO : PROGRESS: pass 43, at document #475/475\n",
      "2017-09-30 12:10:24,610 : INFO : topic #0 (0.333): 0.035*\"mln\" + 0.028*\"oil\" + 0.024*\"dlrs\" + 0.019*\"billion\" + 0.018*\"bank\" + 0.015*\"pct\" + 0.014*\"price\" + 0.014*\"crude\" + 0.013*\"bpd\" + 0.012*\"market\"\n",
      "2017-09-30 12:10:24,611 : INFO : topic #1 (0.333): 0.025*\"oil\" + 0.016*\"opec\" + 0.013*\"price\" + 0.010*\"would\" + 0.009*\"minister\" + 0.008*\"ecuador\" + 0.007*\"official\" + 0.007*\"country\" + 0.007*\"last\" + 0.006*\"china\"\n",
      "2017-09-30 12:10:24,612 : INFO : topic #2 (0.333): 0.030*\"trade\" + 0.017*\"japan\" + 0.012*\"would\" + 0.009*\"japanese\" + 0.009*\"market\" + 0.008*\"year\" + 0.007*\"country\" + 0.007*\"official\" + 0.006*\"foreign\" + 0.006*\"agreement\"\n",
      "2017-09-30 12:10:24,613 : INFO : topic diff=0.009194, rho=0.149071\n",
      "2017-09-30 12:10:26,539 : INFO : -6.854 per-word bound, 115.7 perplexity estimate based on a held-out corpus of 475 documents with 50286 words\n",
      "2017-09-30 12:10:26,540 : INFO : PROGRESS: pass 44, at document #475/475\n",
      "2017-09-30 12:10:26,936 : INFO : topic #0 (0.333): 0.035*\"mln\" + 0.028*\"oil\" + 0.024*\"dlrs\" + 0.019*\"billion\" + 0.018*\"bank\" + 0.015*\"pct\" + 0.014*\"price\" + 0.014*\"crude\" + 0.013*\"bpd\" + 0.012*\"market\"\n",
      "2017-09-30 12:10:26,937 : INFO : topic #1 (0.333): 0.025*\"oil\" + 0.016*\"opec\" + 0.013*\"price\" + 0.010*\"would\" + 0.009*\"minister\" + 0.008*\"ecuador\" + 0.007*\"official\" + 0.007*\"country\" + 0.007*\"last\" + 0.006*\"china\"\n"
     ]
    },
    {
     "name": "stderr",
     "output_type": "stream",
     "text": [
      "2017-09-30 12:10:26,938 : INFO : topic #2 (0.333): 0.030*\"trade\" + 0.017*\"japan\" + 0.012*\"would\" + 0.009*\"japanese\" + 0.009*\"market\" + 0.008*\"year\" + 0.007*\"country\" + 0.007*\"official\" + 0.006*\"foreign\" + 0.006*\"agreement\"\n",
      "2017-09-30 12:10:26,939 : INFO : topic diff=0.009036, rho=0.147442\n",
      "2017-09-30 12:10:28,714 : INFO : -6.853 per-word bound, 115.6 perplexity estimate based on a held-out corpus of 475 documents with 50286 words\n",
      "2017-09-30 12:10:28,716 : INFO : PROGRESS: pass 45, at document #475/475\n",
      "2017-09-30 12:10:29,187 : INFO : topic #0 (0.333): 0.035*\"mln\" + 0.028*\"oil\" + 0.024*\"dlrs\" + 0.019*\"billion\" + 0.018*\"bank\" + 0.015*\"pct\" + 0.014*\"price\" + 0.014*\"crude\" + 0.013*\"bpd\" + 0.012*\"market\"\n",
      "2017-09-30 12:10:29,189 : INFO : topic #1 (0.333): 0.026*\"oil\" + 0.016*\"opec\" + 0.013*\"price\" + 0.010*\"would\" + 0.009*\"minister\" + 0.008*\"ecuador\" + 0.007*\"official\" + 0.007*\"country\" + 0.007*\"last\" + 0.006*\"china\"\n",
      "2017-09-30 12:10:29,190 : INFO : topic #2 (0.333): 0.030*\"trade\" + 0.017*\"japan\" + 0.012*\"would\" + 0.009*\"japanese\" + 0.009*\"market\" + 0.008*\"year\" + 0.007*\"country\" + 0.007*\"official\" + 0.006*\"foreign\" + 0.006*\"agreement\"\n",
      "2017-09-30 12:10:29,191 : INFO : topic diff=0.008872, rho=0.145865\n",
      "2017-09-30 12:10:31,031 : INFO : -6.853 per-word bound, 115.6 perplexity estimate based on a held-out corpus of 475 documents with 50286 words\n",
      "2017-09-30 12:10:31,031 : INFO : PROGRESS: pass 46, at document #475/475\n",
      "2017-09-30 12:10:31,418 : INFO : topic #0 (0.333): 0.035*\"mln\" + 0.027*\"oil\" + 0.024*\"dlrs\" + 0.019*\"billion\" + 0.018*\"bank\" + 0.015*\"pct\" + 0.014*\"price\" + 0.014*\"crude\" + 0.013*\"bpd\" + 0.012*\"market\"\n",
      "2017-09-30 12:10:31,419 : INFO : topic #1 (0.333): 0.026*\"oil\" + 0.016*\"opec\" + 0.013*\"price\" + 0.010*\"would\" + 0.009*\"minister\" + 0.008*\"ecuador\" + 0.007*\"official\" + 0.007*\"country\" + 0.007*\"last\" + 0.006*\"china\"\n",
      "2017-09-30 12:10:31,421 : INFO : topic #2 (0.333): 0.030*\"trade\" + 0.017*\"japan\" + 0.012*\"would\" + 0.009*\"japanese\" + 0.009*\"market\" + 0.008*\"year\" + 0.007*\"country\" + 0.007*\"official\" + 0.006*\"foreign\" + 0.006*\"agreement\"\n",
      "2017-09-30 12:10:31,422 : INFO : topic diff=0.008713, rho=0.144338\n",
      "2017-09-30 12:10:33,314 : INFO : -6.852 per-word bound, 115.6 perplexity estimate based on a held-out corpus of 475 documents with 50286 words\n",
      "2017-09-30 12:10:33,315 : INFO : PROGRESS: pass 47, at document #475/475\n",
      "2017-09-30 12:10:33,803 : INFO : topic #0 (0.333): 0.035*\"mln\" + 0.027*\"oil\" + 0.024*\"dlrs\" + 0.019*\"billion\" + 0.018*\"bank\" + 0.016*\"pct\" + 0.014*\"price\" + 0.014*\"crude\" + 0.013*\"bpd\" + 0.012*\"market\"\n",
      "2017-09-30 12:10:33,804 : INFO : topic #1 (0.333): 0.026*\"oil\" + 0.016*\"opec\" + 0.013*\"price\" + 0.010*\"would\" + 0.009*\"minister\" + 0.008*\"ecuador\" + 0.007*\"official\" + 0.007*\"country\" + 0.007*\"last\" + 0.006*\"china\"\n",
      "2017-09-30 12:10:33,805 : INFO : topic #2 (0.333): 0.030*\"trade\" + 0.017*\"japan\" + 0.012*\"would\" + 0.009*\"japanese\" + 0.009*\"market\" + 0.008*\"year\" + 0.007*\"country\" + 0.007*\"official\" + 0.006*\"foreign\" + 0.006*\"agreement\"\n",
      "2017-09-30 12:10:33,806 : INFO : topic diff=0.008569, rho=0.142857\n",
      "2017-09-30 12:10:35,380 : INFO : -6.852 per-word bound, 115.5 perplexity estimate based on a held-out corpus of 475 documents with 50286 words\n",
      "2017-09-30 12:10:35,381 : INFO : PROGRESS: pass 48, at document #475/475\n",
      "2017-09-30 12:10:35,750 : INFO : topic #0 (0.333): 0.035*\"mln\" + 0.027*\"oil\" + 0.024*\"dlrs\" + 0.019*\"billion\" + 0.018*\"bank\" + 0.016*\"pct\" + 0.014*\"price\" + 0.014*\"crude\" + 0.013*\"bpd\" + 0.012*\"market\"\n",
      "2017-09-30 12:10:35,751 : INFO : topic #1 (0.333): 0.026*\"oil\" + 0.016*\"opec\" + 0.013*\"price\" + 0.010*\"would\" + 0.009*\"minister\" + 0.008*\"ecuador\" + 0.007*\"official\" + 0.007*\"country\" + 0.007*\"last\" + 0.006*\"china\"\n",
      "2017-09-30 12:10:35,752 : INFO : topic #2 (0.333): 0.031*\"trade\" + 0.017*\"japan\" + 0.012*\"would\" + 0.009*\"japanese\" + 0.009*\"market\" + 0.008*\"year\" + 0.007*\"country\" + 0.007*\"official\" + 0.006*\"foreign\" + 0.006*\"agreement\"\n",
      "2017-09-30 12:10:35,753 : INFO : topic diff=0.008413, rho=0.141421\n",
      "2017-09-30 12:10:37,289 : INFO : -6.852 per-word bound, 115.5 perplexity estimate based on a held-out corpus of 475 documents with 50286 words\n",
      "2017-09-30 12:10:37,290 : INFO : PROGRESS: pass 49, at document #475/475\n",
      "2017-09-30 12:10:37,665 : INFO : topic #0 (0.333): 0.035*\"mln\" + 0.027*\"oil\" + 0.024*\"dlrs\" + 0.019*\"billion\" + 0.018*\"bank\" + 0.016*\"pct\" + 0.014*\"price\" + 0.014*\"crude\" + 0.013*\"bpd\" + 0.012*\"market\"\n",
      "2017-09-30 12:10:37,666 : INFO : topic #1 (0.333): 0.026*\"oil\" + 0.016*\"opec\" + 0.013*\"price\" + 0.010*\"would\" + 0.009*\"minister\" + 0.008*\"ecuador\" + 0.007*\"official\" + 0.007*\"country\" + 0.007*\"last\" + 0.006*\"china\"\n",
      "2017-09-30 12:10:37,667 : INFO : topic #2 (0.333): 0.031*\"trade\" + 0.017*\"japan\" + 0.012*\"would\" + 0.009*\"japanese\" + 0.009*\"market\" + 0.008*\"year\" + 0.007*\"country\" + 0.007*\"official\" + 0.006*\"foreign\" + 0.006*\"agreement\"\n",
      "2017-09-30 12:10:37,667 : INFO : topic diff=0.008243, rho=0.140028\n",
      "2017-09-30 12:10:39,206 : INFO : -6.851 per-word bound, 115.4 perplexity estimate based on a held-out corpus of 475 documents with 50286 words\n",
      "2017-09-30 12:10:39,207 : INFO : PROGRESS: pass 50, at document #475/475\n",
      "2017-09-30 12:10:39,609 : INFO : topic #0 (0.333): 0.035*\"mln\" + 0.027*\"oil\" + 0.024*\"dlrs\" + 0.019*\"billion\" + 0.018*\"bank\" + 0.016*\"pct\" + 0.014*\"price\" + 0.014*\"crude\" + 0.013*\"bpd\" + 0.012*\"market\"\n",
      "2017-09-30 12:10:39,610 : INFO : topic #1 (0.333): 0.027*\"oil\" + 0.016*\"opec\" + 0.013*\"price\" + 0.010*\"would\" + 0.009*\"minister\" + 0.008*\"ecuador\" + 0.007*\"official\" + 0.007*\"country\" + 0.007*\"last\" + 0.006*\"china\"\n",
      "2017-09-30 12:10:39,611 : INFO : topic #2 (0.333): 0.031*\"trade\" + 0.017*\"japan\" + 0.012*\"would\" + 0.009*\"japanese\" + 0.009*\"market\" + 0.008*\"year\" + 0.007*\"country\" + 0.007*\"official\" + 0.006*\"foreign\" + 0.006*\"agreement\"\n",
      "2017-09-30 12:10:39,611 : INFO : topic diff=0.008101, rho=0.138675\n",
      "2017-09-30 12:10:41,158 : INFO : -6.851 per-word bound, 115.4 perplexity estimate based on a held-out corpus of 475 documents with 50286 words\n",
      "2017-09-30 12:10:41,158 : INFO : PROGRESS: pass 51, at document #475/475\n",
      "2017-09-30 12:10:41,510 : INFO : topic #0 (0.333): 0.035*\"mln\" + 0.027*\"oil\" + 0.024*\"dlrs\" + 0.019*\"billion\" + 0.018*\"bank\" + 0.016*\"pct\" + 0.014*\"price\" + 0.014*\"crude\" + 0.013*\"bpd\" + 0.012*\"market\"\n",
      "2017-09-30 12:10:41,511 : INFO : topic #1 (0.333): 0.027*\"oil\" + 0.017*\"opec\" + 0.014*\"price\" + 0.010*\"would\" + 0.009*\"minister\" + 0.008*\"ecuador\" + 0.007*\"official\" + 0.007*\"country\" + 0.007*\"last\" + 0.006*\"china\"\n",
      "2017-09-30 12:10:41,512 : INFO : topic #2 (0.333): 0.031*\"trade\" + 0.017*\"japan\" + 0.012*\"would\" + 0.009*\"japanese\" + 0.009*\"market\" + 0.008*\"year\" + 0.007*\"country\" + 0.007*\"official\" + 0.006*\"foreign\" + 0.006*\"agreement\"\n",
      "2017-09-30 12:10:41,513 : INFO : topic diff=0.007986, rho=0.137361\n",
      "2017-09-30 12:10:42,957 : INFO : -6.850 per-word bound, 115.4 perplexity estimate based on a held-out corpus of 475 documents with 50286 words\n",
      "2017-09-30 12:10:42,958 : INFO : PROGRESS: pass 52, at document #475/475\n",
      "2017-09-30 12:10:43,311 : INFO : topic #0 (0.333): 0.035*\"mln\" + 0.027*\"oil\" + 0.024*\"dlrs\" + 0.019*\"billion\" + 0.018*\"bank\" + 0.016*\"pct\" + 0.014*\"crude\" + 0.014*\"price\" + 0.012*\"bpd\" + 0.012*\"market\"\n",
      "2017-09-30 12:10:43,312 : INFO : topic #1 (0.333): 0.027*\"oil\" + 0.017*\"opec\" + 0.014*\"price\" + 0.010*\"would\" + 0.009*\"minister\" + 0.008*\"ecuador\" + 0.007*\"official\" + 0.007*\"country\" + 0.007*\"last\" + 0.006*\"china\"\n",
      "2017-09-30 12:10:43,313 : INFO : topic #2 (0.333): 0.031*\"trade\" + 0.017*\"japan\" + 0.012*\"would\" + 0.009*\"japanese\" + 0.009*\"market\" + 0.008*\"year\" + 0.007*\"country\" + 0.007*\"official\" + 0.006*\"foreign\" + 0.006*\"agreement\"\n",
      "2017-09-30 12:10:43,313 : INFO : topic diff=0.007860, rho=0.136083\n",
      "2017-09-30 12:10:44,808 : INFO : -6.850 per-word bound, 115.3 perplexity estimate based on a held-out corpus of 475 documents with 50286 words\n",
      "2017-09-30 12:10:44,808 : INFO : PROGRESS: pass 53, at document #475/475\n",
      "2017-09-30 12:10:45,165 : INFO : topic #0 (0.333): 0.035*\"mln\" + 0.026*\"oil\" + 0.024*\"dlrs\" + 0.020*\"billion\" + 0.018*\"bank\" + 0.016*\"pct\" + 0.014*\"crude\" + 0.014*\"price\" + 0.012*\"bpd\" + 0.012*\"market\"\n",
      "2017-09-30 12:10:45,166 : INFO : topic #1 (0.333): 0.027*\"oil\" + 0.017*\"opec\" + 0.014*\"price\" + 0.010*\"would\" + 0.009*\"minister\" + 0.008*\"ecuador\" + 0.007*\"official\" + 0.007*\"country\" + 0.007*\"last\" + 0.006*\"china\"\n"
     ]
    },
    {
     "name": "stderr",
     "output_type": "stream",
     "text": [
      "2017-09-30 12:10:45,167 : INFO : topic #2 (0.333): 0.031*\"trade\" + 0.017*\"japan\" + 0.012*\"would\" + 0.009*\"japanese\" + 0.009*\"market\" + 0.008*\"year\" + 0.007*\"country\" + 0.007*\"official\" + 0.006*\"foreign\" + 0.006*\"agreement\"\n",
      "2017-09-30 12:10:45,168 : INFO : topic diff=0.007737, rho=0.134840\n",
      "2017-09-30 12:10:46,603 : INFO : -6.849 per-word bound, 115.3 perplexity estimate based on a held-out corpus of 475 documents with 50286 words\n",
      "2017-09-30 12:10:46,604 : INFO : PROGRESS: pass 54, at document #475/475\n",
      "2017-09-30 12:10:46,952 : INFO : topic #0 (0.333): 0.035*\"mln\" + 0.026*\"oil\" + 0.024*\"dlrs\" + 0.020*\"billion\" + 0.018*\"bank\" + 0.016*\"pct\" + 0.014*\"crude\" + 0.014*\"price\" + 0.012*\"bpd\" + 0.012*\"market\"\n",
      "2017-09-30 12:10:46,953 : INFO : topic #1 (0.333): 0.027*\"oil\" + 0.017*\"opec\" + 0.014*\"price\" + 0.010*\"would\" + 0.009*\"minister\" + 0.008*\"ecuador\" + 0.007*\"official\" + 0.007*\"country\" + 0.007*\"last\" + 0.006*\"china\"\n",
      "2017-09-30 12:10:46,954 : INFO : topic #2 (0.333): 0.031*\"trade\" + 0.017*\"japan\" + 0.012*\"would\" + 0.009*\"japanese\" + 0.009*\"market\" + 0.008*\"year\" + 0.007*\"country\" + 0.007*\"official\" + 0.006*\"foreign\" + 0.006*\"agreement\"\n",
      "2017-09-30 12:10:46,955 : INFO : topic diff=0.007619, rho=0.133631\n",
      "2017-09-30 12:10:48,395 : INFO : -6.849 per-word bound, 115.3 perplexity estimate based on a held-out corpus of 475 documents with 50286 words\n",
      "2017-09-30 12:10:48,395 : INFO : PROGRESS: pass 55, at document #475/475\n",
      "2017-09-30 12:10:48,747 : INFO : topic #0 (0.333): 0.035*\"mln\" + 0.026*\"oil\" + 0.024*\"dlrs\" + 0.020*\"billion\" + 0.018*\"bank\" + 0.016*\"pct\" + 0.014*\"crude\" + 0.014*\"price\" + 0.012*\"bpd\" + 0.012*\"market\"\n",
      "2017-09-30 12:10:48,748 : INFO : topic #1 (0.333): 0.028*\"oil\" + 0.017*\"opec\" + 0.014*\"price\" + 0.010*\"would\" + 0.009*\"minister\" + 0.008*\"ecuador\" + 0.007*\"official\" + 0.007*\"last\" + 0.007*\"country\" + 0.006*\"china\"\n",
      "2017-09-30 12:10:48,749 : INFO : topic #2 (0.333): 0.031*\"trade\" + 0.017*\"japan\" + 0.012*\"would\" + 0.009*\"japanese\" + 0.009*\"market\" + 0.008*\"year\" + 0.007*\"country\" + 0.007*\"official\" + 0.006*\"foreign\" + 0.006*\"agreement\"\n",
      "2017-09-30 12:10:48,750 : INFO : topic diff=0.007515, rho=0.132453\n",
      "2017-09-30 12:10:50,205 : INFO : -6.849 per-word bound, 115.3 perplexity estimate based on a held-out corpus of 475 documents with 50286 words\n",
      "2017-09-30 12:10:50,205 : INFO : PROGRESS: pass 56, at document #475/475\n",
      "2017-09-30 12:10:50,557 : INFO : topic #0 (0.333): 0.035*\"mln\" + 0.026*\"oil\" + 0.024*\"dlrs\" + 0.020*\"billion\" + 0.018*\"bank\" + 0.016*\"pct\" + 0.014*\"crude\" + 0.013*\"price\" + 0.012*\"bpd\" + 0.012*\"market\"\n",
      "2017-09-30 12:10:50,558 : INFO : topic #1 (0.333): 0.028*\"oil\" + 0.017*\"opec\" + 0.014*\"price\" + 0.010*\"would\" + 0.009*\"minister\" + 0.008*\"ecuador\" + 0.007*\"official\" + 0.007*\"last\" + 0.007*\"country\" + 0.006*\"china\"\n",
      "2017-09-30 12:10:50,559 : INFO : topic #2 (0.333): 0.031*\"trade\" + 0.017*\"japan\" + 0.012*\"would\" + 0.009*\"japanese\" + 0.009*\"market\" + 0.008*\"year\" + 0.007*\"country\" + 0.007*\"official\" + 0.006*\"foreign\" + 0.006*\"agreement\"\n",
      "2017-09-30 12:10:50,560 : INFO : topic diff=0.007403, rho=0.131306\n",
      "2017-09-30 12:10:52,013 : INFO : -6.848 per-word bound, 115.2 perplexity estimate based on a held-out corpus of 475 documents with 50286 words\n",
      "2017-09-30 12:10:52,014 : INFO : PROGRESS: pass 57, at document #475/475\n",
      "2017-09-30 12:10:52,360 : INFO : topic #0 (0.333): 0.035*\"mln\" + 0.026*\"oil\" + 0.024*\"dlrs\" + 0.020*\"billion\" + 0.018*\"bank\" + 0.016*\"pct\" + 0.014*\"crude\" + 0.013*\"price\" + 0.012*\"bpd\" + 0.012*\"market\"\n",
      "2017-09-30 12:10:52,361 : INFO : topic #1 (0.333): 0.028*\"oil\" + 0.017*\"opec\" + 0.014*\"price\" + 0.010*\"would\" + 0.009*\"minister\" + 0.008*\"ecuador\" + 0.007*\"official\" + 0.007*\"last\" + 0.007*\"country\" + 0.006*\"china\"\n",
      "2017-09-30 12:10:52,362 : INFO : topic #2 (0.333): 0.031*\"trade\" + 0.017*\"japan\" + 0.012*\"would\" + 0.009*\"japanese\" + 0.009*\"market\" + 0.008*\"year\" + 0.007*\"country\" + 0.007*\"official\" + 0.006*\"foreign\" + 0.006*\"agreement\"\n",
      "2017-09-30 12:10:52,363 : INFO : topic diff=0.007299, rho=0.130189\n",
      "2017-09-30 12:10:53,832 : INFO : -6.848 per-word bound, 115.2 perplexity estimate based on a held-out corpus of 475 documents with 50286 words\n",
      "2017-09-30 12:10:53,833 : INFO : PROGRESS: pass 58, at document #475/475\n",
      "2017-09-30 12:10:54,183 : INFO : topic #0 (0.333): 0.035*\"mln\" + 0.026*\"oil\" + 0.024*\"dlrs\" + 0.020*\"billion\" + 0.018*\"bank\" + 0.016*\"pct\" + 0.014*\"crude\" + 0.013*\"price\" + 0.012*\"market\" + 0.012*\"bpd\"\n",
      "2017-09-30 12:10:54,184 : INFO : topic #1 (0.333): 0.028*\"oil\" + 0.017*\"opec\" + 0.014*\"price\" + 0.010*\"would\" + 0.009*\"minister\" + 0.008*\"ecuador\" + 0.007*\"official\" + 0.007*\"last\" + 0.007*\"country\" + 0.006*\"china\"\n",
      "2017-09-30 12:10:54,185 : INFO : topic #2 (0.333): 0.031*\"trade\" + 0.017*\"japan\" + 0.012*\"would\" + 0.009*\"japanese\" + 0.009*\"market\" + 0.008*\"year\" + 0.007*\"country\" + 0.007*\"official\" + 0.006*\"foreign\" + 0.006*\"agreement\"\n",
      "2017-09-30 12:10:54,186 : INFO : topic diff=0.007202, rho=0.129099\n",
      "2017-09-30 12:10:55,665 : INFO : -6.848 per-word bound, 115.2 perplexity estimate based on a held-out corpus of 475 documents with 50286 words\n",
      "2017-09-30 12:10:55,666 : INFO : PROGRESS: pass 59, at document #475/475\n",
      "2017-09-30 12:10:56,009 : INFO : topic #0 (0.333): 0.035*\"mln\" + 0.026*\"oil\" + 0.024*\"dlrs\" + 0.020*\"billion\" + 0.018*\"bank\" + 0.016*\"pct\" + 0.014*\"crude\" + 0.013*\"price\" + 0.012*\"market\" + 0.012*\"bpd\"\n",
      "2017-09-30 12:10:56,010 : INFO : topic #1 (0.333): 0.028*\"oil\" + 0.017*\"opec\" + 0.014*\"price\" + 0.010*\"would\" + 0.008*\"minister\" + 0.008*\"ecuador\" + 0.007*\"official\" + 0.007*\"last\" + 0.007*\"country\" + 0.006*\"china\"\n",
      "2017-09-30 12:10:56,011 : INFO : topic #2 (0.333): 0.031*\"trade\" + 0.017*\"japan\" + 0.012*\"would\" + 0.009*\"japanese\" + 0.009*\"market\" + 0.008*\"year\" + 0.007*\"country\" + 0.007*\"official\" + 0.006*\"foreign\" + 0.006*\"agreement\"\n",
      "2017-09-30 12:10:56,011 : INFO : topic diff=0.007068, rho=0.128037\n",
      "2017-09-30 12:10:57,446 : INFO : -6.847 per-word bound, 115.1 perplexity estimate based on a held-out corpus of 475 documents with 50286 words\n",
      "2017-09-30 12:10:57,447 : INFO : PROGRESS: pass 60, at document #475/475\n",
      "2017-09-30 12:10:57,788 : INFO : topic #0 (0.333): 0.035*\"mln\" + 0.025*\"oil\" + 0.024*\"dlrs\" + 0.020*\"billion\" + 0.018*\"bank\" + 0.016*\"pct\" + 0.014*\"crude\" + 0.013*\"price\" + 0.012*\"market\" + 0.012*\"bpd\"\n",
      "2017-09-30 12:10:57,789 : INFO : topic #1 (0.333): 0.029*\"oil\" + 0.017*\"opec\" + 0.014*\"price\" + 0.010*\"would\" + 0.008*\"minister\" + 0.008*\"ecuador\" + 0.007*\"official\" + 0.007*\"last\" + 0.007*\"country\" + 0.006*\"china\"\n",
      "2017-09-30 12:10:57,790 : INFO : topic #2 (0.333): 0.031*\"trade\" + 0.017*\"japan\" + 0.012*\"would\" + 0.009*\"japanese\" + 0.009*\"market\" + 0.008*\"year\" + 0.007*\"country\" + 0.007*\"official\" + 0.006*\"foreign\" + 0.006*\"agreement\"\n",
      "2017-09-30 12:10:57,791 : INFO : topic diff=0.006954, rho=0.127000\n",
      "2017-09-30 12:10:59,295 : INFO : -6.847 per-word bound, 115.1 perplexity estimate based on a held-out corpus of 475 documents with 50286 words\n",
      "2017-09-30 12:10:59,295 : INFO : PROGRESS: pass 61, at document #475/475\n",
      "2017-09-30 12:10:59,670 : INFO : topic #0 (0.333): 0.035*\"mln\" + 0.025*\"oil\" + 0.024*\"dlrs\" + 0.020*\"billion\" + 0.018*\"bank\" + 0.016*\"pct\" + 0.014*\"crude\" + 0.013*\"price\" + 0.012*\"market\" + 0.012*\"bpd\"\n",
      "2017-09-30 12:10:59,671 : INFO : topic #1 (0.333): 0.029*\"oil\" + 0.017*\"opec\" + 0.014*\"price\" + 0.010*\"would\" + 0.008*\"minister\" + 0.008*\"ecuador\" + 0.007*\"official\" + 0.007*\"last\" + 0.007*\"country\" + 0.006*\"china\"\n",
      "2017-09-30 12:10:59,672 : INFO : topic #2 (0.333): 0.031*\"trade\" + 0.016*\"japan\" + 0.012*\"would\" + 0.009*\"japanese\" + 0.009*\"market\" + 0.008*\"year\" + 0.007*\"country\" + 0.007*\"official\" + 0.006*\"foreign\" + 0.006*\"agreement\"\n",
      "2017-09-30 12:10:59,673 : INFO : topic diff=0.006853, rho=0.125988\n",
      "2017-09-30 12:11:01,386 : INFO : -6.847 per-word bound, 115.1 perplexity estimate based on a held-out corpus of 475 documents with 50286 words\n",
      "2017-09-30 12:11:01,386 : INFO : PROGRESS: pass 62, at document #475/475\n",
      "2017-09-30 12:11:01,786 : INFO : topic #0 (0.333): 0.035*\"mln\" + 0.025*\"oil\" + 0.024*\"dlrs\" + 0.020*\"billion\" + 0.018*\"bank\" + 0.016*\"pct\" + 0.014*\"crude\" + 0.013*\"price\" + 0.012*\"market\" + 0.012*\"bpd\"\n",
      "2017-09-30 12:11:01,786 : INFO : topic #1 (0.333): 0.029*\"oil\" + 0.017*\"opec\" + 0.014*\"price\" + 0.010*\"would\" + 0.008*\"minister\" + 0.008*\"ecuador\" + 0.007*\"official\" + 0.007*\"last\" + 0.007*\"country\" + 0.006*\"china\"\n"
     ]
    },
    {
     "name": "stderr",
     "output_type": "stream",
     "text": [
      "2017-09-30 12:11:01,787 : INFO : topic #2 (0.333): 0.031*\"trade\" + 0.016*\"japan\" + 0.012*\"would\" + 0.009*\"japanese\" + 0.009*\"market\" + 0.008*\"year\" + 0.007*\"country\" + 0.007*\"official\" + 0.006*\"foreign\" + 0.006*\"agreement\"\n",
      "2017-09-30 12:11:01,788 : INFO : topic diff=0.006750, rho=0.125000\n",
      "2017-09-30 12:11:03,561 : INFO : -6.846 per-word bound, 115.1 perplexity estimate based on a held-out corpus of 475 documents with 50286 words\n",
      "2017-09-30 12:11:03,561 : INFO : PROGRESS: pass 63, at document #475/475\n",
      "2017-09-30 12:11:03,988 : INFO : topic #0 (0.333): 0.035*\"mln\" + 0.025*\"oil\" + 0.024*\"dlrs\" + 0.020*\"billion\" + 0.018*\"bank\" + 0.016*\"pct\" + 0.014*\"crude\" + 0.013*\"price\" + 0.012*\"market\" + 0.012*\"bpd\"\n",
      "2017-09-30 12:11:03,989 : INFO : topic #1 (0.333): 0.029*\"oil\" + 0.017*\"opec\" + 0.015*\"price\" + 0.010*\"would\" + 0.008*\"minister\" + 0.008*\"ecuador\" + 0.007*\"official\" + 0.007*\"last\" + 0.007*\"country\" + 0.006*\"china\"\n",
      "2017-09-30 12:11:03,990 : INFO : topic #2 (0.333): 0.031*\"trade\" + 0.016*\"japan\" + 0.012*\"would\" + 0.009*\"japanese\" + 0.009*\"market\" + 0.008*\"year\" + 0.007*\"country\" + 0.007*\"official\" + 0.006*\"foreign\" + 0.006*\"agreement\"\n",
      "2017-09-30 12:11:03,991 : INFO : topic diff=0.006642, rho=0.124035\n",
      "2017-09-30 12:11:05,808 : INFO : -6.846 per-word bound, 115.0 perplexity estimate based on a held-out corpus of 475 documents with 50286 words\n",
      "2017-09-30 12:11:05,808 : INFO : PROGRESS: pass 64, at document #475/475\n",
      "2017-09-30 12:11:06,197 : INFO : topic #0 (0.333): 0.035*\"mln\" + 0.025*\"oil\" + 0.024*\"dlrs\" + 0.020*\"billion\" + 0.018*\"bank\" + 0.016*\"pct\" + 0.014*\"crude\" + 0.013*\"price\" + 0.012*\"market\" + 0.012*\"bpd\"\n",
      "2017-09-30 12:11:06,198 : INFO : topic #1 (0.333): 0.029*\"oil\" + 0.017*\"opec\" + 0.015*\"price\" + 0.010*\"would\" + 0.008*\"minister\" + 0.008*\"ecuador\" + 0.007*\"official\" + 0.007*\"last\" + 0.006*\"country\" + 0.006*\"china\"\n",
      "2017-09-30 12:11:06,199 : INFO : topic #2 (0.333): 0.031*\"trade\" + 0.016*\"japan\" + 0.012*\"would\" + 0.009*\"japanese\" + 0.009*\"market\" + 0.008*\"year\" + 0.007*\"country\" + 0.007*\"official\" + 0.006*\"foreign\" + 0.006*\"agreement\"\n",
      "2017-09-30 12:11:06,200 : INFO : topic diff=0.006530, rho=0.123091\n",
      "2017-09-30 12:11:07,867 : INFO : -6.846 per-word bound, 115.0 perplexity estimate based on a held-out corpus of 475 documents with 50286 words\n",
      "2017-09-30 12:11:07,867 : INFO : PROGRESS: pass 65, at document #475/475\n",
      "2017-09-30 12:11:08,350 : INFO : topic #0 (0.333): 0.035*\"mln\" + 0.025*\"oil\" + 0.024*\"dlrs\" + 0.020*\"billion\" + 0.018*\"bank\" + 0.016*\"pct\" + 0.014*\"crude\" + 0.013*\"price\" + 0.012*\"market\" + 0.012*\"bpd\"\n",
      "2017-09-30 12:11:08,351 : INFO : topic #1 (0.333): 0.030*\"oil\" + 0.017*\"opec\" + 0.015*\"price\" + 0.010*\"would\" + 0.008*\"minister\" + 0.008*\"ecuador\" + 0.007*\"official\" + 0.007*\"last\" + 0.006*\"country\" + 0.006*\"china\"\n",
      "2017-09-30 12:11:08,352 : INFO : topic #2 (0.333): 0.031*\"trade\" + 0.016*\"japan\" + 0.012*\"would\" + 0.009*\"japanese\" + 0.009*\"market\" + 0.008*\"year\" + 0.007*\"country\" + 0.007*\"official\" + 0.006*\"foreign\" + 0.006*\"agreement\"\n",
      "2017-09-30 12:11:08,353 : INFO : topic diff=0.006434, rho=0.122169\n",
      "2017-09-30 12:11:10,130 : INFO : -6.845 per-word bound, 115.0 perplexity estimate based on a held-out corpus of 475 documents with 50286 words\n",
      "2017-09-30 12:11:10,130 : INFO : PROGRESS: pass 66, at document #475/475\n",
      "2017-09-30 12:11:10,566 : INFO : topic #0 (0.333): 0.035*\"mln\" + 0.025*\"oil\" + 0.024*\"dlrs\" + 0.020*\"billion\" + 0.018*\"bank\" + 0.016*\"pct\" + 0.014*\"crude\" + 0.013*\"price\" + 0.012*\"market\" + 0.012*\"bpd\"\n",
      "2017-09-30 12:11:10,567 : INFO : topic #1 (0.333): 0.030*\"oil\" + 0.017*\"opec\" + 0.015*\"price\" + 0.010*\"would\" + 0.008*\"minister\" + 0.008*\"ecuador\" + 0.007*\"official\" + 0.007*\"last\" + 0.006*\"country\" + 0.006*\"china\"\n",
      "2017-09-30 12:11:10,568 : INFO : topic #2 (0.333): 0.031*\"trade\" + 0.016*\"japan\" + 0.012*\"would\" + 0.009*\"japanese\" + 0.009*\"market\" + 0.008*\"year\" + 0.007*\"country\" + 0.007*\"official\" + 0.006*\"foreign\" + 0.006*\"agreement\"\n",
      "2017-09-30 12:11:10,569 : INFO : topic diff=0.006351, rho=0.121268\n",
      "2017-09-30 12:11:12,347 : INFO : -6.845 per-word bound, 115.0 perplexity estimate based on a held-out corpus of 475 documents with 50286 words\n",
      "2017-09-30 12:11:12,347 : INFO : PROGRESS: pass 67, at document #475/475\n",
      "2017-09-30 12:11:12,717 : INFO : topic #0 (0.333): 0.035*\"mln\" + 0.024*\"oil\" + 0.024*\"dlrs\" + 0.020*\"billion\" + 0.018*\"bank\" + 0.016*\"pct\" + 0.014*\"crude\" + 0.013*\"price\" + 0.012*\"market\" + 0.012*\"bpd\"\n",
      "2017-09-30 12:11:12,718 : INFO : topic #1 (0.333): 0.030*\"oil\" + 0.018*\"opec\" + 0.015*\"price\" + 0.010*\"would\" + 0.008*\"minister\" + 0.008*\"ecuador\" + 0.007*\"official\" + 0.007*\"last\" + 0.006*\"country\" + 0.006*\"china\"\n",
      "2017-09-30 12:11:12,719 : INFO : topic #2 (0.333): 0.031*\"trade\" + 0.016*\"japan\" + 0.012*\"would\" + 0.009*\"japanese\" + 0.009*\"market\" + 0.008*\"year\" + 0.007*\"country\" + 0.007*\"official\" + 0.006*\"foreign\" + 0.006*\"agreement\"\n",
      "2017-09-30 12:11:12,720 : INFO : topic diff=0.006257, rho=0.120386\n",
      "2017-09-30 12:11:14,354 : INFO : -6.845 per-word bound, 114.9 perplexity estimate based on a held-out corpus of 475 documents with 50286 words\n",
      "2017-09-30 12:11:14,355 : INFO : PROGRESS: pass 68, at document #475/475\n",
      "2017-09-30 12:11:14,725 : INFO : topic #0 (0.333): 0.035*\"mln\" + 0.024*\"oil\" + 0.024*\"dlrs\" + 0.020*\"billion\" + 0.018*\"bank\" + 0.016*\"pct\" + 0.014*\"crude\" + 0.013*\"price\" + 0.012*\"market\" + 0.012*\"bpd\"\n",
      "2017-09-30 12:11:14,726 : INFO : topic #1 (0.333): 0.030*\"oil\" + 0.018*\"opec\" + 0.015*\"price\" + 0.010*\"would\" + 0.008*\"minister\" + 0.008*\"ecuador\" + 0.007*\"official\" + 0.007*\"last\" + 0.006*\"country\" + 0.006*\"china\"\n",
      "2017-09-30 12:11:14,727 : INFO : topic #2 (0.333): 0.031*\"trade\" + 0.016*\"japan\" + 0.012*\"would\" + 0.009*\"japanese\" + 0.009*\"market\" + 0.008*\"year\" + 0.007*\"country\" + 0.007*\"official\" + 0.006*\"foreign\" + 0.006*\"agreement\"\n",
      "2017-09-30 12:11:14,728 : INFO : topic diff=0.006173, rho=0.119523\n",
      "2017-09-30 12:11:16,506 : INFO : -6.844 per-word bound, 114.9 perplexity estimate based on a held-out corpus of 475 documents with 50286 words\n",
      "2017-09-30 12:11:16,507 : INFO : PROGRESS: pass 69, at document #475/475\n",
      "2017-09-30 12:11:16,881 : INFO : topic #0 (0.333): 0.035*\"mln\" + 0.024*\"dlrs\" + 0.024*\"oil\" + 0.020*\"billion\" + 0.018*\"bank\" + 0.016*\"pct\" + 0.014*\"crude\" + 0.013*\"price\" + 0.012*\"market\" + 0.012*\"bpd\"\n",
      "2017-09-30 12:11:16,882 : INFO : topic #1 (0.333): 0.030*\"oil\" + 0.018*\"opec\" + 0.015*\"price\" + 0.010*\"would\" + 0.008*\"minister\" + 0.008*\"ecuador\" + 0.007*\"official\" + 0.007*\"last\" + 0.006*\"country\" + 0.006*\"china\"\n",
      "2017-09-30 12:11:16,883 : INFO : topic #2 (0.333): 0.031*\"trade\" + 0.016*\"japan\" + 0.012*\"would\" + 0.009*\"japanese\" + 0.009*\"market\" + 0.008*\"year\" + 0.007*\"country\" + 0.007*\"official\" + 0.006*\"foreign\" + 0.006*\"agreement\"\n",
      "2017-09-30 12:11:16,884 : INFO : topic diff=0.006077, rho=0.118678\n",
      "2017-09-30 12:11:18,450 : INFO : -6.844 per-word bound, 114.9 perplexity estimate based on a held-out corpus of 475 documents with 50286 words\n",
      "2017-09-30 12:11:18,451 : INFO : PROGRESS: pass 70, at document #475/475\n",
      "2017-09-30 12:11:18,798 : INFO : topic #0 (0.333): 0.035*\"mln\" + 0.024*\"dlrs\" + 0.024*\"oil\" + 0.020*\"billion\" + 0.018*\"bank\" + 0.016*\"pct\" + 0.013*\"crude\" + 0.013*\"price\" + 0.012*\"market\" + 0.011*\"bpd\"\n",
      "2017-09-30 12:11:18,799 : INFO : topic #1 (0.333): 0.030*\"oil\" + 0.018*\"opec\" + 0.015*\"price\" + 0.010*\"would\" + 0.008*\"minister\" + 0.008*\"ecuador\" + 0.007*\"official\" + 0.007*\"last\" + 0.006*\"country\" + 0.006*\"china\"\n",
      "2017-09-30 12:11:18,800 : INFO : topic #2 (0.333): 0.031*\"trade\" + 0.016*\"japan\" + 0.012*\"would\" + 0.009*\"japanese\" + 0.009*\"market\" + 0.008*\"year\" + 0.007*\"country\" + 0.007*\"official\" + 0.006*\"foreign\" + 0.006*\"agreement\"\n",
      "2017-09-30 12:11:18,801 : INFO : topic diff=0.005992, rho=0.117851\n",
      "2017-09-30 12:11:20,249 : INFO : -6.844 per-word bound, 114.9 perplexity estimate based on a held-out corpus of 475 documents with 50286 words\n",
      "2017-09-30 12:11:20,250 : INFO : PROGRESS: pass 71, at document #475/475\n",
      "2017-09-30 12:11:20,594 : INFO : topic #0 (0.333): 0.035*\"mln\" + 0.024*\"dlrs\" + 0.024*\"oil\" + 0.020*\"billion\" + 0.018*\"bank\" + 0.016*\"pct\" + 0.013*\"crude\" + 0.013*\"price\" + 0.012*\"market\" + 0.011*\"bpd\"\n",
      "2017-09-30 12:11:20,594 : INFO : topic #1 (0.333): 0.030*\"oil\" + 0.018*\"opec\" + 0.015*\"price\" + 0.010*\"would\" + 0.008*\"minister\" + 0.008*\"ecuador\" + 0.007*\"official\" + 0.007*\"last\" + 0.006*\"country\" + 0.006*\"china\"\n"
     ]
    },
    {
     "name": "stderr",
     "output_type": "stream",
     "text": [
      "2017-09-30 12:11:20,595 : INFO : topic #2 (0.333): 0.031*\"trade\" + 0.016*\"japan\" + 0.012*\"would\" + 0.009*\"japanese\" + 0.009*\"market\" + 0.008*\"year\" + 0.007*\"country\" + 0.007*\"official\" + 0.006*\"foreign\" + 0.006*\"agreement\"\n",
      "2017-09-30 12:11:20,596 : INFO : topic diff=0.005921, rho=0.117041\n",
      "2017-09-30 12:11:22,043 : INFO : -6.844 per-word bound, 114.8 perplexity estimate based on a held-out corpus of 475 documents with 50286 words\n",
      "2017-09-30 12:11:22,044 : INFO : PROGRESS: pass 72, at document #475/475\n",
      "2017-09-30 12:11:22,390 : INFO : topic #0 (0.333): 0.035*\"mln\" + 0.024*\"dlrs\" + 0.024*\"oil\" + 0.020*\"billion\" + 0.018*\"bank\" + 0.016*\"pct\" + 0.013*\"crude\" + 0.013*\"price\" + 0.012*\"market\" + 0.011*\"bpd\"\n",
      "2017-09-30 12:11:22,391 : INFO : topic #1 (0.333): 0.031*\"oil\" + 0.018*\"opec\" + 0.015*\"price\" + 0.010*\"would\" + 0.008*\"minister\" + 0.008*\"ecuador\" + 0.007*\"official\" + 0.007*\"last\" + 0.006*\"country\" + 0.006*\"china\"\n",
      "2017-09-30 12:11:22,392 : INFO : topic #2 (0.333): 0.031*\"trade\" + 0.016*\"japan\" + 0.012*\"would\" + 0.009*\"japanese\" + 0.009*\"market\" + 0.008*\"year\" + 0.007*\"country\" + 0.007*\"official\" + 0.006*\"foreign\" + 0.006*\"agreement\"\n",
      "2017-09-30 12:11:22,393 : INFO : topic diff=0.005837, rho=0.116248\n",
      "2017-09-30 12:11:23,864 : INFO : -6.843 per-word bound, 114.8 perplexity estimate based on a held-out corpus of 475 documents with 50286 words\n",
      "2017-09-30 12:11:23,864 : INFO : PROGRESS: pass 73, at document #475/475\n",
      "2017-09-30 12:11:24,224 : INFO : topic #0 (0.333): 0.035*\"mln\" + 0.024*\"dlrs\" + 0.024*\"oil\" + 0.020*\"billion\" + 0.018*\"bank\" + 0.016*\"pct\" + 0.013*\"crude\" + 0.013*\"price\" + 0.012*\"market\" + 0.011*\"bpd\"\n",
      "2017-09-30 12:11:24,225 : INFO : topic #1 (0.333): 0.031*\"oil\" + 0.018*\"opec\" + 0.015*\"price\" + 0.010*\"would\" + 0.008*\"minister\" + 0.008*\"ecuador\" + 0.007*\"official\" + 0.007*\"last\" + 0.006*\"barrel\" + 0.006*\"china\"\n",
      "2017-09-30 12:11:24,226 : INFO : topic #2 (0.333): 0.031*\"trade\" + 0.016*\"japan\" + 0.012*\"would\" + 0.009*\"japanese\" + 0.009*\"market\" + 0.008*\"year\" + 0.007*\"country\" + 0.007*\"official\" + 0.006*\"foreign\" + 0.006*\"agreement\"\n",
      "2017-09-30 12:11:24,227 : INFO : topic diff=0.005745, rho=0.115470\n",
      "2017-09-30 12:11:25,680 : INFO : -6.843 per-word bound, 114.8 perplexity estimate based on a held-out corpus of 475 documents with 50286 words\n",
      "2017-09-30 12:11:25,681 : INFO : PROGRESS: pass 74, at document #475/475\n",
      "2017-09-30 12:11:26,022 : INFO : topic #0 (0.333): 0.035*\"mln\" + 0.024*\"dlrs\" + 0.024*\"oil\" + 0.020*\"billion\" + 0.019*\"bank\" + 0.016*\"pct\" + 0.013*\"crude\" + 0.013*\"price\" + 0.012*\"market\" + 0.011*\"bpd\"\n",
      "2017-09-30 12:11:26,023 : INFO : topic #1 (0.333): 0.031*\"oil\" + 0.018*\"opec\" + 0.015*\"price\" + 0.010*\"would\" + 0.008*\"minister\" + 0.008*\"ecuador\" + 0.007*\"official\" + 0.007*\"last\" + 0.006*\"bpd\" + 0.006*\"barrel\"\n",
      "2017-09-30 12:11:26,024 : INFO : topic #2 (0.333): 0.031*\"trade\" + 0.016*\"japan\" + 0.012*\"would\" + 0.009*\"japanese\" + 0.009*\"market\" + 0.008*\"year\" + 0.007*\"country\" + 0.007*\"official\" + 0.006*\"foreign\" + 0.006*\"agreement\"\n",
      "2017-09-30 12:11:26,025 : INFO : topic diff=0.005657, rho=0.114708\n",
      "2017-09-30 12:11:27,488 : INFO : -6.843 per-word bound, 114.8 perplexity estimate based on a held-out corpus of 475 documents with 50286 words\n",
      "2017-09-30 12:11:27,489 : INFO : PROGRESS: pass 75, at document #475/475\n",
      "2017-09-30 12:11:27,839 : INFO : topic #0 (0.333): 0.035*\"mln\" + 0.024*\"dlrs\" + 0.024*\"oil\" + 0.020*\"billion\" + 0.019*\"bank\" + 0.016*\"pct\" + 0.013*\"crude\" + 0.013*\"price\" + 0.012*\"market\" + 0.011*\"bpd\"\n",
      "2017-09-30 12:11:27,840 : INFO : topic #1 (0.333): 0.031*\"oil\" + 0.018*\"opec\" + 0.015*\"price\" + 0.010*\"would\" + 0.008*\"minister\" + 0.008*\"ecuador\" + 0.007*\"official\" + 0.007*\"last\" + 0.006*\"bpd\" + 0.006*\"barrel\"\n",
      "2017-09-30 12:11:27,841 : INFO : topic #2 (0.333): 0.031*\"trade\" + 0.016*\"japan\" + 0.012*\"would\" + 0.009*\"japanese\" + 0.009*\"market\" + 0.008*\"year\" + 0.007*\"country\" + 0.007*\"official\" + 0.006*\"foreign\" + 0.006*\"agreement\"\n",
      "2017-09-30 12:11:27,842 : INFO : topic diff=0.005573, rho=0.113961\n",
      "2017-09-30 12:11:29,271 : INFO : -6.843 per-word bound, 114.8 perplexity estimate based on a held-out corpus of 475 documents with 50286 words\n",
      "2017-09-30 12:11:29,272 : INFO : PROGRESS: pass 76, at document #475/475\n",
      "2017-09-30 12:11:29,623 : INFO : topic #0 (0.333): 0.035*\"mln\" + 0.024*\"dlrs\" + 0.023*\"oil\" + 0.020*\"billion\" + 0.019*\"bank\" + 0.016*\"pct\" + 0.013*\"crude\" + 0.012*\"price\" + 0.012*\"market\" + 0.011*\"bpd\"\n",
      "2017-09-30 12:11:29,624 : INFO : topic #1 (0.333): 0.031*\"oil\" + 0.018*\"opec\" + 0.015*\"price\" + 0.010*\"would\" + 0.008*\"minister\" + 0.008*\"ecuador\" + 0.007*\"official\" + 0.007*\"last\" + 0.006*\"bpd\" + 0.006*\"barrel\"\n",
      "2017-09-30 12:11:29,625 : INFO : topic #2 (0.333): 0.031*\"trade\" + 0.016*\"japan\" + 0.012*\"would\" + 0.009*\"japanese\" + 0.009*\"market\" + 0.008*\"year\" + 0.007*\"country\" + 0.007*\"official\" + 0.006*\"foreign\" + 0.006*\"agreement\"\n",
      "2017-09-30 12:11:29,625 : INFO : topic diff=0.005494, rho=0.113228\n",
      "2017-09-30 12:11:31,236 : INFO : -6.842 per-word bound, 114.7 perplexity estimate based on a held-out corpus of 475 documents with 50286 words\n",
      "2017-09-30 12:11:31,238 : INFO : PROGRESS: pass 77, at document #475/475\n",
      "2017-09-30 12:11:31,639 : INFO : topic #0 (0.333): 0.035*\"mln\" + 0.024*\"dlrs\" + 0.023*\"oil\" + 0.020*\"billion\" + 0.019*\"bank\" + 0.016*\"pct\" + 0.013*\"crude\" + 0.012*\"price\" + 0.012*\"market\" + 0.011*\"bpd\"\n",
      "2017-09-30 12:11:31,640 : INFO : topic #1 (0.333): 0.031*\"oil\" + 0.018*\"opec\" + 0.015*\"price\" + 0.010*\"would\" + 0.008*\"minister\" + 0.008*\"ecuador\" + 0.007*\"official\" + 0.007*\"last\" + 0.007*\"bpd\" + 0.006*\"barrel\"\n",
      "2017-09-30 12:11:31,641 : INFO : topic #2 (0.333): 0.031*\"trade\" + 0.016*\"japan\" + 0.012*\"would\" + 0.009*\"japanese\" + 0.009*\"market\" + 0.008*\"year\" + 0.007*\"country\" + 0.007*\"official\" + 0.006*\"foreign\" + 0.006*\"agreement\"\n",
      "2017-09-30 12:11:31,642 : INFO : topic diff=0.005421, rho=0.112509\n",
      "2017-09-30 12:11:33,281 : INFO : -6.842 per-word bound, 114.7 perplexity estimate based on a held-out corpus of 475 documents with 50286 words\n",
      "2017-09-30 12:11:33,282 : INFO : PROGRESS: pass 78, at document #475/475\n",
      "2017-09-30 12:11:33,691 : INFO : topic #0 (0.333): 0.035*\"mln\" + 0.024*\"dlrs\" + 0.023*\"oil\" + 0.020*\"billion\" + 0.019*\"bank\" + 0.016*\"pct\" + 0.013*\"crude\" + 0.012*\"price\" + 0.012*\"market\" + 0.011*\"bpd\"\n",
      "2017-09-30 12:11:33,692 : INFO : topic #1 (0.333): 0.031*\"oil\" + 0.018*\"opec\" + 0.015*\"price\" + 0.010*\"would\" + 0.008*\"minister\" + 0.008*\"ecuador\" + 0.007*\"official\" + 0.007*\"last\" + 0.007*\"bpd\" + 0.006*\"barrel\"\n",
      "2017-09-30 12:11:33,693 : INFO : topic #2 (0.333): 0.031*\"trade\" + 0.016*\"japan\" + 0.012*\"would\" + 0.009*\"japanese\" + 0.009*\"market\" + 0.008*\"year\" + 0.007*\"country\" + 0.007*\"official\" + 0.006*\"foreign\" + 0.006*\"agreement\"\n",
      "2017-09-30 12:11:33,695 : INFO : topic diff=0.005349, rho=0.111803\n",
      "2017-09-30 12:11:35,333 : INFO : -6.842 per-word bound, 114.7 perplexity estimate based on a held-out corpus of 475 documents with 50286 words\n",
      "2017-09-30 12:11:35,334 : INFO : PROGRESS: pass 79, at document #475/475\n",
      "2017-09-30 12:11:35,700 : INFO : topic #0 (0.333): 0.035*\"mln\" + 0.024*\"dlrs\" + 0.023*\"oil\" + 0.021*\"billion\" + 0.019*\"bank\" + 0.016*\"pct\" + 0.013*\"crude\" + 0.012*\"price\" + 0.012*\"market\" + 0.011*\"bpd\"\n",
      "2017-09-30 12:11:35,701 : INFO : topic #1 (0.333): 0.032*\"oil\" + 0.018*\"opec\" + 0.016*\"price\" + 0.010*\"would\" + 0.008*\"minister\" + 0.008*\"ecuador\" + 0.007*\"official\" + 0.007*\"last\" + 0.007*\"bpd\" + 0.007*\"barrel\"\n",
      "2017-09-30 12:11:35,702 : INFO : topic #2 (0.333): 0.031*\"trade\" + 0.016*\"japan\" + 0.012*\"would\" + 0.009*\"japanese\" + 0.009*\"market\" + 0.008*\"year\" + 0.007*\"country\" + 0.007*\"official\" + 0.006*\"foreign\" + 0.006*\"agreement\"\n",
      "2017-09-30 12:11:35,703 : INFO : topic diff=0.005276, rho=0.111111\n",
      "2017-09-30 12:11:37,398 : INFO : -6.842 per-word bound, 114.7 perplexity estimate based on a held-out corpus of 475 documents with 50286 words\n",
      "2017-09-30 12:11:37,399 : INFO : PROGRESS: pass 80, at document #475/475\n",
      "2017-09-30 12:11:37,874 : INFO : topic #0 (0.333): 0.035*\"mln\" + 0.024*\"dlrs\" + 0.023*\"oil\" + 0.021*\"billion\" + 0.019*\"bank\" + 0.016*\"pct\" + 0.013*\"crude\" + 0.012*\"market\" + 0.012*\"price\" + 0.011*\"stg\"\n",
      "2017-09-30 12:11:37,876 : INFO : topic #1 (0.333): 0.032*\"oil\" + 0.018*\"opec\" + 0.016*\"price\" + 0.010*\"would\" + 0.008*\"minister\" + 0.008*\"ecuador\" + 0.007*\"official\" + 0.007*\"last\" + 0.007*\"bpd\" + 0.007*\"barrel\"\n"
     ]
    },
    {
     "name": "stderr",
     "output_type": "stream",
     "text": [
      "2017-09-30 12:11:37,878 : INFO : topic #2 (0.333): 0.031*\"trade\" + 0.016*\"japan\" + 0.012*\"would\" + 0.009*\"japanese\" + 0.009*\"market\" + 0.008*\"year\" + 0.007*\"country\" + 0.007*\"official\" + 0.006*\"foreign\" + 0.006*\"agreement\"\n",
      "2017-09-30 12:11:37,879 : INFO : topic diff=0.005210, rho=0.110432\n",
      "2017-09-30 12:11:39,579 : INFO : -6.841 per-word bound, 114.7 perplexity estimate based on a held-out corpus of 475 documents with 50286 words\n",
      "2017-09-30 12:11:39,579 : INFO : PROGRESS: pass 81, at document #475/475\n",
      "2017-09-30 12:11:39,968 : INFO : topic #0 (0.333): 0.035*\"mln\" + 0.024*\"dlrs\" + 0.023*\"oil\" + 0.021*\"billion\" + 0.019*\"bank\" + 0.016*\"pct\" + 0.013*\"crude\" + 0.012*\"market\" + 0.012*\"price\" + 0.011*\"stg\"\n",
      "2017-09-30 12:11:39,969 : INFO : topic #1 (0.333): 0.032*\"oil\" + 0.018*\"opec\" + 0.016*\"price\" + 0.010*\"would\" + 0.008*\"minister\" + 0.008*\"ecuador\" + 0.007*\"official\" + 0.007*\"last\" + 0.007*\"bpd\" + 0.007*\"barrel\"\n",
      "2017-09-30 12:11:39,970 : INFO : topic #2 (0.333): 0.031*\"trade\" + 0.016*\"japan\" + 0.012*\"would\" + 0.009*\"japanese\" + 0.009*\"market\" + 0.008*\"year\" + 0.007*\"country\" + 0.007*\"official\" + 0.006*\"foreign\" + 0.006*\"agreement\"\n",
      "2017-09-30 12:11:39,971 : INFO : topic diff=0.005152, rho=0.109764\n",
      "2017-09-30 12:11:41,536 : INFO : -6.841 per-word bound, 114.6 perplexity estimate based on a held-out corpus of 475 documents with 50286 words\n",
      "2017-09-30 12:11:41,537 : INFO : PROGRESS: pass 82, at document #475/475\n",
      "2017-09-30 12:11:41,898 : INFO : topic #0 (0.333): 0.035*\"mln\" + 0.024*\"dlrs\" + 0.023*\"oil\" + 0.021*\"billion\" + 0.019*\"bank\" + 0.016*\"pct\" + 0.013*\"crude\" + 0.012*\"market\" + 0.012*\"price\" + 0.011*\"stg\"\n",
      "2017-09-30 12:11:41,899 : INFO : topic #1 (0.333): 0.032*\"oil\" + 0.018*\"opec\" + 0.016*\"price\" + 0.010*\"would\" + 0.008*\"minister\" + 0.008*\"ecuador\" + 0.007*\"official\" + 0.007*\"bpd\" + 0.007*\"last\" + 0.007*\"barrel\"\n",
      "2017-09-30 12:11:41,900 : INFO : topic #2 (0.333): 0.031*\"trade\" + 0.016*\"japan\" + 0.012*\"would\" + 0.009*\"japanese\" + 0.009*\"market\" + 0.008*\"year\" + 0.007*\"country\" + 0.007*\"official\" + 0.006*\"foreign\" + 0.006*\"agreement\"\n",
      "2017-09-30 12:11:41,901 : INFO : topic diff=0.005108, rho=0.109109\n",
      "2017-09-30 12:11:43,400 : INFO : -6.841 per-word bound, 114.6 perplexity estimate based on a held-out corpus of 475 documents with 50286 words\n",
      "2017-09-30 12:11:43,401 : INFO : PROGRESS: pass 83, at document #475/475\n",
      "2017-09-30 12:11:43,745 : INFO : topic #0 (0.333): 0.035*\"mln\" + 0.024*\"dlrs\" + 0.023*\"oil\" + 0.021*\"billion\" + 0.019*\"bank\" + 0.016*\"pct\" + 0.013*\"crude\" + 0.012*\"market\" + 0.012*\"price\" + 0.011*\"stg\"\n",
      "2017-09-30 12:11:43,746 : INFO : topic #1 (0.333): 0.032*\"oil\" + 0.018*\"opec\" + 0.016*\"price\" + 0.010*\"would\" + 0.008*\"minister\" + 0.008*\"ecuador\" + 0.007*\"official\" + 0.007*\"bpd\" + 0.007*\"last\" + 0.007*\"barrel\"\n",
      "2017-09-30 12:11:43,747 : INFO : topic #2 (0.333): 0.031*\"trade\" + 0.016*\"japan\" + 0.012*\"would\" + 0.009*\"japanese\" + 0.009*\"market\" + 0.008*\"year\" + 0.007*\"country\" + 0.007*\"official\" + 0.006*\"foreign\" + 0.006*\"agreement\"\n",
      "2017-09-30 12:11:43,748 : INFO : topic diff=0.005071, rho=0.108465\n",
      "2017-09-30 12:11:45,189 : INFO : -6.841 per-word bound, 114.6 perplexity estimate based on a held-out corpus of 475 documents with 50286 words\n",
      "2017-09-30 12:11:45,190 : INFO : PROGRESS: pass 84, at document #475/475\n",
      "2017-09-30 12:11:45,530 : INFO : topic #0 (0.333): 0.035*\"mln\" + 0.024*\"dlrs\" + 0.023*\"oil\" + 0.021*\"billion\" + 0.019*\"bank\" + 0.016*\"pct\" + 0.013*\"crude\" + 0.012*\"market\" + 0.012*\"price\" + 0.011*\"stg\"\n",
      "2017-09-30 12:11:45,531 : INFO : topic #1 (0.333): 0.032*\"oil\" + 0.018*\"opec\" + 0.016*\"price\" + 0.010*\"would\" + 0.008*\"minister\" + 0.008*\"ecuador\" + 0.007*\"official\" + 0.007*\"bpd\" + 0.007*\"last\" + 0.007*\"barrel\"\n",
      "2017-09-30 12:11:45,532 : INFO : topic #2 (0.333): 0.031*\"trade\" + 0.016*\"japan\" + 0.012*\"would\" + 0.009*\"japanese\" + 0.009*\"market\" + 0.008*\"year\" + 0.007*\"country\" + 0.007*\"official\" + 0.006*\"foreign\" + 0.006*\"agreement\"\n",
      "2017-09-30 12:11:45,532 : INFO : topic diff=0.005045, rho=0.107833\n",
      "2017-09-30 12:11:46,959 : INFO : -6.840 per-word bound, 114.6 perplexity estimate based on a held-out corpus of 475 documents with 50286 words\n",
      "2017-09-30 12:11:46,960 : INFO : PROGRESS: pass 85, at document #475/475\n",
      "2017-09-30 12:11:47,298 : INFO : topic #0 (0.333): 0.035*\"mln\" + 0.025*\"dlrs\" + 0.022*\"oil\" + 0.021*\"billion\" + 0.019*\"bank\" + 0.016*\"pct\" + 0.013*\"crude\" + 0.012*\"market\" + 0.012*\"price\" + 0.011*\"stg\"\n",
      "2017-09-30 12:11:47,298 : INFO : topic #1 (0.333): 0.032*\"oil\" + 0.018*\"opec\" + 0.016*\"price\" + 0.010*\"would\" + 0.008*\"ecuador\" + 0.008*\"minister\" + 0.007*\"official\" + 0.007*\"bpd\" + 0.007*\"last\" + 0.007*\"barrel\"\n",
      "2017-09-30 12:11:47,299 : INFO : topic #2 (0.333): 0.031*\"trade\" + 0.016*\"japan\" + 0.012*\"would\" + 0.009*\"japanese\" + 0.009*\"market\" + 0.008*\"year\" + 0.007*\"country\" + 0.007*\"official\" + 0.006*\"foreign\" + 0.006*\"agreement\"\n",
      "2017-09-30 12:11:47,300 : INFO : topic diff=0.004929, rho=0.107211\n",
      "2017-09-30 12:11:48,740 : INFO : -6.840 per-word bound, 114.6 perplexity estimate based on a held-out corpus of 475 documents with 50286 words\n",
      "2017-09-30 12:11:48,741 : INFO : PROGRESS: pass 86, at document #475/475\n",
      "2017-09-30 12:11:49,078 : INFO : topic #0 (0.333): 0.035*\"mln\" + 0.025*\"dlrs\" + 0.022*\"oil\" + 0.021*\"billion\" + 0.019*\"bank\" + 0.016*\"pct\" + 0.013*\"crude\" + 0.012*\"market\" + 0.012*\"price\" + 0.011*\"stg\"\n",
      "2017-09-30 12:11:49,078 : INFO : topic #1 (0.333): 0.032*\"oil\" + 0.018*\"opec\" + 0.016*\"price\" + 0.010*\"would\" + 0.008*\"ecuador\" + 0.008*\"minister\" + 0.007*\"official\" + 0.007*\"bpd\" + 0.007*\"last\" + 0.007*\"barrel\"\n",
      "2017-09-30 12:11:49,079 : INFO : topic #2 (0.333): 0.031*\"trade\" + 0.016*\"japan\" + 0.012*\"would\" + 0.009*\"japanese\" + 0.009*\"market\" + 0.008*\"year\" + 0.007*\"country\" + 0.007*\"official\" + 0.006*\"foreign\" + 0.006*\"agreement\"\n",
      "2017-09-30 12:11:49,080 : INFO : topic diff=0.004825, rho=0.106600\n",
      "2017-09-30 12:11:50,518 : INFO : -6.840 per-word bound, 114.6 perplexity estimate based on a held-out corpus of 475 documents with 50286 words\n",
      "2017-09-30 12:11:50,518 : INFO : PROGRESS: pass 87, at document #475/475\n",
      "2017-09-30 12:11:50,855 : INFO : topic #0 (0.333): 0.035*\"mln\" + 0.025*\"dlrs\" + 0.022*\"oil\" + 0.021*\"billion\" + 0.019*\"bank\" + 0.016*\"pct\" + 0.013*\"crude\" + 0.012*\"market\" + 0.012*\"price\" + 0.011*\"stg\"\n",
      "2017-09-30 12:11:50,856 : INFO : topic #1 (0.333): 0.032*\"oil\" + 0.018*\"opec\" + 0.016*\"price\" + 0.010*\"would\" + 0.008*\"ecuador\" + 0.008*\"minister\" + 0.007*\"official\" + 0.007*\"bpd\" + 0.007*\"last\" + 0.007*\"barrel\"\n",
      "2017-09-30 12:11:50,857 : INFO : topic #2 (0.333): 0.031*\"trade\" + 0.016*\"japan\" + 0.012*\"would\" + 0.009*\"japanese\" + 0.009*\"market\" + 0.008*\"year\" + 0.007*\"country\" + 0.007*\"official\" + 0.006*\"foreign\" + 0.006*\"agreement\"\n",
      "2017-09-30 12:11:50,858 : INFO : topic diff=0.004736, rho=0.106000\n",
      "2017-09-30 12:11:52,285 : INFO : -6.840 per-word bound, 114.5 perplexity estimate based on a held-out corpus of 475 documents with 50286 words\n",
      "2017-09-30 12:11:52,286 : INFO : PROGRESS: pass 88, at document #475/475\n",
      "2017-09-30 12:11:52,626 : INFO : topic #0 (0.333): 0.035*\"mln\" + 0.025*\"dlrs\" + 0.022*\"oil\" + 0.021*\"billion\" + 0.019*\"bank\" + 0.016*\"pct\" + 0.013*\"crude\" + 0.012*\"market\" + 0.012*\"price\" + 0.011*\"stg\"\n",
      "2017-09-30 12:11:52,627 : INFO : topic #1 (0.333): 0.033*\"oil\" + 0.018*\"opec\" + 0.016*\"price\" + 0.010*\"would\" + 0.008*\"ecuador\" + 0.008*\"minister\" + 0.007*\"official\" + 0.007*\"bpd\" + 0.007*\"last\" + 0.007*\"barrel\"\n",
      "2017-09-30 12:11:52,628 : INFO : topic #2 (0.333): 0.031*\"trade\" + 0.016*\"japan\" + 0.012*\"would\" + 0.009*\"japanese\" + 0.009*\"market\" + 0.008*\"year\" + 0.007*\"country\" + 0.007*\"official\" + 0.006*\"foreign\" + 0.006*\"agreement\"\n",
      "2017-09-30 12:11:52,629 : INFO : topic diff=0.004658, rho=0.105409\n",
      "2017-09-30 12:11:54,064 : INFO : -6.839 per-word bound, 114.5 perplexity estimate based on a held-out corpus of 475 documents with 50286 words\n",
      "2017-09-30 12:11:54,065 : INFO : PROGRESS: pass 89, at document #475/475\n",
      "2017-09-30 12:11:54,420 : INFO : topic #0 (0.333): 0.035*\"mln\" + 0.025*\"dlrs\" + 0.022*\"oil\" + 0.021*\"billion\" + 0.019*\"bank\" + 0.017*\"pct\" + 0.013*\"crude\" + 0.012*\"market\" + 0.012*\"price\" + 0.011*\"stg\"\n",
      "2017-09-30 12:11:54,421 : INFO : topic #1 (0.333): 0.033*\"oil\" + 0.018*\"opec\" + 0.016*\"price\" + 0.010*\"would\" + 0.008*\"ecuador\" + 0.008*\"minister\" + 0.007*\"bpd\" + 0.007*\"official\" + 0.007*\"last\" + 0.007*\"barrel\"\n"
     ]
    },
    {
     "name": "stderr",
     "output_type": "stream",
     "text": [
      "2017-09-30 12:11:54,422 : INFO : topic #2 (0.333): 0.031*\"trade\" + 0.016*\"japan\" + 0.012*\"would\" + 0.009*\"japanese\" + 0.009*\"market\" + 0.008*\"year\" + 0.007*\"country\" + 0.007*\"official\" + 0.006*\"foreign\" + 0.006*\"agreement\"\n",
      "2017-09-30 12:11:54,423 : INFO : topic diff=0.004591, rho=0.104828\n",
      "2017-09-30 12:11:55,854 : INFO : -6.839 per-word bound, 114.5 perplexity estimate based on a held-out corpus of 475 documents with 50286 words\n",
      "2017-09-30 12:11:55,855 : INFO : PROGRESS: pass 90, at document #475/475\n",
      "2017-09-30 12:11:56,188 : INFO : topic #0 (0.333): 0.035*\"mln\" + 0.025*\"dlrs\" + 0.022*\"oil\" + 0.021*\"billion\" + 0.019*\"bank\" + 0.017*\"pct\" + 0.013*\"crude\" + 0.012*\"market\" + 0.012*\"price\" + 0.011*\"stg\"\n",
      "2017-09-30 12:11:56,189 : INFO : topic #1 (0.333): 0.033*\"oil\" + 0.018*\"opec\" + 0.016*\"price\" + 0.010*\"would\" + 0.008*\"ecuador\" + 0.008*\"minister\" + 0.007*\"bpd\" + 0.007*\"official\" + 0.007*\"barrel\" + 0.007*\"last\"\n",
      "2017-09-30 12:11:56,190 : INFO : topic #2 (0.333): 0.031*\"trade\" + 0.016*\"japan\" + 0.012*\"would\" + 0.009*\"japanese\" + 0.009*\"market\" + 0.008*\"year\" + 0.007*\"country\" + 0.007*\"official\" + 0.006*\"foreign\" + 0.006*\"agreement\"\n",
      "2017-09-30 12:11:56,191 : INFO : topic diff=0.004532, rho=0.104257\n",
      "2017-09-30 12:11:57,621 : INFO : -6.839 per-word bound, 114.5 perplexity estimate based on a held-out corpus of 475 documents with 50286 words\n",
      "2017-09-30 12:11:57,622 : INFO : PROGRESS: pass 91, at document #475/475\n",
      "2017-09-30 12:11:57,961 : INFO : topic #0 (0.333): 0.035*\"mln\" + 0.025*\"dlrs\" + 0.022*\"oil\" + 0.021*\"billion\" + 0.019*\"bank\" + 0.017*\"pct\" + 0.013*\"crude\" + 0.012*\"market\" + 0.012*\"price\" + 0.011*\"stg\"\n",
      "2017-09-30 12:11:57,962 : INFO : topic #1 (0.333): 0.033*\"oil\" + 0.018*\"opec\" + 0.016*\"price\" + 0.010*\"would\" + 0.008*\"ecuador\" + 0.008*\"minister\" + 0.007*\"bpd\" + 0.007*\"official\" + 0.007*\"barrel\" + 0.007*\"last\"\n",
      "2017-09-30 12:11:57,963 : INFO : topic #2 (0.333): 0.031*\"trade\" + 0.016*\"japan\" + 0.012*\"would\" + 0.009*\"japanese\" + 0.009*\"market\" + 0.008*\"year\" + 0.007*\"country\" + 0.007*\"official\" + 0.006*\"foreign\" + 0.006*\"agreement\"\n",
      "2017-09-30 12:11:57,964 : INFO : topic diff=0.004479, rho=0.103695\n",
      "2017-09-30 12:11:59,385 : INFO : -6.839 per-word bound, 114.5 perplexity estimate based on a held-out corpus of 475 documents with 50286 words\n",
      "2017-09-30 12:11:59,386 : INFO : PROGRESS: pass 92, at document #475/475\n",
      "2017-09-30 12:11:59,722 : INFO : topic #0 (0.333): 0.035*\"mln\" + 0.025*\"dlrs\" + 0.022*\"oil\" + 0.021*\"billion\" + 0.019*\"bank\" + 0.017*\"pct\" + 0.013*\"crude\" + 0.012*\"market\" + 0.012*\"price\" + 0.011*\"stg\"\n",
      "2017-09-30 12:11:59,723 : INFO : topic #1 (0.333): 0.033*\"oil\" + 0.018*\"opec\" + 0.016*\"price\" + 0.010*\"would\" + 0.008*\"ecuador\" + 0.008*\"minister\" + 0.007*\"bpd\" + 0.007*\"official\" + 0.007*\"barrel\" + 0.007*\"last\"\n",
      "2017-09-30 12:11:59,724 : INFO : topic #2 (0.333): 0.031*\"trade\" + 0.016*\"japan\" + 0.012*\"would\" + 0.009*\"japanese\" + 0.009*\"market\" + 0.008*\"year\" + 0.008*\"country\" + 0.007*\"official\" + 0.006*\"foreign\" + 0.006*\"agreement\"\n",
      "2017-09-30 12:11:59,725 : INFO : topic diff=0.004435, rho=0.103142\n",
      "2017-09-30 12:12:01,154 : INFO : -6.839 per-word bound, 114.5 perplexity estimate based on a held-out corpus of 475 documents with 50286 words\n",
      "2017-09-30 12:12:01,155 : INFO : PROGRESS: pass 93, at document #475/475\n",
      "2017-09-30 12:12:01,491 : INFO : topic #0 (0.333): 0.035*\"mln\" + 0.025*\"dlrs\" + 0.022*\"oil\" + 0.021*\"billion\" + 0.019*\"bank\" + 0.017*\"pct\" + 0.013*\"crude\" + 0.012*\"market\" + 0.012*\"price\" + 0.011*\"stg\"\n",
      "2017-09-30 12:12:01,492 : INFO : topic #1 (0.333): 0.033*\"oil\" + 0.019*\"opec\" + 0.016*\"price\" + 0.010*\"would\" + 0.008*\"ecuador\" + 0.008*\"minister\" + 0.008*\"bpd\" + 0.007*\"official\" + 0.007*\"barrel\" + 0.007*\"last\"\n",
      "2017-09-30 12:12:01,493 : INFO : topic #2 (0.333): 0.031*\"trade\" + 0.016*\"japan\" + 0.012*\"would\" + 0.009*\"japanese\" + 0.009*\"market\" + 0.008*\"year\" + 0.008*\"country\" + 0.007*\"official\" + 0.006*\"foreign\" + 0.006*\"agreement\"\n",
      "2017-09-30 12:12:01,494 : INFO : topic diff=0.004391, rho=0.102598\n",
      "2017-09-30 12:12:02,922 : INFO : -6.839 per-word bound, 114.4 perplexity estimate based on a held-out corpus of 475 documents with 50286 words\n",
      "2017-09-30 12:12:02,923 : INFO : PROGRESS: pass 94, at document #475/475\n",
      "2017-09-30 12:12:03,261 : INFO : topic #0 (0.333): 0.035*\"mln\" + 0.025*\"dlrs\" + 0.022*\"oil\" + 0.021*\"billion\" + 0.019*\"bank\" + 0.017*\"pct\" + 0.013*\"crude\" + 0.012*\"market\" + 0.012*\"price\" + 0.011*\"stg\"\n",
      "2017-09-30 12:12:03,261 : INFO : topic #1 (0.333): 0.033*\"oil\" + 0.019*\"opec\" + 0.016*\"price\" + 0.010*\"would\" + 0.008*\"ecuador\" + 0.008*\"minister\" + 0.008*\"bpd\" + 0.007*\"official\" + 0.007*\"barrel\" + 0.007*\"last\"\n",
      "2017-09-30 12:12:03,262 : INFO : topic #2 (0.333): 0.031*\"trade\" + 0.016*\"japan\" + 0.012*\"would\" + 0.009*\"japanese\" + 0.009*\"market\" + 0.008*\"year\" + 0.008*\"country\" + 0.007*\"official\" + 0.006*\"foreign\" + 0.006*\"agreement\"\n",
      "2017-09-30 12:12:03,263 : INFO : topic diff=0.004347, rho=0.102062\n",
      "2017-09-30 12:12:04,695 : INFO : -6.838 per-word bound, 114.4 perplexity estimate based on a held-out corpus of 475 documents with 50286 words\n",
      "2017-09-30 12:12:04,696 : INFO : PROGRESS: pass 95, at document #475/475\n",
      "2017-09-30 12:12:05,032 : INFO : topic #0 (0.333): 0.035*\"mln\" + 0.025*\"dlrs\" + 0.022*\"oil\" + 0.021*\"billion\" + 0.019*\"bank\" + 0.017*\"pct\" + 0.013*\"crude\" + 0.012*\"market\" + 0.012*\"price\" + 0.011*\"stg\"\n",
      "2017-09-30 12:12:05,033 : INFO : topic #1 (0.333): 0.033*\"oil\" + 0.019*\"opec\" + 0.016*\"price\" + 0.010*\"would\" + 0.008*\"ecuador\" + 0.008*\"minister\" + 0.008*\"bpd\" + 0.007*\"official\" + 0.007*\"barrel\" + 0.007*\"last\"\n",
      "2017-09-30 12:12:05,034 : INFO : topic #2 (0.333): 0.031*\"trade\" + 0.016*\"japan\" + 0.012*\"would\" + 0.009*\"japanese\" + 0.009*\"market\" + 0.008*\"year\" + 0.008*\"country\" + 0.007*\"official\" + 0.006*\"foreign\" + 0.006*\"agreement\"\n",
      "2017-09-30 12:12:05,035 : INFO : topic diff=0.004303, rho=0.101535\n",
      "2017-09-30 12:12:06,470 : INFO : -6.838 per-word bound, 114.4 perplexity estimate based on a held-out corpus of 475 documents with 50286 words\n",
      "2017-09-30 12:12:06,471 : INFO : PROGRESS: pass 96, at document #475/475\n",
      "2017-09-30 12:12:06,804 : INFO : topic #0 (0.333): 0.035*\"mln\" + 0.025*\"dlrs\" + 0.022*\"oil\" + 0.021*\"billion\" + 0.019*\"bank\" + 0.017*\"pct\" + 0.013*\"crude\" + 0.012*\"market\" + 0.012*\"price\" + 0.011*\"stg\"\n",
      "2017-09-30 12:12:06,805 : INFO : topic #1 (0.333): 0.033*\"oil\" + 0.019*\"opec\" + 0.016*\"price\" + 0.010*\"would\" + 0.008*\"ecuador\" + 0.008*\"minister\" + 0.008*\"bpd\" + 0.007*\"official\" + 0.007*\"barrel\" + 0.007*\"last\"\n",
      "2017-09-30 12:12:06,806 : INFO : topic #2 (0.333): 0.031*\"trade\" + 0.016*\"japan\" + 0.012*\"would\" + 0.009*\"japanese\" + 0.009*\"market\" + 0.008*\"year\" + 0.008*\"country\" + 0.007*\"official\" + 0.006*\"foreign\" + 0.006*\"agreement\"\n",
      "2017-09-30 12:12:06,807 : INFO : topic diff=0.004262, rho=0.101015\n",
      "2017-09-30 12:12:08,238 : INFO : -6.838 per-word bound, 114.4 perplexity estimate based on a held-out corpus of 475 documents with 50286 words\n",
      "2017-09-30 12:12:08,239 : INFO : PROGRESS: pass 97, at document #475/475\n",
      "2017-09-30 12:12:08,575 : INFO : topic #0 (0.333): 0.035*\"mln\" + 0.025*\"dlrs\" + 0.021*\"oil\" + 0.021*\"billion\" + 0.019*\"bank\" + 0.017*\"pct\" + 0.013*\"crude\" + 0.012*\"market\" + 0.012*\"price\" + 0.011*\"stg\"\n",
      "2017-09-30 12:12:08,576 : INFO : topic #1 (0.333): 0.033*\"oil\" + 0.019*\"opec\" + 0.016*\"price\" + 0.010*\"would\" + 0.008*\"ecuador\" + 0.008*\"bpd\" + 0.008*\"minister\" + 0.007*\"official\" + 0.007*\"barrel\" + 0.007*\"last\"\n",
      "2017-09-30 12:12:08,577 : INFO : topic #2 (0.333): 0.031*\"trade\" + 0.016*\"japan\" + 0.012*\"would\" + 0.009*\"japanese\" + 0.009*\"market\" + 0.008*\"year\" + 0.008*\"country\" + 0.007*\"official\" + 0.006*\"foreign\" + 0.006*\"agreement\"\n",
      "2017-09-30 12:12:08,578 : INFO : topic diff=0.004226, rho=0.100504\n",
      "2017-09-30 12:12:09,997 : INFO : -6.838 per-word bound, 114.4 perplexity estimate based on a held-out corpus of 475 documents with 50286 words\n",
      "2017-09-30 12:12:09,998 : INFO : PROGRESS: pass 98, at document #475/475\n",
      "2017-09-30 12:12:10,335 : INFO : topic #0 (0.333): 0.035*\"mln\" + 0.025*\"dlrs\" + 0.021*\"oil\" + 0.021*\"billion\" + 0.019*\"bank\" + 0.017*\"pct\" + 0.013*\"crude\" + 0.012*\"market\" + 0.012*\"price\" + 0.011*\"stg\"\n",
      "2017-09-30 12:12:10,336 : INFO : topic #1 (0.333): 0.034*\"oil\" + 0.019*\"opec\" + 0.016*\"price\" + 0.010*\"would\" + 0.008*\"ecuador\" + 0.008*\"bpd\" + 0.008*\"minister\" + 0.007*\"official\" + 0.007*\"barrel\" + 0.007*\"last\"\n"
     ]
    },
    {
     "name": "stderr",
     "output_type": "stream",
     "text": [
      "2017-09-30 12:12:10,337 : INFO : topic #2 (0.333): 0.031*\"trade\" + 0.016*\"japan\" + 0.012*\"would\" + 0.009*\"japanese\" + 0.009*\"market\" + 0.008*\"year\" + 0.008*\"country\" + 0.007*\"official\" + 0.006*\"foreign\" + 0.006*\"agreement\"\n",
      "2017-09-30 12:12:10,338 : INFO : topic diff=0.004195, rho=0.100000\n",
      "2017-09-30 12:12:11,770 : INFO : -6.838 per-word bound, 114.4 perplexity estimate based on a held-out corpus of 475 documents with 50286 words\n",
      "2017-09-30 12:12:11,771 : INFO : PROGRESS: pass 99, at document #475/475\n",
      "2017-09-30 12:12:12,107 : INFO : topic #0 (0.333): 0.035*\"mln\" + 0.025*\"dlrs\" + 0.021*\"oil\" + 0.021*\"billion\" + 0.019*\"bank\" + 0.017*\"pct\" + 0.013*\"crude\" + 0.012*\"market\" + 0.011*\"price\" + 0.011*\"stg\"\n",
      "2017-09-30 12:12:12,108 : INFO : topic #1 (0.333): 0.034*\"oil\" + 0.019*\"opec\" + 0.017*\"price\" + 0.010*\"would\" + 0.008*\"ecuador\" + 0.008*\"bpd\" + 0.008*\"minister\" + 0.007*\"official\" + 0.007*\"barrel\" + 0.007*\"last\"\n",
      "2017-09-30 12:12:12,108 : INFO : topic #2 (0.333): 0.031*\"trade\" + 0.016*\"japan\" + 0.012*\"would\" + 0.009*\"japanese\" + 0.009*\"market\" + 0.008*\"year\" + 0.008*\"country\" + 0.007*\"official\" + 0.007*\"foreign\" + 0.006*\"agreement\"\n",
      "2017-09-30 12:12:12,109 : INFO : topic diff=0.004161, rho=0.099504\n"
     ]
    },
    {
     "name": "stdout",
     "output_type": "stream",
     "text": [
      "CPU times: user 3min 17s, sys: 888 ms, total: 3min 18s\n",
      "Wall time: 3min 20s\n"
     ]
    }
   ],
   "source": [
    "# Build an LDA model for 3 topics out of the DTM\n",
    "%time lda = gensim.models.ldamodel.LdaModel(dtm_train, num_topics = 3, id2word = dictionary, passes = 20)\n"
   ]
  },
  {
   "cell_type": "code",
   "execution_count": 34,
   "metadata": {},
   "outputs": [
    {
     "data": {
      "text/plain": [
       "[(0,\n",
       "  '0.035*\"mln\" + 0.025*\"dlrs\" + 0.021*\"oil\" + 0.021*\"billion\" + 0.019*\"bank\" + 0.017*\"pct\" + 0.013*\"crude\" + 0.012*\"market\" + 0.011*\"price\" + 0.011*\"stg\"'),\n",
       " (1,\n",
       "  '0.034*\"oil\" + 0.019*\"opec\" + 0.017*\"price\" + 0.010*\"would\" + 0.008*\"ecuador\" + 0.008*\"bpd\" + 0.008*\"minister\" + 0.007*\"official\" + 0.007*\"barrel\" + 0.007*\"last\"'),\n",
       " (2,\n",
       "  '0.031*\"trade\" + 0.016*\"japan\" + 0.012*\"would\" + 0.009*\"japanese\" + 0.009*\"market\" + 0.008*\"year\" + 0.008*\"country\" + 0.007*\"official\" + 0.007*\"foreign\" + 0.006*\"agreement\"')]"
      ]
     },
     "execution_count": 34,
     "metadata": {},
     "output_type": "execute_result"
    }
   ],
   "source": [
    "# To see the topics, with the most probable words in each topic. What topics to you see? \n",
    "lda.show_topics()"
   ]
  },
  {
   "cell_type": "code",
   "execution_count": 35,
   "metadata": {},
   "outputs": [
    {
     "data": {
      "text/plain": [
       "[(0,\n",
       "  '0.035*\"mln\" + 0.025*\"dlrs\" + 0.021*\"oil\" + 0.021*\"billion\" + 0.019*\"bank\" + 0.017*\"pct\" + 0.013*\"crude\" + 0.012*\"market\" + 0.011*\"price\" + 0.011*\"stg\" + 0.010*\"barrel\" + 0.010*\"bpd\" + 0.009*\"year\" + 0.009*\"february\" + 0.007*\"today\" + 0.007*\"money\" + 0.007*\"january\" + 0.006*\"company\" + 0.006*\"last\" + 0.006*\"stock\"'),\n",
       " (1,\n",
       "  '0.034*\"oil\" + 0.019*\"opec\" + 0.017*\"price\" + 0.010*\"would\" + 0.008*\"ecuador\" + 0.008*\"bpd\" + 0.008*\"minister\" + 0.007*\"official\" + 0.007*\"barrel\" + 0.007*\"last\" + 0.006*\"china\" + 0.006*\"dlrs\" + 0.006*\"mln\" + 0.006*\"country\" + 0.006*\"crude\" + 0.005*\"energy\" + 0.005*\"output\" + 0.005*\"year\" + 0.005*\"production\" + 0.005*\"export\"'),\n",
       " (2,\n",
       "  '0.031*\"trade\" + 0.016*\"japan\" + 0.012*\"would\" + 0.009*\"japanese\" + 0.009*\"market\" + 0.008*\"year\" + 0.008*\"country\" + 0.007*\"official\" + 0.007*\"foreign\" + 0.006*\"agreement\" + 0.006*\"state\" + 0.006*\"import\" + 0.005*\"rate\" + 0.005*\"dollar\" + 0.005*\"last\" + 0.005*\"exchange\" + 0.005*\"united\" + 0.005*\"currency\" + 0.005*\"bank\" + 0.005*\"government\"')]"
      ]
     },
     "execution_count": 35,
     "metadata": {},
     "output_type": "execute_result"
    }
   ],
   "source": [
    "# You can also request to see more words per topic\n",
    "lda.show_topics(num_words=20)"
   ]
  },
  {
   "cell_type": "code",
   "execution_count": 14,
   "metadata": {},
   "outputs": [
    {
     "data": {
      "text/plain": [
       "[([(0.02265210370344296, 'trade'),\n",
       "   (0.019098322737379322, 'japan'),\n",
       "   (0.011465547957815311, 'market'),\n",
       "   (0.011463130369687052, 'japanese'),\n",
       "   (0.010105434955204213, 'would'),\n",
       "   (0.009499749678240842, 'dollar'),\n",
       "   (0.0089814549647898086, 'official'),\n",
       "   (0.0075209149361294371, 'currency'),\n",
       "   (0.0068566801430538825, 'bank'),\n",
       "   (0.0068488216247778082, 'agreement'),\n",
       "   (0.0066598665018184908, 'country'),\n",
       "   (0.0062523624245382449, 'rate'),\n",
       "   (0.0062205844242593338, 'state'),\n",
       "   (0.0062118442743486759, 'exchange'),\n",
       "   (0.0059963228262647659, 'minister'),\n",
       "   (0.005033302849512305, 'united'),\n",
       "   (0.0047398540956122125, 'year'),\n",
       "   (0.0046345186141297859, 'world'),\n",
       "   (0.0046291941342265618, 'last'),\n",
       "   (0.0045628490437653914, 'nation')],\n",
       "  -1.0883520694273221),\n",
       " ([(0.029287565475462136, 'oil'),\n",
       "   (0.025727843127202426, 'mln'),\n",
       "   (0.018353473593037451, 'dlrs'),\n",
       "   (0.017517664277337593, 'price'),\n",
       "   (0.01576714224619152, 'opec'),\n",
       "   (0.013263002487102849, 'crude'),\n",
       "   (0.012866479997182592, 'bpd'),\n",
       "   (0.012572105821131885, 'bank'),\n",
       "   (0.011625133249845173, 'billion'),\n",
       "   (0.010231828790121328, 'barrel'),\n",
       "   (0.010050452661244384, 'market'),\n",
       "   (0.0082532780183578857, 'saudi'),\n",
       "   (0.007587151867903502, 'stg'),\n",
       "   (0.0071405907189948572, 'pct'),\n",
       "   (0.0067785130212167461, 'would'),\n",
       "   (0.0065520056516717466, 'official'),\n",
       "   (0.0065458210202275343, 'ecuador'),\n",
       "   (0.0063591383925686975, 'last'),\n",
       "   (0.0058055435700225142, 'february'),\n",
       "   (0.0056382166934622561, 'day')],\n",
       "  -1.6173194105220905),\n",
       " ([(0.026353612676673022, 'trade'),\n",
       "   (0.016963711090341446, 'oil'),\n",
       "   (0.015193801000680417, 'year'),\n",
       "   (0.011442086437197335, 'would'),\n",
       "   (0.01128564964773069, 'pct'),\n",
       "   (0.010623406209307292, 'import'),\n",
       "   (0.0085721850732482022, 'foreign'),\n",
       "   (0.0082676618769312836, 'billion'),\n",
       "   (0.0075912945234275324, 'last'),\n",
       "   (0.006663305953396848, 'export'),\n",
       "   (0.0066535381769246621, 'bill'),\n",
       "   (0.0062668619796469975, 'industry'),\n",
       "   (0.0059126758718236264, 'canada'),\n",
       "   (0.0056349100461528592, 'company'),\n",
       "   (0.0055346372674978271, 'country'),\n",
       "   (0.0055302737256827401, 'tax'),\n",
       "   (0.0054607849822402316, 'government'),\n",
       "   (0.0053601767300959597, 'dlrs'),\n",
       "   (0.0053540535025787764, 'house'),\n",
       "   (0.0051209187860450749, 'china')],\n",
       "  -1.8436168713545338)]"
      ]
     },
     "execution_count": 14,
     "metadata": {},
     "output_type": "execute_result"
    }
   ],
   "source": [
    "# A similar function showing each topic with its most probable words and its topic coherence score\n",
    "lda.top_topics(dtm_train)"
   ]
  },
  {
   "cell_type": "code",
   "execution_count": 15,
   "metadata": {},
   "outputs": [
    {
     "data": {
      "text/plain": [
       "-1.5164294504346489"
      ]
     },
     "execution_count": 15,
     "metadata": {},
     "output_type": "execute_result"
    }
   ],
   "source": [
    "# We can therefore derive the average topic coherence, as a way to evaluate the topic models\n",
    "import numpy as np\n",
    "lda_coherence = [ n for _, n in lda.top_topics(dtm_train) ]\n",
    "np.mean(lda_coherence)"
   ]
  },
  {
   "cell_type": "code",
   "execution_count": 16,
   "metadata": {},
   "outputs": [
    {
     "data": {
      "text/plain": [
       "-344555.61384163948"
      ]
     },
     "execution_count": 16,
     "metadata": {},
     "output_type": "execute_result"
    }
   ],
   "source": [
    "# Another metric for gauging goodness of models, perplexity, is accessed using bound() function\n",
    "lda.bound(dtm_train)"
   ]
  },
  {
   "cell_type": "code",
   "execution_count": 17,
   "metadata": {
    "collapsed": true
   },
   "outputs": [],
   "source": [
    "# Get the topic distribution of documents\n",
    "dtopics_train = lda.get_document_topics(dtm_train)"
   ]
  },
  {
   "cell_type": "code",
   "execution_count": 18,
   "metadata": {},
   "outputs": [
    {
     "name": "stdout",
     "output_type": "stream",
     "text": [
      "[(2, 0.9933326808101347)]\n",
      "[(0, 0.61447506018849996), (1, 0.37764094072656679)]\n",
      "[(0, 0.3248011624549641), (2, 0.66892040293521571)]\n",
      "[(0, 0.50506141753641587), (1, 0.044412136193555156), (2, 0.45052644627002908)]\n",
      "[(1, 0.9896036830008591)]\n"
     ]
    }
   ],
   "source": [
    "# Get the topic likelihood for the first document in train set\n",
    "for i in range(0, 5):\n",
    "    print(dtopics_train[i])"
   ]
  },
  {
   "cell_type": "code",
   "execution_count": 19,
   "metadata": {
    "collapsed": true
   },
   "outputs": [],
   "source": [
    "# Pick the topic with the highest probability for each document, map it to the label\n",
    "# NOTE: the mapping may change in a different run\n",
    "from operator import itemgetter\n",
    "top_train = [ max(t, key=itemgetter(1))[0] for t in dtopics_train ]\n",
    "dict = {1: 'crude', 0: 'money-fx', 2: 'trade'}\n",
    "topic_train = [ dict[t] for t in top_train ]"
   ]
  },
  {
   "cell_type": "code",
   "execution_count": 20,
   "metadata": {},
   "outputs": [
    {
     "name": "stdout",
     "output_type": "stream",
     "text": [
      "[[118  58  18]\n",
      " [  3  62 107]\n",
      " [ 53   6  50]]\n",
      "0.484210526316\n",
      "             precision    recall  f1-score   support\n",
      "\n",
      "      crude       0.68      0.61      0.64       194\n",
      "   money-fx       0.49      0.36      0.42       172\n",
      "      trade       0.29      0.46      0.35       109\n",
      "\n",
      "avg / total       0.52      0.48      0.49       475\n",
      "\n"
     ]
    }
   ],
   "source": [
    "# Now let's see how well these topics match the actual categories\n",
    "\n",
    "from sklearn import metrics\n",
    "print(metrics.confusion_matrix(topic_train, y_train))\n",
    "print(np.mean(topic_train == y_train) )\n",
    "print(metrics.classification_report(topic_train, y_train))"
   ]
  },
  {
   "cell_type": "code",
   "execution_count": 21,
   "metadata": {},
   "outputs": [
    {
     "name": "stdout",
     "output_type": "stream",
     "text": [
      "[[51 37 13]\n",
      " [ 3 40 44]\n",
      " [25  3 19]]\n",
      "0.468085106383\n",
      "             precision    recall  f1-score   support\n",
      "\n",
      "      crude       0.65      0.50      0.57       101\n",
      "   money-fx       0.50      0.46      0.48        87\n",
      "      trade       0.25      0.40      0.31        47\n",
      "\n",
      "avg / total       0.51      0.47      0.48       235\n",
      "\n"
     ]
    }
   ],
   "source": [
    "# The typical practice is to use the reserved test set for evaluation\n",
    "toks_test = X_test.apply(pre_process)\n",
    "dtm_test = [dictionary.doc2bow(d) for d in toks_test ]\n",
    "dtopics_test = lda.get_document_topics(dtm_test)\n",
    "top_test = [ max(t,key=itemgetter(1))[0] for t in dtopics_test ]\n",
    "topic_test = [ dict[t] for t in top_test ]\n",
    "print(metrics.confusion_matrix(topic_test, y_test))\n",
    "print(np.mean(topic_test == y_test) )\n",
    "print(metrics.classification_report(topic_test, y_test))"
   ]
  },
  {
   "cell_type": "code",
   "execution_count": 22,
   "metadata": {},
   "outputs": [
    {
     "data": {
      "text/plain": [
       "-2.3245713610388639"
      ]
     },
     "execution_count": 22,
     "metadata": {},
     "output_type": "execute_result"
    }
   ],
   "source": [
    "# In actual use case, we wouldn't have class labels for comparison.\n",
    "# So mean topic coherence and model perplexity can be checked.\n",
    "test_coherence = [ n for _, n in lda.top_topics(dtm_test) ]\n",
    "np.mean(test_coherence)\n"
   ]
  },
  {
   "cell_type": "code",
   "execution_count": 23,
   "metadata": {},
   "outputs": [
    {
     "data": {
      "text/plain": [
       "-162133.88252964919"
      ]
     },
     "execution_count": 23,
     "metadata": {},
     "output_type": "execute_result"
    }
   ],
   "source": [
    "lda.bound(dtm_test)"
   ]
  },
  {
   "cell_type": "code",
   "execution_count": 24,
   "metadata": {},
   "outputs": [
    {
     "name": "stderr",
     "output_type": "stream",
     "text": [
      "2017-09-30 12:04:34,145 : INFO : using symmetric alpha at 0.25\n",
      "2017-09-30 12:04:34,147 : INFO : using symmetric eta at 0.0004108463434675431\n",
      "2017-09-30 12:04:34,150 : INFO : using serial LDA version on this node\n",
      "2017-09-30 12:04:34,199 : INFO : running online (multi-pass) LDA training, 4 topics, 20 passes over the supplied corpus of 475 documents, updating model once every 475 documents, evaluating perplexity every 475 documents, iterating 50x with a convergence threshold of 0.001000\n",
      "2017-09-30 12:04:36,147 : INFO : -8.408 per-word bound, 339.8 perplexity estimate based on a held-out corpus of 475 documents with 50286 words\n",
      "2017-09-30 12:04:36,147 : INFO : PROGRESS: pass 0, at document #475/475\n",
      "2017-09-30 12:04:36,845 : INFO : topic #0 (0.250): 0.019*\"trade\" + 0.011*\"oil\" + 0.010*\"price\" + 0.009*\"would\" + 0.008*\"opec\" + 0.008*\"market\" + 0.007*\"country\" + 0.007*\"mln\" + 0.006*\"official\" + 0.006*\"currency\"\n",
      "2017-09-30 12:04:36,846 : INFO : topic #1 (0.250): 0.022*\"oil\" + 0.010*\"trade\" + 0.010*\"would\" + 0.009*\"bank\" + 0.009*\"japan\" + 0.008*\"mln\" + 0.008*\"market\" + 0.007*\"price\" + 0.007*\"bpd\" + 0.007*\"dlrs\"\n",
      "2017-09-30 12:04:36,847 : INFO : topic #2 (0.250): 0.020*\"trade\" + 0.013*\"market\" + 0.011*\"japan\" + 0.010*\"billion\" + 0.010*\"oil\" + 0.009*\"mln\" + 0.009*\"bank\" + 0.008*\"would\" + 0.008*\"price\" + 0.007*\"year\"\n",
      "2017-09-30 12:04:36,848 : INFO : topic #3 (0.250): 0.016*\"oil\" + 0.015*\"trade\" + 0.014*\"mln\" + 0.014*\"dlrs\" + 0.010*\"pct\" + 0.010*\"year\" + 0.010*\"would\" + 0.008*\"billion\" + 0.007*\"price\" + 0.007*\"japan\"\n",
      "2017-09-30 12:04:36,849 : INFO : topic diff=1.120950, rho=1.000000\n",
      "2017-09-30 12:04:38,495 : INFO : -7.116 per-word bound, 138.7 perplexity estimate based on a held-out corpus of 475 documents with 50286 words\n",
      "2017-09-30 12:04:38,495 : INFO : PROGRESS: pass 1, at document #475/475\n",
      "2017-09-30 12:04:39,078 : INFO : topic #0 (0.250): 0.017*\"trade\" + 0.012*\"price\" + 0.011*\"opec\" + 0.010*\"would\" + 0.010*\"oil\" + 0.008*\"market\" + 0.007*\"country\" + 0.007*\"currency\" + 0.007*\"dollar\" + 0.006*\"official\"\n",
      "2017-09-30 12:04:39,079 : INFO : topic #1 (0.250): 0.025*\"oil\" + 0.010*\"bank\" + 0.010*\"would\" + 0.008*\"price\" + 0.008*\"bpd\" + 0.008*\"mln\" + 0.008*\"dollar\" + 0.007*\"dlrs\" + 0.007*\"rate\" + 0.007*\"market\"\n",
      "2017-09-30 12:04:39,080 : INFO : topic #2 (0.250): 0.026*\"trade\" + 0.016*\"japan\" + 0.014*\"market\" + 0.011*\"billion\" + 0.010*\"mln\" + 0.009*\"would\" + 0.009*\"bank\" + 0.009*\"japanese\" + 0.008*\"official\" + 0.008*\"foreign\"\n",
      "2017-09-30 12:04:39,081 : INFO : topic #3 (0.250): 0.018*\"oil\" + 0.016*\"mln\" + 0.016*\"dlrs\" + 0.014*\"trade\" + 0.011*\"year\" + 0.011*\"pct\" + 0.009*\"would\" + 0.009*\"billion\" + 0.008*\"price\" + 0.008*\"barrel\"\n",
      "2017-09-30 12:04:39,082 : INFO : topic diff=0.385234, rho=0.577350\n",
      "2017-09-30 12:04:40,665 : INFO : -7.011 per-word bound, 129.0 perplexity estimate based on a held-out corpus of 475 documents with 50286 words\n",
      "2017-09-30 12:04:40,666 : INFO : PROGRESS: pass 2, at document #475/475\n",
      "2017-09-30 12:04:41,160 : INFO : topic #0 (0.250): 0.014*\"trade\" + 0.013*\"price\" + 0.012*\"opec\" + 0.010*\"would\" + 0.009*\"market\" + 0.009*\"oil\" + 0.008*\"currency\" + 0.008*\"dollar\" + 0.007*\"country\" + 0.006*\"official\"\n",
      "2017-09-30 12:04:41,161 : INFO : topic #1 (0.250): 0.027*\"oil\" + 0.011*\"bank\" + 0.009*\"would\" + 0.008*\"price\" + 0.008*\"dollar\" + 0.008*\"bpd\" + 0.008*\"rate\" + 0.008*\"dlrs\" + 0.008*\"crude\" + 0.007*\"mln\"\n",
      "2017-09-30 12:04:41,162 : INFO : topic #2 (0.250): 0.030*\"trade\" + 0.018*\"japan\" + 0.014*\"market\" + 0.011*\"billion\" + 0.010*\"would\" + 0.010*\"japanese\" + 0.010*\"mln\" + 0.009*\"official\" + 0.009*\"bank\" + 0.008*\"stg\"\n",
      "2017-09-30 12:04:41,163 : INFO : topic #3 (0.250): 0.020*\"oil\" + 0.017*\"dlrs\" + 0.016*\"mln\" + 0.013*\"trade\" + 0.012*\"year\" + 0.011*\"pct\" + 0.010*\"billion\" + 0.009*\"price\" + 0.008*\"barrel\" + 0.008*\"would\"\n",
      "2017-09-30 12:04:41,164 : INFO : topic diff=0.299943, rho=0.500000\n",
      "2017-09-30 12:04:42,719 : INFO : -6.959 per-word bound, 124.4 perplexity estimate based on a held-out corpus of 475 documents with 50286 words\n",
      "2017-09-30 12:04:42,720 : INFO : PROGRESS: pass 3, at document #475/475\n",
      "2017-09-30 12:04:43,195 : INFO : topic #0 (0.250): 0.014*\"price\" + 0.013*\"opec\" + 0.012*\"trade\" + 0.011*\"would\" + 0.010*\"market\" + 0.009*\"oil\" + 0.008*\"dollar\" + 0.008*\"currency\" + 0.008*\"country\" + 0.007*\"official\"\n",
      "2017-09-30 12:04:43,196 : INFO : topic #1 (0.250): 0.028*\"oil\" + 0.011*\"bank\" + 0.009*\"would\" + 0.009*\"price\" + 0.008*\"dollar\" + 0.008*\"crude\" + 0.008*\"rate\" + 0.008*\"dlrs\" + 0.008*\"bpd\" + 0.007*\"minister\"\n",
      "2017-09-30 12:04:43,196 : INFO : topic #2 (0.250): 0.033*\"trade\" + 0.019*\"japan\" + 0.014*\"market\" + 0.011*\"would\" + 0.011*\"japanese\" + 0.010*\"billion\" + 0.010*\"mln\" + 0.009*\"official\" + 0.008*\"bank\" + 0.008*\"stg\"\n",
      "2017-09-30 12:04:43,197 : INFO : topic #3 (0.250): 0.021*\"oil\" + 0.017*\"dlrs\" + 0.017*\"mln\" + 0.012*\"year\" + 0.012*\"trade\" + 0.011*\"pct\" + 0.010*\"billion\" + 0.009*\"price\" + 0.008*\"barrel\" + 0.008*\"export\"\n",
      "2017-09-30 12:04:43,198 : INFO : topic diff=0.228595, rho=0.447214\n",
      "2017-09-30 12:04:44,762 : INFO : -6.932 per-word bound, 122.1 perplexity estimate based on a held-out corpus of 475 documents with 50286 words\n",
      "2017-09-30 12:04:44,763 : INFO : PROGRESS: pass 4, at document #475/475\n",
      "2017-09-30 12:04:45,229 : INFO : topic #0 (0.250): 0.014*\"opec\" + 0.014*\"price\" + 0.011*\"trade\" + 0.011*\"market\" + 0.010*\"would\" + 0.009*\"dollar\" + 0.008*\"currency\" + 0.008*\"oil\" + 0.008*\"country\" + 0.007*\"official\"\n",
      "2017-09-30 12:04:45,230 : INFO : topic #1 (0.250): 0.029*\"oil\" + 0.011*\"bank\" + 0.009*\"would\" + 0.009*\"price\" + 0.009*\"crude\" + 0.008*\"dollar\" + 0.008*\"rate\" + 0.008*\"dlrs\" + 0.008*\"minister\" + 0.008*\"saudi\"\n",
      "2017-09-30 12:04:45,231 : INFO : topic #2 (0.250): 0.035*\"trade\" + 0.019*\"japan\" + 0.014*\"market\" + 0.012*\"would\" + 0.011*\"japanese\" + 0.010*\"billion\" + 0.010*\"mln\" + 0.009*\"official\" + 0.008*\"bill\" + 0.008*\"stg\"\n",
      "2017-09-30 12:04:45,232 : INFO : topic #3 (0.250): 0.022*\"oil\" + 0.018*\"dlrs\" + 0.017*\"mln\" + 0.012*\"year\" + 0.011*\"pct\" + 0.011*\"billion\" + 0.011*\"trade\" + 0.009*\"price\" + 0.009*\"barrel\" + 0.008*\"export\"\n",
      "2017-09-30 12:04:45,233 : INFO : topic diff=0.178151, rho=0.408248\n",
      "2017-09-30 12:04:46,775 : INFO : -6.916 per-word bound, 120.8 perplexity estimate based on a held-out corpus of 475 documents with 50286 words\n",
      "2017-09-30 12:04:46,776 : INFO : PROGRESS: pass 5, at document #475/475\n",
      "2017-09-30 12:04:47,223 : INFO : topic #0 (0.250): 0.014*\"opec\" + 0.014*\"price\" + 0.011*\"market\" + 0.010*\"would\" + 0.010*\"trade\" + 0.009*\"dollar\" + 0.009*\"currency\" + 0.008*\"country\" + 0.007*\"oil\" + 0.007*\"official\"\n",
      "2017-09-30 12:04:47,224 : INFO : topic #1 (0.250): 0.030*\"oil\" + 0.011*\"bank\" + 0.009*\"would\" + 0.009*\"crude\" + 0.009*\"price\" + 0.008*\"dollar\" + 0.008*\"rate\" + 0.008*\"dlrs\" + 0.008*\"minister\" + 0.008*\"saudi\"\n",
      "2017-09-30 12:04:47,225 : INFO : topic #2 (0.250): 0.036*\"trade\" + 0.020*\"japan\" + 0.014*\"market\" + 0.012*\"would\" + 0.012*\"japanese\" + 0.010*\"mln\" + 0.010*\"billion\" + 0.009*\"official\" + 0.008*\"bill\" + 0.008*\"stg\"\n",
      "2017-09-30 12:04:47,225 : INFO : topic #3 (0.250): 0.023*\"oil\" + 0.018*\"dlrs\" + 0.018*\"mln\" + 0.012*\"year\" + 0.012*\"billion\" + 0.011*\"pct\" + 0.010*\"trade\" + 0.009*\"price\" + 0.009*\"barrel\" + 0.008*\"bpd\"\n",
      "2017-09-30 12:04:47,226 : INFO : topic diff=0.141502, rho=0.377964\n",
      "2017-09-30 12:04:48,764 : INFO : -6.905 per-word bound, 119.9 perplexity estimate based on a held-out corpus of 475 documents with 50286 words\n",
      "2017-09-30 12:04:48,765 : INFO : PROGRESS: pass 6, at document #475/475\n",
      "2017-09-30 12:04:49,206 : INFO : topic #0 (0.250): 0.015*\"opec\" + 0.014*\"price\" + 0.012*\"market\" + 0.010*\"would\" + 0.010*\"dollar\" + 0.009*\"trade\" + 0.009*\"currency\" + 0.008*\"country\" + 0.007*\"bank\" + 0.007*\"official\"\n",
      "2017-09-30 12:04:49,207 : INFO : topic #1 (0.250): 0.031*\"oil\" + 0.011*\"bank\" + 0.009*\"crude\" + 0.009*\"would\" + 0.009*\"price\" + 0.008*\"dlrs\" + 0.008*\"rate\" + 0.008*\"minister\" + 0.008*\"dollar\" + 0.008*\"saudi\"\n",
      "2017-09-30 12:04:49,208 : INFO : topic #2 (0.250): 0.037*\"trade\" + 0.020*\"japan\" + 0.013*\"market\" + 0.012*\"would\" + 0.012*\"japanese\" + 0.010*\"mln\" + 0.009*\"official\" + 0.009*\"billion\" + 0.009*\"bill\" + 0.008*\"stg\"\n",
      "2017-09-30 12:04:49,209 : INFO : topic #3 (0.250): 0.024*\"oil\" + 0.018*\"dlrs\" + 0.018*\"mln\" + 0.013*\"billion\" + 0.012*\"year\" + 0.012*\"pct\" + 0.010*\"trade\" + 0.009*\"price\" + 0.009*\"barrel\" + 0.008*\"bpd\"\n"
     ]
    },
    {
     "name": "stderr",
     "output_type": "stream",
     "text": [
      "2017-09-30 12:04:49,210 : INFO : topic diff=0.113997, rho=0.353553\n",
      "2017-09-30 12:04:50,734 : INFO : -6.898 per-word bound, 119.2 perplexity estimate based on a held-out corpus of 475 documents with 50286 words\n",
      "2017-09-30 12:04:50,735 : INFO : PROGRESS: pass 7, at document #475/475\n",
      "2017-09-30 12:04:51,173 : INFO : topic #0 (0.250): 0.015*\"opec\" + 0.014*\"price\" + 0.012*\"market\" + 0.010*\"dollar\" + 0.010*\"would\" + 0.009*\"currency\" + 0.009*\"trade\" + 0.008*\"country\" + 0.008*\"bank\" + 0.007*\"official\"\n",
      "2017-09-30 12:04:51,174 : INFO : topic #1 (0.250): 0.031*\"oil\" + 0.011*\"bank\" + 0.009*\"crude\" + 0.009*\"would\" + 0.009*\"price\" + 0.008*\"minister\" + 0.008*\"dlrs\" + 0.008*\"ecuador\" + 0.008*\"rate\" + 0.008*\"saudi\"\n",
      "2017-09-30 12:04:51,175 : INFO : topic #2 (0.250): 0.037*\"trade\" + 0.020*\"japan\" + 0.013*\"market\" + 0.012*\"would\" + 0.012*\"japanese\" + 0.010*\"mln\" + 0.009*\"official\" + 0.009*\"billion\" + 0.009*\"bill\" + 0.008*\"stg\"\n",
      "2017-09-30 12:04:51,176 : INFO : topic #3 (0.250): 0.024*\"oil\" + 0.019*\"dlrs\" + 0.018*\"mln\" + 0.013*\"billion\" + 0.013*\"year\" + 0.012*\"pct\" + 0.009*\"price\" + 0.009*\"trade\" + 0.009*\"barrel\" + 0.009*\"bpd\"\n",
      "2017-09-30 12:04:51,177 : INFO : topic diff=0.093578, rho=0.333333\n",
      "2017-09-30 12:04:52,695 : INFO : -6.892 per-word bound, 118.7 perplexity estimate based on a held-out corpus of 475 documents with 50286 words\n",
      "2017-09-30 12:04:52,696 : INFO : PROGRESS: pass 8, at document #475/475\n",
      "2017-09-30 12:04:53,123 : INFO : topic #0 (0.250): 0.015*\"opec\" + 0.014*\"price\" + 0.012*\"market\" + 0.011*\"dollar\" + 0.010*\"would\" + 0.010*\"currency\" + 0.009*\"trade\" + 0.008*\"bank\" + 0.008*\"country\" + 0.007*\"official\"\n",
      "2017-09-30 12:04:53,124 : INFO : topic #1 (0.250): 0.032*\"oil\" + 0.011*\"bank\" + 0.009*\"crude\" + 0.009*\"would\" + 0.009*\"ecuador\" + 0.009*\"price\" + 0.009*\"minister\" + 0.008*\"dlrs\" + 0.008*\"rate\" + 0.008*\"saudi\"\n",
      "2017-09-30 12:04:53,125 : INFO : topic #2 (0.250): 0.038*\"trade\" + 0.020*\"japan\" + 0.013*\"market\" + 0.012*\"would\" + 0.012*\"japanese\" + 0.010*\"mln\" + 0.009*\"official\" + 0.009*\"bill\" + 0.008*\"billion\" + 0.008*\"stg\"\n",
      "2017-09-30 12:04:53,126 : INFO : topic #3 (0.250): 0.025*\"oil\" + 0.019*\"dlrs\" + 0.019*\"mln\" + 0.014*\"billion\" + 0.013*\"year\" + 0.012*\"pct\" + 0.010*\"price\" + 0.009*\"barrel\" + 0.009*\"trade\" + 0.009*\"bpd\"\n",
      "2017-09-30 12:04:53,127 : INFO : topic diff=0.078443, rho=0.316228\n",
      "2017-09-30 12:04:54,674 : INFO : -6.887 per-word bound, 118.3 perplexity estimate based on a held-out corpus of 475 documents with 50286 words\n",
      "2017-09-30 12:04:54,675 : INFO : PROGRESS: pass 9, at document #475/475\n",
      "2017-09-30 12:04:55,100 : INFO : topic #0 (0.250): 0.015*\"opec\" + 0.014*\"price\" + 0.013*\"market\" + 0.011*\"dollar\" + 0.010*\"would\" + 0.010*\"currency\" + 0.009*\"bank\" + 0.008*\"trade\" + 0.008*\"country\" + 0.007*\"official\"\n",
      "2017-09-30 12:04:55,101 : INFO : topic #1 (0.250): 0.032*\"oil\" + 0.011*\"bank\" + 0.010*\"crude\" + 0.009*\"ecuador\" + 0.009*\"would\" + 0.009*\"price\" + 0.009*\"minister\" + 0.008*\"dlrs\" + 0.008*\"saudi\" + 0.008*\"rate\"\n",
      "2017-09-30 12:04:55,102 : INFO : topic #2 (0.250): 0.038*\"trade\" + 0.020*\"japan\" + 0.013*\"market\" + 0.013*\"would\" + 0.012*\"japanese\" + 0.010*\"mln\" + 0.009*\"official\" + 0.009*\"bill\" + 0.008*\"stg\" + 0.008*\"billion\"\n",
      "2017-09-30 12:04:55,102 : INFO : topic #3 (0.250): 0.026*\"oil\" + 0.019*\"dlrs\" + 0.019*\"mln\" + 0.014*\"billion\" + 0.013*\"year\" + 0.012*\"pct\" + 0.010*\"price\" + 0.009*\"bpd\" + 0.009*\"barrel\" + 0.009*\"trade\"\n",
      "2017-09-30 12:04:55,103 : INFO : topic diff=0.067053, rho=0.301511\n",
      "2017-09-30 12:04:56,615 : INFO : -6.882 per-word bound, 118.0 perplexity estimate based on a held-out corpus of 475 documents with 50286 words\n",
      "2017-09-30 12:04:56,616 : INFO : PROGRESS: pass 10, at document #475/475\n",
      "2017-09-30 12:04:57,038 : INFO : topic #0 (0.250): 0.015*\"opec\" + 0.014*\"price\" + 0.013*\"market\" + 0.012*\"dollar\" + 0.010*\"would\" + 0.010*\"currency\" + 0.009*\"bank\" + 0.008*\"trade\" + 0.008*\"country\" + 0.007*\"official\"\n",
      "2017-09-30 12:04:57,039 : INFO : topic #1 (0.250): 0.032*\"oil\" + 0.011*\"bank\" + 0.010*\"ecuador\" + 0.010*\"crude\" + 0.009*\"would\" + 0.009*\"minister\" + 0.009*\"price\" + 0.009*\"dlrs\" + 0.008*\"saudi\" + 0.008*\"rate\"\n",
      "2017-09-30 12:04:57,040 : INFO : topic #2 (0.250): 0.039*\"trade\" + 0.020*\"japan\" + 0.013*\"market\" + 0.013*\"would\" + 0.012*\"japanese\" + 0.010*\"mln\" + 0.009*\"official\" + 0.009*\"bill\" + 0.008*\"stg\" + 0.008*\"billion\"\n",
      "2017-09-30 12:04:57,040 : INFO : topic #3 (0.250): 0.026*\"oil\" + 0.019*\"mln\" + 0.019*\"dlrs\" + 0.014*\"billion\" + 0.013*\"year\" + 0.012*\"pct\" + 0.010*\"price\" + 0.009*\"bpd\" + 0.009*\"barrel\" + 0.009*\"crude\"\n",
      "2017-09-30 12:04:57,041 : INFO : topic diff=0.058062, rho=0.288675\n",
      "2017-09-30 12:04:58,546 : INFO : -6.879 per-word bound, 117.7 perplexity estimate based on a held-out corpus of 475 documents with 50286 words\n",
      "2017-09-30 12:04:58,546 : INFO : PROGRESS: pass 11, at document #475/475\n",
      "2017-09-30 12:04:58,946 : INFO : topic #0 (0.250): 0.015*\"opec\" + 0.014*\"price\" + 0.013*\"market\" + 0.012*\"dollar\" + 0.010*\"currency\" + 0.010*\"would\" + 0.010*\"bank\" + 0.008*\"trade\" + 0.008*\"country\" + 0.007*\"official\"\n",
      "2017-09-30 12:04:58,947 : INFO : topic #1 (0.250): 0.032*\"oil\" + 0.011*\"bank\" + 0.010*\"ecuador\" + 0.010*\"crude\" + 0.010*\"would\" + 0.009*\"minister\" + 0.009*\"price\" + 0.009*\"dlrs\" + 0.008*\"saudi\" + 0.008*\"rate\"\n",
      "2017-09-30 12:04:58,948 : INFO : topic #2 (0.250): 0.039*\"trade\" + 0.020*\"japan\" + 0.013*\"market\" + 0.013*\"would\" + 0.012*\"japanese\" + 0.010*\"mln\" + 0.009*\"official\" + 0.009*\"bill\" + 0.008*\"stg\" + 0.008*\"billion\"\n",
      "2017-09-30 12:04:58,949 : INFO : topic #3 (0.250): 0.027*\"oil\" + 0.020*\"mln\" + 0.019*\"dlrs\" + 0.014*\"billion\" + 0.013*\"year\" + 0.012*\"pct\" + 0.010*\"price\" + 0.010*\"bpd\" + 0.009*\"barrel\" + 0.009*\"crude\"\n",
      "2017-09-30 12:04:58,950 : INFO : topic diff=0.050909, rho=0.277350\n",
      "2017-09-30 12:05:00,454 : INFO : -6.875 per-word bound, 117.4 perplexity estimate based on a held-out corpus of 475 documents with 50286 words\n",
      "2017-09-30 12:05:00,454 : INFO : PROGRESS: pass 12, at document #475/475\n",
      "2017-09-30 12:05:00,863 : INFO : topic #0 (0.250): 0.015*\"opec\" + 0.014*\"price\" + 0.013*\"market\" + 0.012*\"dollar\" + 0.010*\"currency\" + 0.010*\"bank\" + 0.010*\"would\" + 0.008*\"country\" + 0.008*\"trade\" + 0.007*\"exchange\"\n",
      "2017-09-30 12:05:00,864 : INFO : topic #1 (0.250): 0.033*\"oil\" + 0.011*\"ecuador\" + 0.011*\"bank\" + 0.010*\"crude\" + 0.010*\"would\" + 0.009*\"minister\" + 0.009*\"dlrs\" + 0.009*\"price\" + 0.008*\"saudi\" + 0.008*\"barrel\"\n",
      "2017-09-30 12:05:00,864 : INFO : topic #2 (0.250): 0.039*\"trade\" + 0.020*\"japan\" + 0.013*\"market\" + 0.013*\"would\" + 0.012*\"japanese\" + 0.010*\"mln\" + 0.009*\"official\" + 0.009*\"bill\" + 0.008*\"stg\" + 0.008*\"import\"\n",
      "2017-09-30 12:05:00,865 : INFO : topic #3 (0.250): 0.027*\"oil\" + 0.020*\"mln\" + 0.020*\"dlrs\" + 0.015*\"billion\" + 0.013*\"year\" + 0.012*\"pct\" + 0.010*\"price\" + 0.010*\"bpd\" + 0.010*\"barrel\" + 0.009*\"crude\"\n",
      "2017-09-30 12:05:00,866 : INFO : topic diff=0.045281, rho=0.267261\n",
      "2017-09-30 12:05:02,390 : INFO : -6.872 per-word bound, 117.1 perplexity estimate based on a held-out corpus of 475 documents with 50286 words\n",
      "2017-09-30 12:05:02,390 : INFO : PROGRESS: pass 13, at document #475/475\n",
      "2017-09-30 12:05:02,787 : INFO : topic #0 (0.250): 0.014*\"opec\" + 0.014*\"price\" + 0.013*\"market\" + 0.013*\"dollar\" + 0.011*\"bank\" + 0.010*\"currency\" + 0.010*\"would\" + 0.008*\"country\" + 0.008*\"trade\" + 0.008*\"exchange\"\n",
      "2017-09-30 12:05:02,788 : INFO : topic #1 (0.250): 0.033*\"oil\" + 0.011*\"ecuador\" + 0.010*\"bank\" + 0.010*\"crude\" + 0.010*\"would\" + 0.009*\"minister\" + 0.009*\"dlrs\" + 0.009*\"price\" + 0.008*\"saudi\" + 0.008*\"barrel\"\n",
      "2017-09-30 12:05:02,789 : INFO : topic #2 (0.250): 0.040*\"trade\" + 0.020*\"japan\" + 0.013*\"market\" + 0.013*\"would\" + 0.012*\"japanese\" + 0.009*\"mln\" + 0.009*\"official\" + 0.009*\"bill\" + 0.008*\"stg\" + 0.008*\"import\"\n",
      "2017-09-30 12:05:02,790 : INFO : topic #3 (0.250): 0.027*\"oil\" + 0.020*\"mln\" + 0.020*\"dlrs\" + 0.015*\"billion\" + 0.013*\"year\" + 0.012*\"pct\" + 0.010*\"price\" + 0.010*\"bpd\" + 0.010*\"barrel\" + 0.009*\"crude\"\n",
      "2017-09-30 12:05:02,791 : INFO : topic diff=0.040777, rho=0.258199\n",
      "2017-09-30 12:05:04,295 : INFO : -6.869 per-word bound, 116.9 perplexity estimate based on a held-out corpus of 475 documents with 50286 words\n",
      "2017-09-30 12:05:04,296 : INFO : PROGRESS: pass 14, at document #475/475\n",
      "2017-09-30 12:05:04,701 : INFO : topic #0 (0.250): 0.014*\"opec\" + 0.014*\"market\" + 0.013*\"price\" + 0.013*\"dollar\" + 0.011*\"bank\" + 0.011*\"currency\" + 0.010*\"would\" + 0.008*\"country\" + 0.008*\"exchange\" + 0.008*\"rate\"\n"
     ]
    },
    {
     "name": "stderr",
     "output_type": "stream",
     "text": [
      "2017-09-30 12:05:04,702 : INFO : topic #1 (0.250): 0.033*\"oil\" + 0.011*\"ecuador\" + 0.010*\"crude\" + 0.010*\"bank\" + 0.010*\"would\" + 0.009*\"minister\" + 0.009*\"dlrs\" + 0.009*\"price\" + 0.008*\"saudi\" + 0.008*\"barrel\"\n",
      "2017-09-30 12:05:04,702 : INFO : topic #2 (0.250): 0.040*\"trade\" + 0.020*\"japan\" + 0.013*\"market\" + 0.013*\"would\" + 0.012*\"japanese\" + 0.009*\"mln\" + 0.009*\"official\" + 0.009*\"bill\" + 0.008*\"stg\" + 0.008*\"import\"\n",
      "2017-09-30 12:05:04,703 : INFO : topic #3 (0.250): 0.028*\"oil\" + 0.020*\"mln\" + 0.020*\"dlrs\" + 0.015*\"billion\" + 0.013*\"year\" + 0.012*\"pct\" + 0.011*\"price\" + 0.010*\"bpd\" + 0.010*\"barrel\" + 0.009*\"crude\"\n",
      "2017-09-30 12:05:04,704 : INFO : topic diff=0.037041, rho=0.250000\n",
      "2017-09-30 12:05:06,197 : INFO : -6.866 per-word bound, 116.7 perplexity estimate based on a held-out corpus of 475 documents with 50286 words\n",
      "2017-09-30 12:05:06,198 : INFO : PROGRESS: pass 15, at document #475/475\n",
      "2017-09-30 12:05:06,591 : INFO : topic #0 (0.250): 0.014*\"opec\" + 0.014*\"market\" + 0.013*\"dollar\" + 0.013*\"price\" + 0.011*\"bank\" + 0.011*\"currency\" + 0.010*\"would\" + 0.008*\"rate\" + 0.008*\"exchange\" + 0.008*\"country\"\n",
      "2017-09-30 12:05:06,592 : INFO : topic #1 (0.250): 0.034*\"oil\" + 0.011*\"ecuador\" + 0.010*\"crude\" + 0.010*\"would\" + 0.010*\"bank\" + 0.009*\"minister\" + 0.009*\"dlrs\" + 0.009*\"price\" + 0.008*\"saudi\" + 0.008*\"barrel\"\n",
      "2017-09-30 12:05:06,593 : INFO : topic #2 (0.250): 0.040*\"trade\" + 0.020*\"japan\" + 0.013*\"market\" + 0.013*\"would\" + 0.012*\"japanese\" + 0.009*\"mln\" + 0.009*\"official\" + 0.009*\"bill\" + 0.008*\"stg\" + 0.008*\"import\"\n",
      "2017-09-30 12:05:06,594 : INFO : topic #3 (0.250): 0.028*\"oil\" + 0.020*\"mln\" + 0.020*\"dlrs\" + 0.015*\"billion\" + 0.013*\"year\" + 0.013*\"pct\" + 0.011*\"price\" + 0.010*\"bpd\" + 0.010*\"barrel\" + 0.009*\"crude\"\n",
      "2017-09-30 12:05:06,595 : INFO : topic diff=0.034163, rho=0.242536\n",
      "2017-09-30 12:05:08,081 : INFO : -6.864 per-word bound, 116.4 perplexity estimate based on a held-out corpus of 475 documents with 50286 words\n",
      "2017-09-30 12:05:08,081 : INFO : PROGRESS: pass 16, at document #475/475\n",
      "2017-09-30 12:05:08,484 : INFO : topic #0 (0.250): 0.014*\"market\" + 0.014*\"dollar\" + 0.013*\"opec\" + 0.013*\"price\" + 0.012*\"bank\" + 0.011*\"currency\" + 0.010*\"would\" + 0.008*\"rate\" + 0.008*\"exchange\" + 0.008*\"country\"\n",
      "2017-09-30 12:05:08,484 : INFO : topic #1 (0.250): 0.034*\"oil\" + 0.012*\"ecuador\" + 0.010*\"crude\" + 0.010*\"would\" + 0.009*\"bank\" + 0.009*\"minister\" + 0.009*\"dlrs\" + 0.009*\"price\" + 0.008*\"saudi\" + 0.008*\"barrel\"\n",
      "2017-09-30 12:05:08,485 : INFO : topic #2 (0.250): 0.040*\"trade\" + 0.020*\"japan\" + 0.013*\"market\" + 0.013*\"would\" + 0.012*\"japanese\" + 0.009*\"mln\" + 0.009*\"official\" + 0.009*\"bill\" + 0.008*\"stg\" + 0.008*\"import\"\n",
      "2017-09-30 12:05:08,486 : INFO : topic #3 (0.250): 0.028*\"oil\" + 0.021*\"mln\" + 0.020*\"dlrs\" + 0.015*\"billion\" + 0.013*\"year\" + 0.013*\"pct\" + 0.011*\"price\" + 0.011*\"bpd\" + 0.010*\"barrel\" + 0.010*\"crude\"\n",
      "2017-09-30 12:05:08,487 : INFO : topic diff=0.031787, rho=0.235702\n",
      "2017-09-30 12:05:09,952 : INFO : -6.861 per-word bound, 116.2 perplexity estimate based on a held-out corpus of 475 documents with 50286 words\n",
      "2017-09-30 12:05:09,953 : INFO : PROGRESS: pass 17, at document #475/475\n",
      "2017-09-30 12:05:10,343 : INFO : topic #0 (0.250): 0.014*\"market\" + 0.014*\"dollar\" + 0.013*\"opec\" + 0.013*\"price\" + 0.012*\"bank\" + 0.011*\"currency\" + 0.010*\"would\" + 0.009*\"rate\" + 0.008*\"exchange\" + 0.008*\"country\"\n",
      "2017-09-30 12:05:10,344 : INFO : topic #1 (0.250): 0.034*\"oil\" + 0.012*\"ecuador\" + 0.011*\"crude\" + 0.010*\"would\" + 0.010*\"minister\" + 0.009*\"dlrs\" + 0.009*\"bank\" + 0.009*\"price\" + 0.008*\"saudi\" + 0.008*\"barrel\"\n",
      "2017-09-30 12:05:10,345 : INFO : topic #2 (0.250): 0.040*\"trade\" + 0.020*\"japan\" + 0.013*\"would\" + 0.013*\"market\" + 0.012*\"japanese\" + 0.009*\"mln\" + 0.009*\"official\" + 0.009*\"bill\" + 0.008*\"stg\" + 0.008*\"import\"\n",
      "2017-09-30 12:05:10,345 : INFO : topic #3 (0.250): 0.029*\"oil\" + 0.021*\"mln\" + 0.020*\"dlrs\" + 0.016*\"billion\" + 0.013*\"year\" + 0.013*\"pct\" + 0.011*\"price\" + 0.011*\"bpd\" + 0.010*\"barrel\" + 0.010*\"crude\"\n",
      "2017-09-30 12:05:10,346 : INFO : topic diff=0.029921, rho=0.229416\n",
      "2017-09-30 12:05:11,845 : INFO : -6.859 per-word bound, 116.0 perplexity estimate based on a held-out corpus of 475 documents with 50286 words\n",
      "2017-09-30 12:05:11,846 : INFO : PROGRESS: pass 18, at document #475/475\n",
      "2017-09-30 12:05:12,229 : INFO : topic #0 (0.250): 0.014*\"dollar\" + 0.014*\"market\" + 0.013*\"bank\" + 0.013*\"opec\" + 0.012*\"price\" + 0.011*\"currency\" + 0.010*\"would\" + 0.009*\"rate\" + 0.009*\"exchange\" + 0.008*\"country\"\n",
      "2017-09-30 12:05:12,230 : INFO : topic #1 (0.250): 0.035*\"oil\" + 0.012*\"ecuador\" + 0.011*\"crude\" + 0.010*\"would\" + 0.010*\"minister\" + 0.009*\"dlrs\" + 0.009*\"price\" + 0.009*\"bank\" + 0.009*\"saudi\" + 0.008*\"barrel\"\n",
      "2017-09-30 12:05:12,230 : INFO : topic #2 (0.250): 0.040*\"trade\" + 0.020*\"japan\" + 0.013*\"would\" + 0.013*\"market\" + 0.012*\"japanese\" + 0.009*\"mln\" + 0.009*\"official\" + 0.009*\"bill\" + 0.008*\"stg\" + 0.008*\"import\"\n",
      "2017-09-30 12:05:12,231 : INFO : topic #3 (0.250): 0.029*\"oil\" + 0.021*\"mln\" + 0.020*\"dlrs\" + 0.016*\"billion\" + 0.013*\"year\" + 0.013*\"pct\" + 0.011*\"price\" + 0.011*\"bpd\" + 0.010*\"barrel\" + 0.010*\"crude\"\n",
      "2017-09-30 12:05:12,232 : INFO : topic diff=0.028304, rho=0.223607\n",
      "2017-09-30 12:05:13,741 : INFO : -6.856 per-word bound, 115.9 perplexity estimate based on a held-out corpus of 475 documents with 50286 words\n",
      "2017-09-30 12:05:13,742 : INFO : PROGRESS: pass 19, at document #475/475\n",
      "2017-09-30 12:05:14,133 : INFO : topic #0 (0.250): 0.014*\"dollar\" + 0.014*\"market\" + 0.013*\"bank\" + 0.012*\"opec\" + 0.012*\"price\" + 0.011*\"currency\" + 0.010*\"would\" + 0.009*\"rate\" + 0.009*\"exchange\" + 0.008*\"country\"\n",
      "2017-09-30 12:05:14,134 : INFO : topic #1 (0.250): 0.035*\"oil\" + 0.012*\"ecuador\" + 0.011*\"crude\" + 0.010*\"would\" + 0.010*\"minister\" + 0.009*\"dlrs\" + 0.009*\"price\" + 0.009*\"saudi\" + 0.008*\"bank\" + 0.008*\"barrel\"\n",
      "2017-09-30 12:05:14,135 : INFO : topic #2 (0.250): 0.040*\"trade\" + 0.020*\"japan\" + 0.013*\"would\" + 0.013*\"market\" + 0.012*\"japanese\" + 0.009*\"mln\" + 0.009*\"official\" + 0.009*\"bill\" + 0.008*\"stg\" + 0.008*\"import\"\n",
      "2017-09-30 12:05:14,136 : INFO : topic #3 (0.250): 0.029*\"oil\" + 0.021*\"mln\" + 0.020*\"dlrs\" + 0.016*\"billion\" + 0.013*\"year\" + 0.013*\"pct\" + 0.011*\"price\" + 0.011*\"bpd\" + 0.010*\"barrel\" + 0.010*\"crude\"\n",
      "2017-09-30 12:05:14,137 : INFO : topic diff=0.026791, rho=0.218218\n"
     ]
    },
    {
     "name": "stdout",
     "output_type": "stream",
     "text": [
      "CPU times: user 39.9 s, sys: 98.8 ms, total: 40 s\n",
      "Wall time: 40 s\n"
     ]
    }
   ],
   "source": [
    "# Different models can be compared using such metrics\n",
    "\n",
    "%time lda4 = gensim.models.ldamodel.LdaModel(dtm_train, num_topics = 4, id2word = dictionary, passes = 20)"
   ]
  },
  {
   "cell_type": "code",
   "execution_count": 25,
   "metadata": {},
   "outputs": [
    {
     "data": {
      "text/plain": [
       "[(0,\n",
       "  '0.014*\"dollar\" + 0.014*\"market\" + 0.013*\"bank\" + 0.012*\"opec\" + 0.012*\"price\" + 0.011*\"currency\" + 0.010*\"would\" + 0.009*\"rate\" + 0.009*\"exchange\" + 0.008*\"country\"'),\n",
       " (1,\n",
       "  '0.035*\"oil\" + 0.012*\"ecuador\" + 0.011*\"crude\" + 0.010*\"would\" + 0.010*\"minister\" + 0.009*\"dlrs\" + 0.009*\"price\" + 0.009*\"saudi\" + 0.008*\"bank\" + 0.008*\"barrel\"'),\n",
       " (2,\n",
       "  '0.040*\"trade\" + 0.020*\"japan\" + 0.013*\"would\" + 0.013*\"market\" + 0.012*\"japanese\" + 0.009*\"mln\" + 0.009*\"official\" + 0.009*\"bill\" + 0.008*\"stg\" + 0.008*\"import\"'),\n",
       " (3,\n",
       "  '0.029*\"oil\" + 0.021*\"mln\" + 0.020*\"dlrs\" + 0.016*\"billion\" + 0.013*\"year\" + 0.013*\"pct\" + 0.011*\"price\" + 0.011*\"bpd\" + 0.010*\"barrel\" + 0.010*\"crude\"')]"
      ]
     },
     "execution_count": 25,
     "metadata": {},
     "output_type": "execute_result"
    }
   ],
   "source": [
    "lda4.show_topics()"
   ]
  },
  {
   "cell_type": "code",
   "execution_count": 26,
   "metadata": {},
   "outputs": [
    {
     "data": {
      "text/plain": [
       "-2.4709021811762817"
      ]
     },
     "execution_count": 26,
     "metadata": {},
     "output_type": "execute_result"
    }
   ],
   "source": [
    "test_coherence4 = [ n for _, n in lda4.top_topics(dtm_test) ]\n",
    "np.mean(test_coherence4)"
   ]
  },
  {
   "cell_type": "code",
   "execution_count": 27,
   "metadata": {},
   "outputs": [
    {
     "name": "stderr",
     "output_type": "stream",
     "text": [
      "2017-09-30 12:05:14,180 : INFO : using symmetric alpha at 0.5\n",
      "2017-09-30 12:05:14,181 : INFO : using symmetric eta at 0.0004108463434675431\n",
      "2017-09-30 12:05:14,183 : INFO : using serial LDA version on this node\n",
      "2017-09-30 12:05:14,209 : INFO : running online (multi-pass) LDA training, 2 topics, 20 passes over the supplied corpus of 475 documents, updating model once every 475 documents, evaluating perplexity every 475 documents, iterating 50x with a convergence threshold of 0.001000\n",
      "2017-09-30 12:05:15,982 : INFO : -8.212 per-word bound, 296.4 perplexity estimate based on a held-out corpus of 475 documents with 50286 words\n",
      "2017-09-30 12:05:15,983 : INFO : PROGRESS: pass 0, at document #475/475\n",
      "2017-09-30 12:05:16,668 : INFO : topic #0 (0.500): 0.014*\"oil\" + 0.013*\"trade\" + 0.011*\"would\" + 0.009*\"dlrs\" + 0.009*\"mln\" + 0.009*\"billion\" + 0.008*\"year\" + 0.008*\"bank\" + 0.007*\"japan\" + 0.007*\"pct\"\n",
      "2017-09-30 12:05:16,669 : INFO : topic #1 (0.500): 0.020*\"trade\" + 0.015*\"oil\" + 0.011*\"mln\" + 0.010*\"price\" + 0.010*\"market\" + 0.009*\"japan\" + 0.008*\"dlrs\" + 0.007*\"would\" + 0.007*\"opec\" + 0.007*\"year\"\n",
      "2017-09-30 12:05:16,670 : INFO : topic diff=0.889013, rho=1.000000\n",
      "2017-09-30 12:05:18,402 : INFO : -7.046 per-word bound, 132.1 perplexity estimate based on a held-out corpus of 475 documents with 50286 words\n",
      "2017-09-30 12:05:18,402 : INFO : PROGRESS: pass 1, at document #475/475\n",
      "2017-09-30 12:05:19,050 : INFO : topic #0 (0.500): 0.013*\"oil\" + 0.012*\"trade\" + 0.010*\"would\" + 0.010*\"dlrs\" + 0.010*\"billion\" + 0.010*\"mln\" + 0.009*\"bank\" + 0.008*\"year\" + 0.008*\"pct\" + 0.007*\"market\"\n",
      "2017-09-30 12:05:19,051 : INFO : topic #1 (0.500): 0.021*\"trade\" + 0.016*\"oil\" + 0.011*\"price\" + 0.011*\"mln\" + 0.010*\"market\" + 0.010*\"japan\" + 0.009*\"opec\" + 0.008*\"would\" + 0.007*\"dlrs\" + 0.007*\"year\"\n",
      "2017-09-30 12:05:19,052 : INFO : topic diff=0.172254, rho=0.577350\n",
      "2017-09-30 12:05:20,708 : INFO : -7.007 per-word bound, 128.6 perplexity estimate based on a held-out corpus of 475 documents with 50286 words\n",
      "2017-09-30 12:05:20,708 : INFO : PROGRESS: pass 2, at document #475/475\n",
      "2017-09-30 12:05:21,306 : INFO : topic #0 (0.500): 0.013*\"oil\" + 0.011*\"trade\" + 0.011*\"bank\" + 0.010*\"billion\" + 0.010*\"dlrs\" + 0.010*\"mln\" + 0.010*\"would\" + 0.008*\"pct\" + 0.008*\"year\" + 0.007*\"market\"\n",
      "2017-09-30 12:05:21,307 : INFO : topic #1 (0.500): 0.022*\"trade\" + 0.016*\"oil\" + 0.011*\"price\" + 0.011*\"japan\" + 0.010*\"mln\" + 0.010*\"market\" + 0.009*\"opec\" + 0.009*\"would\" + 0.007*\"official\" + 0.007*\"dlrs\"\n",
      "2017-09-30 12:05:21,308 : INFO : topic diff=0.136642, rho=0.500000\n",
      "2017-09-30 12:05:23,160 : INFO : -6.979 per-word bound, 126.2 perplexity estimate based on a held-out corpus of 475 documents with 50286 words\n",
      "2017-09-30 12:05:23,161 : INFO : PROGRESS: pass 3, at document #475/475\n",
      "2017-09-30 12:05:23,799 : INFO : topic #0 (0.500): 0.013*\"oil\" + 0.012*\"bank\" + 0.011*\"billion\" + 0.011*\"dlrs\" + 0.010*\"mln\" + 0.010*\"trade\" + 0.009*\"would\" + 0.008*\"pct\" + 0.008*\"year\" + 0.007*\"market\"\n",
      "2017-09-30 12:05:23,800 : INFO : topic #1 (0.500): 0.022*\"trade\" + 0.016*\"oil\" + 0.011*\"japan\" + 0.011*\"price\" + 0.010*\"opec\" + 0.010*\"mln\" + 0.010*\"market\" + 0.009*\"would\" + 0.008*\"official\" + 0.007*\"japanese\"\n",
      "2017-09-30 12:05:23,801 : INFO : topic diff=0.106119, rho=0.447214\n",
      "2017-09-30 12:05:25,688 : INFO : -6.963 per-word bound, 124.7 perplexity estimate based on a held-out corpus of 475 documents with 50286 words\n",
      "2017-09-30 12:05:25,689 : INFO : PROGRESS: pass 4, at document #475/475\n",
      "2017-09-30 12:05:26,215 : INFO : topic #0 (0.500): 0.013*\"oil\" + 0.012*\"bank\" + 0.011*\"billion\" + 0.011*\"dlrs\" + 0.011*\"mln\" + 0.010*\"trade\" + 0.009*\"would\" + 0.009*\"pct\" + 0.008*\"year\" + 0.008*\"market\"\n",
      "2017-09-30 12:05:26,216 : INFO : topic #1 (0.500): 0.023*\"trade\" + 0.016*\"oil\" + 0.012*\"japan\" + 0.011*\"price\" + 0.010*\"opec\" + 0.009*\"mln\" + 0.009*\"would\" + 0.009*\"market\" + 0.008*\"official\" + 0.008*\"japanese\"\n",
      "2017-09-30 12:05:26,216 : INFO : topic diff=0.081947, rho=0.408248\n",
      "2017-09-30 12:05:27,815 : INFO : -6.952 per-word bound, 123.8 perplexity estimate based on a held-out corpus of 475 documents with 50286 words\n",
      "2017-09-30 12:05:27,816 : INFO : PROGRESS: pass 5, at document #475/475\n",
      "2017-09-30 12:05:28,312 : INFO : topic #0 (0.500): 0.013*\"oil\" + 0.013*\"bank\" + 0.011*\"billion\" + 0.011*\"mln\" + 0.011*\"dlrs\" + 0.009*\"would\" + 0.009*\"trade\" + 0.009*\"pct\" + 0.008*\"year\" + 0.008*\"market\"\n",
      "2017-09-30 12:05:28,313 : INFO : topic #1 (0.500): 0.024*\"trade\" + 0.016*\"oil\" + 0.012*\"japan\" + 0.011*\"price\" + 0.010*\"opec\" + 0.010*\"would\" + 0.009*\"mln\" + 0.009*\"market\" + 0.008*\"official\" + 0.008*\"japanese\"\n",
      "2017-09-30 12:05:28,313 : INFO : topic diff=0.064818, rho=0.377964\n",
      "2017-09-30 12:05:29,865 : INFO : -6.946 per-word bound, 123.3 perplexity estimate based on a held-out corpus of 475 documents with 50286 words\n",
      "2017-09-30 12:05:29,866 : INFO : PROGRESS: pass 6, at document #475/475\n",
      "2017-09-30 12:05:30,348 : INFO : topic #0 (0.500): 0.014*\"oil\" + 0.013*\"bank\" + 0.011*\"billion\" + 0.011*\"mln\" + 0.011*\"dlrs\" + 0.009*\"would\" + 0.009*\"pct\" + 0.008*\"trade\" + 0.008*\"market\" + 0.008*\"year\"\n",
      "2017-09-30 12:05:30,349 : INFO : topic #1 (0.500): 0.025*\"trade\" + 0.016*\"oil\" + 0.012*\"japan\" + 0.011*\"price\" + 0.011*\"opec\" + 0.010*\"would\" + 0.009*\"market\" + 0.009*\"mln\" + 0.008*\"official\" + 0.008*\"japanese\"\n",
      "2017-09-30 12:05:30,350 : INFO : topic diff=0.053326, rho=0.353553\n",
      "2017-09-30 12:05:31,896 : INFO : -6.941 per-word bound, 122.8 perplexity estimate based on a held-out corpus of 475 documents with 50286 words\n",
      "2017-09-30 12:05:31,897 : INFO : PROGRESS: pass 7, at document #475/475\n",
      "2017-09-30 12:05:32,375 : INFO : topic #0 (0.500): 0.014*\"oil\" + 0.013*\"bank\" + 0.011*\"mln\" + 0.011*\"billion\" + 0.011*\"dlrs\" + 0.009*\"pct\" + 0.009*\"would\" + 0.008*\"market\" + 0.008*\"trade\" + 0.008*\"year\"\n",
      "2017-09-30 12:05:32,376 : INFO : topic #1 (0.500): 0.025*\"trade\" + 0.015*\"oil\" + 0.012*\"japan\" + 0.011*\"price\" + 0.011*\"opec\" + 0.010*\"would\" + 0.009*\"market\" + 0.009*\"mln\" + 0.008*\"official\" + 0.008*\"japanese\"\n",
      "2017-09-30 12:05:32,377 : INFO : topic diff=0.045444, rho=0.333333\n",
      "2017-09-30 12:05:33,993 : INFO : -6.937 per-word bound, 122.5 perplexity estimate based on a held-out corpus of 475 documents with 50286 words\n",
      "2017-09-30 12:05:33,993 : INFO : PROGRESS: pass 8, at document #475/475\n",
      "2017-09-30 12:05:34,472 : INFO : topic #0 (0.500): 0.014*\"oil\" + 0.013*\"bank\" + 0.012*\"mln\" + 0.011*\"billion\" + 0.011*\"dlrs\" + 0.009*\"pct\" + 0.009*\"would\" + 0.008*\"market\" + 0.008*\"year\" + 0.008*\"dollar\"\n",
      "2017-09-30 12:05:34,473 : INFO : topic #1 (0.500): 0.026*\"trade\" + 0.015*\"oil\" + 0.013*\"japan\" + 0.011*\"price\" + 0.011*\"opec\" + 0.010*\"would\" + 0.009*\"market\" + 0.008*\"mln\" + 0.008*\"official\" + 0.008*\"japanese\"\n",
      "2017-09-30 12:05:34,474 : INFO : topic diff=0.039798, rho=0.316228\n",
      "2017-09-30 12:05:36,042 : INFO : -6.934 per-word bound, 122.3 perplexity estimate based on a held-out corpus of 475 documents with 50286 words\n",
      "2017-09-30 12:05:36,043 : INFO : PROGRESS: pass 9, at document #475/475\n",
      "2017-09-30 12:05:36,503 : INFO : topic #0 (0.500): 0.014*\"oil\" + 0.013*\"bank\" + 0.012*\"mln\" + 0.011*\"billion\" + 0.011*\"dlrs\" + 0.009*\"pct\" + 0.009*\"would\" + 0.008*\"market\" + 0.008*\"year\" + 0.008*\"dollar\"\n",
      "2017-09-30 12:05:36,504 : INFO : topic #1 (0.500): 0.026*\"trade\" + 0.015*\"oil\" + 0.013*\"japan\" + 0.011*\"opec\" + 0.011*\"price\" + 0.010*\"would\" + 0.009*\"market\" + 0.008*\"official\" + 0.008*\"japanese\" + 0.008*\"mln\"\n",
      "2017-09-30 12:05:36,504 : INFO : topic diff=0.034861, rho=0.301511\n",
      "2017-09-30 12:05:38,050 : INFO : -6.931 per-word bound, 122.0 perplexity estimate based on a held-out corpus of 475 documents with 50286 words\n",
      "2017-09-30 12:05:38,051 : INFO : PROGRESS: pass 10, at document #475/475\n",
      "2017-09-30 12:05:38,538 : INFO : topic #0 (0.500): 0.015*\"oil\" + 0.013*\"bank\" + 0.012*\"mln\" + 0.012*\"billion\" + 0.011*\"dlrs\" + 0.009*\"pct\" + 0.009*\"would\" + 0.008*\"market\" + 0.008*\"year\" + 0.008*\"dollar\"\n",
      "2017-09-30 12:05:38,539 : INFO : topic #1 (0.500): 0.026*\"trade\" + 0.015*\"oil\" + 0.013*\"japan\" + 0.011*\"opec\" + 0.011*\"price\" + 0.010*\"would\" + 0.009*\"market\" + 0.009*\"official\" + 0.009*\"japanese\" + 0.008*\"mln\"\n",
      "2017-09-30 12:05:38,541 : INFO : topic diff=0.030660, rho=0.288675\n",
      "2017-09-30 12:05:40,177 : INFO : -6.929 per-word bound, 121.8 perplexity estimate based on a held-out corpus of 475 documents with 50286 words\n"
     ]
    },
    {
     "name": "stderr",
     "output_type": "stream",
     "text": [
      "2017-09-30 12:05:40,178 : INFO : PROGRESS: pass 11, at document #475/475\n",
      "2017-09-30 12:05:40,670 : INFO : topic #0 (0.500): 0.015*\"oil\" + 0.013*\"bank\" + 0.012*\"mln\" + 0.012*\"billion\" + 0.011*\"dlrs\" + 0.009*\"pct\" + 0.009*\"would\" + 0.008*\"market\" + 0.008*\"year\" + 0.008*\"dollar\"\n",
      "2017-09-30 12:05:40,672 : INFO : topic #1 (0.500): 0.027*\"trade\" + 0.014*\"oil\" + 0.013*\"japan\" + 0.011*\"opec\" + 0.011*\"price\" + 0.010*\"would\" + 0.009*\"official\" + 0.009*\"market\" + 0.009*\"japanese\" + 0.008*\"mln\"\n",
      "2017-09-30 12:05:40,672 : INFO : topic diff=0.027262, rho=0.277350\n",
      "2017-09-30 12:05:42,253 : INFO : -6.927 per-word bound, 121.7 perplexity estimate based on a held-out corpus of 475 documents with 50286 words\n",
      "2017-09-30 12:05:42,254 : INFO : PROGRESS: pass 12, at document #475/475\n",
      "2017-09-30 12:05:42,733 : INFO : topic #0 (0.500): 0.015*\"oil\" + 0.013*\"bank\" + 0.012*\"mln\" + 0.012*\"billion\" + 0.012*\"dlrs\" + 0.010*\"pct\" + 0.009*\"would\" + 0.008*\"market\" + 0.008*\"year\" + 0.008*\"dollar\"\n",
      "2017-09-30 12:05:42,734 : INFO : topic #1 (0.500): 0.027*\"trade\" + 0.014*\"oil\" + 0.013*\"japan\" + 0.011*\"opec\" + 0.010*\"price\" + 0.010*\"would\" + 0.009*\"official\" + 0.009*\"japanese\" + 0.009*\"market\" + 0.008*\"mln\"\n",
      "2017-09-30 12:05:42,735 : INFO : topic diff=0.024491, rho=0.267261\n",
      "2017-09-30 12:05:44,308 : INFO : -6.926 per-word bound, 121.6 perplexity estimate based on a held-out corpus of 475 documents with 50286 words\n",
      "2017-09-30 12:05:44,308 : INFO : PROGRESS: pass 13, at document #475/475\n",
      "2017-09-30 12:05:44,765 : INFO : topic #0 (0.500): 0.015*\"oil\" + 0.014*\"bank\" + 0.012*\"mln\" + 0.012*\"billion\" + 0.012*\"dlrs\" + 0.010*\"pct\" + 0.009*\"would\" + 0.008*\"market\" + 0.008*\"dollar\" + 0.008*\"year\"\n",
      "2017-09-30 12:05:44,766 : INFO : topic #1 (0.500): 0.027*\"trade\" + 0.014*\"oil\" + 0.013*\"japan\" + 0.011*\"opec\" + 0.010*\"price\" + 0.010*\"would\" + 0.009*\"official\" + 0.009*\"japanese\" + 0.009*\"market\" + 0.008*\"mln\"\n",
      "2017-09-30 12:05:44,767 : INFO : topic diff=0.022230, rho=0.258199\n",
      "2017-09-30 12:05:46,289 : INFO : -6.924 per-word bound, 121.5 perplexity estimate based on a held-out corpus of 475 documents with 50286 words\n",
      "2017-09-30 12:05:46,290 : INFO : PROGRESS: pass 14, at document #475/475\n",
      "2017-09-30 12:05:46,718 : INFO : topic #0 (0.500): 0.016*\"oil\" + 0.014*\"bank\" + 0.013*\"mln\" + 0.012*\"dlrs\" + 0.012*\"billion\" + 0.010*\"pct\" + 0.009*\"would\" + 0.008*\"market\" + 0.008*\"dollar\" + 0.008*\"year\"\n",
      "2017-09-30 12:05:46,719 : INFO : topic #1 (0.500): 0.027*\"trade\" + 0.013*\"oil\" + 0.013*\"japan\" + 0.011*\"opec\" + 0.010*\"price\" + 0.010*\"would\" + 0.009*\"official\" + 0.009*\"japanese\" + 0.009*\"market\" + 0.007*\"mln\"\n",
      "2017-09-30 12:05:46,720 : INFO : topic diff=0.020372, rho=0.250000\n",
      "2017-09-30 12:05:48,241 : INFO : -6.923 per-word bound, 121.4 perplexity estimate based on a held-out corpus of 475 documents with 50286 words\n",
      "2017-09-30 12:05:48,242 : INFO : PROGRESS: pass 15, at document #475/475\n",
      "2017-09-30 12:05:48,670 : INFO : topic #0 (0.500): 0.016*\"oil\" + 0.014*\"bank\" + 0.013*\"mln\" + 0.012*\"dlrs\" + 0.012*\"billion\" + 0.010*\"pct\" + 0.009*\"would\" + 0.008*\"market\" + 0.008*\"dollar\" + 0.008*\"year\"\n",
      "2017-09-30 12:05:48,671 : INFO : topic #1 (0.500): 0.028*\"trade\" + 0.013*\"oil\" + 0.013*\"japan\" + 0.011*\"opec\" + 0.010*\"price\" + 0.010*\"would\" + 0.009*\"official\" + 0.009*\"japanese\" + 0.008*\"market\" + 0.007*\"bpd\"\n",
      "2017-09-30 12:05:48,672 : INFO : topic diff=0.018811, rho=0.242536\n",
      "2017-09-30 12:05:50,191 : INFO : -6.922 per-word bound, 121.3 perplexity estimate based on a held-out corpus of 475 documents with 50286 words\n",
      "2017-09-30 12:05:50,192 : INFO : PROGRESS: pass 16, at document #475/475\n",
      "2017-09-30 12:05:50,617 : INFO : topic #0 (0.500): 0.016*\"oil\" + 0.014*\"bank\" + 0.013*\"mln\" + 0.012*\"dlrs\" + 0.012*\"billion\" + 0.010*\"pct\" + 0.009*\"would\" + 0.008*\"market\" + 0.008*\"dollar\" + 0.008*\"year\"\n",
      "2017-09-30 12:05:50,618 : INFO : topic #1 (0.500): 0.028*\"trade\" + 0.013*\"japan\" + 0.013*\"oil\" + 0.011*\"opec\" + 0.010*\"would\" + 0.010*\"price\" + 0.009*\"official\" + 0.009*\"japanese\" + 0.008*\"market\" + 0.007*\"bpd\"\n",
      "2017-09-30 12:05:50,619 : INFO : topic diff=0.017513, rho=0.235702\n",
      "2017-09-30 12:05:52,111 : INFO : -6.921 per-word bound, 121.2 perplexity estimate based on a held-out corpus of 475 documents with 50286 words\n",
      "2017-09-30 12:05:52,111 : INFO : PROGRESS: pass 17, at document #475/475\n",
      "2017-09-30 12:05:52,522 : INFO : topic #0 (0.500): 0.016*\"oil\" + 0.014*\"bank\" + 0.013*\"mln\" + 0.012*\"dlrs\" + 0.012*\"billion\" + 0.010*\"pct\" + 0.009*\"would\" + 0.008*\"market\" + 0.008*\"dollar\" + 0.008*\"year\"\n",
      "2017-09-30 12:05:52,523 : INFO : topic #1 (0.500): 0.028*\"trade\" + 0.013*\"japan\" + 0.013*\"oil\" + 0.011*\"opec\" + 0.010*\"would\" + 0.010*\"price\" + 0.009*\"official\" + 0.009*\"japanese\" + 0.008*\"market\" + 0.007*\"bpd\"\n",
      "2017-09-30 12:05:52,524 : INFO : topic diff=0.016373, rho=0.229416\n",
      "2017-09-30 12:05:54,015 : INFO : -6.920 per-word bound, 121.1 perplexity estimate based on a held-out corpus of 475 documents with 50286 words\n",
      "2017-09-30 12:05:54,016 : INFO : PROGRESS: pass 18, at document #475/475\n",
      "2017-09-30 12:05:54,446 : INFO : topic #0 (0.500): 0.017*\"oil\" + 0.014*\"bank\" + 0.013*\"mln\" + 0.012*\"dlrs\" + 0.012*\"billion\" + 0.010*\"pct\" + 0.008*\"market\" + 0.008*\"would\" + 0.008*\"dollar\" + 0.008*\"year\"\n",
      "2017-09-30 12:05:54,447 : INFO : topic #1 (0.500): 0.028*\"trade\" + 0.013*\"japan\" + 0.012*\"oil\" + 0.011*\"opec\" + 0.010*\"would\" + 0.010*\"price\" + 0.009*\"official\" + 0.009*\"japanese\" + 0.008*\"market\" + 0.007*\"bpd\"\n",
      "2017-09-30 12:05:54,448 : INFO : topic diff=0.015359, rho=0.223607\n",
      "2017-09-30 12:05:55,947 : INFO : -6.920 per-word bound, 121.1 perplexity estimate based on a held-out corpus of 475 documents with 50286 words\n",
      "2017-09-30 12:05:55,948 : INFO : PROGRESS: pass 19, at document #475/475\n",
      "2017-09-30 12:05:56,365 : INFO : topic #0 (0.500): 0.017*\"oil\" + 0.014*\"bank\" + 0.013*\"mln\" + 0.012*\"dlrs\" + 0.012*\"billion\" + 0.010*\"pct\" + 0.008*\"market\" + 0.008*\"would\" + 0.008*\"dollar\" + 0.008*\"year\"\n",
      "2017-09-30 12:05:56,365 : INFO : topic #1 (0.500): 0.028*\"trade\" + 0.013*\"japan\" + 0.012*\"oil\" + 0.011*\"opec\" + 0.010*\"would\" + 0.010*\"price\" + 0.009*\"official\" + 0.009*\"japanese\" + 0.008*\"market\" + 0.007*\"bpd\"\n",
      "2017-09-30 12:05:56,366 : INFO : topic diff=0.014477, rho=0.218218\n"
     ]
    },
    {
     "name": "stdout",
     "output_type": "stream",
     "text": [
      "CPU times: user 42 s, sys: 118 ms, total: 42.1 s\n",
      "Wall time: 42.2 s\n"
     ]
    },
    {
     "data": {
      "text/plain": [
       "[(0,\n",
       "  '0.017*\"oil\" + 0.014*\"bank\" + 0.013*\"mln\" + 0.012*\"dlrs\" + 0.012*\"billion\" + 0.010*\"pct\" + 0.008*\"market\" + 0.008*\"would\" + 0.008*\"dollar\" + 0.008*\"year\"'),\n",
       " (1,\n",
       "  '0.028*\"trade\" + 0.013*\"japan\" + 0.012*\"oil\" + 0.011*\"opec\" + 0.010*\"would\" + 0.010*\"price\" + 0.009*\"official\" + 0.009*\"japanese\" + 0.008*\"market\" + 0.007*\"bpd\"')]"
      ]
     },
     "execution_count": 27,
     "metadata": {},
     "output_type": "execute_result"
    }
   ],
   "source": [
    "%time lda2 = gensim.models.ldamodel.LdaModel(dtm_train, num_topics = 2, id2word = dictionary, passes = 20)\n",
    "lda2.show_topics()"
   ]
  },
  {
   "cell_type": "code",
   "execution_count": 28,
   "metadata": {},
   "outputs": [
    {
     "data": {
      "text/plain": [
       "-2.1574553582018892"
      ]
     },
     "execution_count": 28,
     "metadata": {},
     "output_type": "execute_result"
    }
   ],
   "source": [
    "test_coherence2 = [ n for _, n in lda2.top_topics(dtm_test) ]\n",
    "np.mean(test_coherence2)"
   ]
  },
  {
   "cell_type": "code",
   "execution_count": 29,
   "metadata": {},
   "outputs": [
    {
     "name": "stderr",
     "output_type": "stream",
     "text": [
      "2017-09-30 12:05:56,389 : INFO : using serial LSI version on this node\n",
      "2017-09-30 12:05:56,391 : INFO : updating model with new documents\n",
      "2017-09-30 12:05:56,392 : INFO : preparing a new chunk of documents\n",
      "2017-09-30 12:05:56,404 : INFO : using 100 extra samples and 2 power iterations\n",
      "2017-09-30 12:05:56,406 : INFO : 1st phase: constructing (2434, 300) action matrix\n",
      "2017-09-30 12:05:56,421 : INFO : orthonormalizing (2434, 300) action matrix\n",
      "2017-09-30 12:05:56,531 : INFO : 2nd phase: running dense svd on (300, 475) matrix\n",
      "2017-09-30 12:05:56,553 : INFO : computing the final decomposition\n",
      "2017-09-30 12:05:56,554 : INFO : keeping 200 factors (discarding 3.966% of energy spectrum)\n",
      "2017-09-30 12:05:56,567 : INFO : processed documents up to #475\n",
      "2017-09-30 12:05:56,568 : INFO : topic #0(149.574): 0.337*\"trade\" + 0.324*\"oil\" + 0.208*\"price\" + 0.204*\"mln\" + 0.189*\"would\" + 0.181*\"opec\" + 0.180*\"dlrs\" + 0.164*\"japan\" + 0.162*\"market\" + 0.162*\"year\"\n",
      "2017-09-30 12:05:56,569 : INFO : topic #1(107.523): 0.519*\"trade\" + -0.388*\"oil\" + -0.268*\"opec\" + -0.237*\"bpd\" + -0.226*\"mln\" + 0.224*\"japan\" + -0.214*\"price\" + -0.138*\"crude\" + -0.120*\"barrel\" + 0.119*\"japanese\"\n",
      "2017-09-30 12:05:56,570 : INFO : topic #2(76.511): -0.418*\"dollar\" + -0.405*\"bank\" + 0.370*\"trade\" + -0.238*\"currency\" + -0.199*\"market\" + -0.158*\"rate\" + -0.147*\"yen\" + -0.146*\"dealer\" + -0.136*\"central\" + -0.127*\"exchange\"\n",
      "2017-09-30 12:05:56,571 : INFO : topic #3(66.218): 0.424*\"oil\" + -0.395*\"mln\" + -0.307*\"bpd\" + -0.262*\"opec\" + 0.219*\"dlrs\" + -0.189*\"japan\" + 0.171*\"billion\" + 0.147*\"pct\" + -0.139*\"japanese\" + -0.136*\"output\"\n",
      "2017-09-30 12:05:56,572 : INFO : topic #4(64.927): -0.490*\"mln\" + 0.310*\"price\" + -0.275*\"billion\" + 0.244*\"opec\" + 0.218*\"japan\" + 0.189*\"japanese\" + -0.181*\"bank\" + -0.174*\"bpd\" + 0.162*\"official\" + -0.122*\"stg\"\n"
     ]
    },
    {
     "name": "stdout",
     "output_type": "stream",
     "text": [
      "CPU times: user 302 ms, sys: 28.4 ms, total: 330 ms\n",
      "Wall time: 184 ms\n"
     ]
    }
   ],
   "source": [
    "%time lsi = gensim.models.LsiModel(dtm_train, id2word=dictionary, num_topics=200)\n"
   ]
  },
  {
   "cell_type": "code",
   "execution_count": 30,
   "metadata": {},
   "outputs": [
    {
     "name": "stderr",
     "output_type": "stream",
     "text": [
      "2017-09-30 12:05:56,579 : INFO : topic #0(149.574): 0.337*\"trade\" + 0.324*\"oil\" + 0.208*\"price\" + 0.204*\"mln\" + 0.189*\"would\" + 0.181*\"opec\" + 0.180*\"dlrs\" + 0.164*\"japan\" + 0.162*\"market\" + 0.162*\"year\"\n",
      "2017-09-30 12:05:56,580 : INFO : topic #1(107.523): 0.519*\"trade\" + -0.388*\"oil\" + -0.268*\"opec\" + -0.237*\"bpd\" + -0.226*\"mln\" + 0.224*\"japan\" + -0.214*\"price\" + -0.138*\"crude\" + -0.120*\"barrel\" + 0.119*\"japanese\"\n",
      "2017-09-30 12:05:56,581 : INFO : topic #2(76.511): -0.418*\"dollar\" + -0.405*\"bank\" + 0.370*\"trade\" + -0.238*\"currency\" + -0.199*\"market\" + -0.158*\"rate\" + -0.147*\"yen\" + -0.146*\"dealer\" + -0.136*\"central\" + -0.127*\"exchange\"\n",
      "2017-09-30 12:05:56,583 : INFO : topic #3(66.218): 0.424*\"oil\" + -0.395*\"mln\" + -0.307*\"bpd\" + -0.262*\"opec\" + 0.219*\"dlrs\" + -0.189*\"japan\" + 0.171*\"billion\" + 0.147*\"pct\" + -0.139*\"japanese\" + -0.136*\"output\"\n",
      "2017-09-30 12:05:56,584 : INFO : topic #4(64.927): -0.490*\"mln\" + 0.310*\"price\" + -0.275*\"billion\" + 0.244*\"opec\" + 0.218*\"japan\" + 0.189*\"japanese\" + -0.181*\"bank\" + -0.174*\"bpd\" + 0.162*\"official\" + -0.122*\"stg\"\n"
     ]
    },
    {
     "data": {
      "text/plain": [
       "[(0,\n",
       "  '0.337*\"trade\" + 0.324*\"oil\" + 0.208*\"price\" + 0.204*\"mln\" + 0.189*\"would\" + 0.181*\"opec\" + 0.180*\"dlrs\" + 0.164*\"japan\" + 0.162*\"market\" + 0.162*\"year\"'),\n",
       " (1,\n",
       "  '0.519*\"trade\" + -0.388*\"oil\" + -0.268*\"opec\" + -0.237*\"bpd\" + -0.226*\"mln\" + 0.224*\"japan\" + -0.214*\"price\" + -0.138*\"crude\" + -0.120*\"barrel\" + 0.119*\"japanese\"'),\n",
       " (2,\n",
       "  '-0.418*\"dollar\" + -0.405*\"bank\" + 0.370*\"trade\" + -0.238*\"currency\" + -0.199*\"market\" + -0.158*\"rate\" + -0.147*\"yen\" + -0.146*\"dealer\" + -0.136*\"central\" + -0.127*\"exchange\"'),\n",
       " (3,\n",
       "  '0.424*\"oil\" + -0.395*\"mln\" + -0.307*\"bpd\" + -0.262*\"opec\" + 0.219*\"dlrs\" + -0.189*\"japan\" + 0.171*\"billion\" + 0.147*\"pct\" + -0.139*\"japanese\" + -0.136*\"output\"'),\n",
       " (4,\n",
       "  '-0.490*\"mln\" + 0.310*\"price\" + -0.275*\"billion\" + 0.244*\"opec\" + 0.218*\"japan\" + 0.189*\"japanese\" + -0.181*\"bank\" + -0.174*\"bpd\" + 0.162*\"official\" + -0.122*\"stg\"')]"
      ]
     },
     "execution_count": 30,
     "metadata": {},
     "output_type": "execute_result"
    }
   ],
   "source": [
    "lsi.print_topics(5)\n"
   ]
  },
  {
   "cell_type": "code",
   "execution_count": 31,
   "metadata": {
    "collapsed": true
   },
   "outputs": [],
   "source": [
    "lsi_test = lsi[dtm_test]"
   ]
  },
  {
   "cell_type": "code",
   "execution_count": 32,
   "metadata": {},
   "outputs": [
    {
     "data": {
      "text/plain": [
       "[(0, 2.8907380134824248),\n",
       " (1, 1.7909116503288862),\n",
       " (2, 0.53732206998022403),\n",
       " (3, 1.8450129666330857),\n",
       " (4, -4.3388467814575149),\n",
       " (5, -0.59046079259362416),\n",
       " (6, -5.5712525778407649),\n",
       " (7, -2.6101993682396474),\n",
       " (8, -3.4441187832214868),\n",
       " (9, 0.29787990358551064),\n",
       " (10, 0.40228719627415355),\n",
       " (11, -3.5223807190680203),\n",
       " (12, 0.18187134074060279),\n",
       " (13, -2.927972338628666),\n",
       " (14, -0.18466128367876561),\n",
       " (15, 0.099085363438607577),\n",
       " (16, 0.21464097942929763),\n",
       " (17, 0.49463065760229241),\n",
       " (18, 0.22348374876822699),\n",
       " (19, -1.8086568914286665),\n",
       " (20, 0.18854768490759369),\n",
       " (21, 1.6099524171346722),\n",
       " (22, -1.3746290019633916),\n",
       " (23, -0.152365894594062),\n",
       " (24, -0.99847647272122553),\n",
       " (25, 1.4038651305260095),\n",
       " (26, 2.1472986468808428),\n",
       " (27, -1.7718058031406143),\n",
       " (28, 1.3820569709156052),\n",
       " (29, 0.59678488475779023),\n",
       " (30, 0.19047721534648515),\n",
       " (31, 0.047812233361052496),\n",
       " (32, 0.16049539411763813),\n",
       " (33, -0.86957451749894488),\n",
       " (34, 0.96116223372872656),\n",
       " (35, 0.83582009232554311),\n",
       " (36, -0.98106628983592303),\n",
       " (37, 0.38986286827554606),\n",
       " (38, -0.58160539489730734),\n",
       " (39, -0.012424500730750422),\n",
       " (40, 0.36473410180316551),\n",
       " (41, -0.26819746087102597),\n",
       " (42, -0.50512085522529282),\n",
       " (43, -0.16886570043190527),\n",
       " (44, -1.0392117735199888),\n",
       " (45, 0.16607164782350956),\n",
       " (46, 1.6139879535126833),\n",
       " (47, 0.07959494861062788),\n",
       " (48, 1.0244086200360565),\n",
       " (49, -0.58048794545091731),\n",
       " (50, -0.11984055959199907),\n",
       " (51, 0.25808990714753199),\n",
       " (52, -1.0159431713941303),\n",
       " (53, 1.5385749249975698),\n",
       " (54, -0.36723449881894082),\n",
       " (55, -0.34815959357605908),\n",
       " (56, 0.73574305041724697),\n",
       " (57, -0.93956965206584619),\n",
       " (58, 0.73750716215065071),\n",
       " (59, 0.35847719265156031),\n",
       " (60, -0.27400363787126419),\n",
       " (61, 0.10448757355875285),\n",
       " (62, -1.5267167156807426),\n",
       " (63, 0.33654902559461891),\n",
       " (64, -1.3811712710588411),\n",
       " (65, 0.48294762060578372),\n",
       " (66, 0.61876872645894898),\n",
       " (67, -0.67492570563188292),\n",
       " (68, -0.19763007866003804),\n",
       " (69, 0.031791968809792764),\n",
       " (70, -1.1707693113235642),\n",
       " (71, 0.51419513594318056),\n",
       " (72, 0.25168268296206459),\n",
       " (73, 0.77188879213623696),\n",
       " (74, 0.6971805586927704),\n",
       " (75, 0.82311241292018833),\n",
       " (76, -0.47407577827343456),\n",
       " (77, 0.47473038969339626),\n",
       " (78, -0.68866282183134708),\n",
       " (79, -0.35103315374441474),\n",
       " (80, 0.15863924015340131),\n",
       " (81, -0.62627648240474032),\n",
       " (82, -0.44043716514871045),\n",
       " (83, -0.54541936157011883),\n",
       " (84, -0.54944160579620338),\n",
       " (85, 0.0086971466866024322),\n",
       " (86, -0.2023004342947044),\n",
       " (87, -0.37133832458470645),\n",
       " (88, 0.49218029877996178),\n",
       " (89, 0.21901056720067738),\n",
       " (90, 0.25909399457373555),\n",
       " (91, 0.86247712865438431),\n",
       " (92, -0.2362163735568403),\n",
       " (93, -0.60743341732888778),\n",
       " (94, 0.71516214875107098),\n",
       " (95, -0.29560530473908131),\n",
       " (96, -0.26157362111435895),\n",
       " (97, 0.031379771565455343),\n",
       " (98, 0.031525643082494142),\n",
       " (99, -0.53227501697178548),\n",
       " (100, 0.58610673585143369),\n",
       " (101, -0.34484918255372726),\n",
       " (102, -0.19847206675905299),\n",
       " (103, 0.34918639693232095),\n",
       " (104, 0.30925875181859885),\n",
       " (105, 0.80886884938743975),\n",
       " (106, -0.27926119108371383),\n",
       " (107, 0.038046099133177545),\n",
       " (108, 0.2876002905510463),\n",
       " (109, -0.1893378657520271),\n",
       " (110, -0.22111834460939547),\n",
       " (111, -0.45434606305083453),\n",
       " (112, -0.55759560340113279),\n",
       " (113, -0.050304328352173654),\n",
       " (114, -0.039751541997319784),\n",
       " (115, -0.22021884001173195),\n",
       " (116, -0.24936763619866908),\n",
       " (117, -0.25967812979528965),\n",
       " (118, 0.26961258622828033),\n",
       " (119, -0.019538065109373608),\n",
       " (120, 0.45223777369701668),\n",
       " (121, -0.22686468011277711),\n",
       " (122, 0.41485577963860454),\n",
       " (123, -0.08173177969327558),\n",
       " (124, -0.14601290597691444),\n",
       " (125, 0.06270518038646776),\n",
       " (126, -0.077832614889051924),\n",
       " (127, 0.44176311111877781),\n",
       " (128, -0.29844211784093644),\n",
       " (129, -0.86771093715512193),\n",
       " (130, 0.31679272833806599),\n",
       " (131, -0.18753252677231377),\n",
       " (132, 0.32171527217462859),\n",
       " (133, 0.17339534434717652),\n",
       " (134, -0.21625335714067434),\n",
       " (135, 0.075010073552783038),\n",
       " (136, 0.2739060741610656),\n",
       " (137, -0.0012784606774434168),\n",
       " (138, 0.48043636332884765),\n",
       " (139, 0.27740034294862703),\n",
       " (140, 0.29574137377733373),\n",
       " (141, -0.13090992542409718),\n",
       " (142, -0.41964220935966817),\n",
       " (143, -0.058469198069195691),\n",
       " (144, -0.3185327031050223),\n",
       " (145, 0.47516744157725921),\n",
       " (146, -0.15682945477801813),\n",
       " (147, -0.072505385427096267),\n",
       " (148, 0.21255812327354628),\n",
       " (149, 0.32636262586632481),\n",
       " (150, 0.025017963311278011),\n",
       " (151, 0.36171577449829179),\n",
       " (152, 0.18666010858388632),\n",
       " (153, -0.030384975412582605),\n",
       " (154, -0.16290912597826618),\n",
       " (155, 0.26111373687984818),\n",
       " (156, 0.30010026732371969),\n",
       " (157, -0.10121677738776259),\n",
       " (158, -0.25166338934512511),\n",
       " (159, -0.12228863886226486),\n",
       " (160, -0.60656382056015956),\n",
       " (161, 0.14897722673466768),\n",
       " (162, -0.42931255859917838),\n",
       " (163, 0.56985025853389359),\n",
       " (164, 0.18949628037385047),\n",
       " (165, -0.054807410276521182),\n",
       " (166, -0.43233359190075632),\n",
       " (167, -0.47343106151389092),\n",
       " (168, -0.25344757705264104),\n",
       " (169, 0.17902375822049058),\n",
       " (170, 0.11122872819112495),\n",
       " (171, 0.19589077319822237),\n",
       " (172, -0.32180823991100721),\n",
       " (173, 0.0257729011712068),\n",
       " (174, -0.33766222589956957),\n",
       " (175, 0.34187983824073775),\n",
       " (176, 0.0097563752384956896),\n",
       " (177, 0.084721239836475309),\n",
       " (178, -0.064192133667009682),\n",
       " (179, -0.12620315806046931),\n",
       " (180, -0.23842190262378449),\n",
       " (181, -0.13288013309801358),\n",
       " (182, -0.063605821556213263),\n",
       " (183, -0.022272608229761619),\n",
       " (184, -0.17026403429468429),\n",
       " (185, 0.062964606945479284),\n",
       " (186, 0.084530484475599549),\n",
       " (187, 0.289211164698436),\n",
       " (188, -0.45331945335218926),\n",
       " (189, 0.011991778880480324),\n",
       " (190, 0.16971990551147537),\n",
       " (191, -0.065439055495307069),\n",
       " (192, 0.13966789307479643),\n",
       " (193, -0.096105331728415191),\n",
       " (194, -0.12674292011026528),\n",
       " (195, 0.17832501634868428),\n",
       " (196, -0.006637116301448363),\n",
       " (197, -0.23253415517580495),\n",
       " (198, -0.041816364665674975),\n",
       " (199, 0.22733816906099039)]"
      ]
     },
     "execution_count": 32,
     "metadata": {},
     "output_type": "execute_result"
    }
   ],
   "source": [
    "lsi_test[0]\n"
   ]
  },
  {
   "cell_type": "code",
   "execution_count": null,
   "metadata": {
    "collapsed": true
   },
   "outputs": [],
   "source": []
  }
 ],
 "metadata": {
  "kernelspec": {
   "display_name": "Python 3",
   "language": "python",
   "name": "python3"
  },
  "language_info": {
   "codemirror_mode": {
    "name": "ipython",
    "version": 3
   },
   "file_extension": ".py",
   "mimetype": "text/x-python",
   "name": "python",
   "nbconvert_exporter": "python",
   "pygments_lexer": "ipython3",
   "version": "3.5.0"
  }
 },
 "nbformat": 4,
 "nbformat_minor": 2
}
